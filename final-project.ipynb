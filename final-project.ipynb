{
  "cells": [
    {
      "cell_type": "markdown",
      "metadata": {
        "id": "view-in-github",
        "colab_type": "text"
      },
      "source": [
        "<a href=\"https://colab.research.google.com/github/TheOctoMizer/AAI-510-Project/blob/main/final-project.ipynb\" target=\"_parent\"><img src=\"https://colab.research.google.com/assets/colab-badge.svg\" alt=\"Open In Colab\"/></a>"
      ]
    },
    {
      "cell_type": "markdown",
      "source": [
        "## 1. Business Understanding\n",
        "\n",
        "Twitter sentiment analysis helps brands, governments, and researchers understand public opinion in real time.\n",
        "\n",
        "**Business Need:** Build a multilingual sentiment classifier (English, French, Portuguese) that classifies tweets as:\n",
        "- Positive\n",
        "- Negative\n",
        "\n",
        "This will enable:\n",
        "- Monitoring brand perception\n",
        "- Tracking political sentiment\n",
        "- Analyzing feedback across diverse markets"
      ],
      "metadata": {
        "id": "_NQQ1fxScibq"
      }
    },
    {
      "cell_type": "markdown",
      "source": [
        "## 2. Data Understanding\n",
        "\n",
        "You have 3 datasets:\n",
        "- 🇬🇧 English: 100k+ samples with text and sentiment\n",
        "- 🇫🇷 French: ~9 lakh samples, but lacks \"neutral\"\n",
        "- 🇵🇹 Portuguese: ~6 lakh samples\n",
        "\n",
        "Challenges:\n",
        "- Label format inconsistencies (e.g., 0/1/2, strings)\n",
        "- Extra columns\n",
        "- Missing/imbalanced classes"
      ],
      "metadata": {
        "id": "pwW12qRKrBql"
      }
    },
    {
      "cell_type": "code",
      "source": [
        "import pandas as pd\n",
        "import seaborn as sns\n",
        "import matplotlib.pyplot as plt\n",
        "from sklearn.model_selection import train_test_split\n",
        "import torch\n",
        "from transformers import AutoTokenizer, AutoModelForSequenceClassification, Trainer, TrainingArguments\n",
        "from datasets import Dataset\n",
        "import numpy as np\n",
        "from sklearn.metrics import classification_report, confusion_matrix, accuracy_score, f1_score"
      ],
      "metadata": {
        "id": "YwYhjkrLsNLO"
      },
      "execution_count": null,
      "outputs": []
    },
    {
      "cell_type": "markdown",
      "source": [
        "## 3. Data Preparation\n",
        "\n",
        "Steps:\n",
        "- Clean column formats\n",
        "- Drop extra columns\n",
        "- Map labels to 'positive'/'negative'\n",
        "- Remove neutral samples\n",
        "- Stratified downsample to 65k per language\n",
        "- Combine into 195k multilingual dataset"
      ],
      "metadata": {
        "id": "5dy8m54QshPv"
      }
    },
    {
      "cell_type": "code",
      "source": [
        "from google.colab import drive\n",
        "drive.mount('/content/drive')\n",
        "base_path = '/content/drive/My Drive/AAI-510-Dataset'"
      ],
      "metadata": {
        "id": "NFsn3rKusYjG",
        "outputId": "f0a70748-9ccc-418c-82a0-4fc893207385",
        "colab": {
          "base_uri": "https://localhost:8080/"
        }
      },
      "execution_count": null,
      "outputs": [
        {
          "output_type": "stream",
          "name": "stdout",
          "text": [
            "Drive already mounted at /content/drive; to attempt to forcibly remount, call drive.mount(\"/content/drive\", force_remount=True).\n"
          ]
        }
      ]
    },
    {
      "cell_type": "code",
      "source": [
        "def stratified_downsample(df, sample_size):\n",
        "    label_dist = df['label'].value_counts(normalize=True).to_dict()\n",
        "    samples = []\n",
        "    for label, ratio in label_dist.items():\n",
        "        n = int(sample_size * ratio)\n",
        "        part = df[df['label'] == label].sample(n=n, random_state=42)\n",
        "        samples.append(part)\n",
        "    return pd.concat(samples).sample(frac=1, random_state=42).reset_index(drop=True)"
      ],
      "metadata": {
        "id": "fDYQvvFMsqxY"
      },
      "execution_count": null,
      "outputs": []
    },
    {
      "cell_type": "code",
      "source": [
        "import pandas as pd\n",
        "\n",
        "# ------------------------\n",
        "# 🟢 1. Portuguese Dataset\n",
        "# ------------------------\n",
        "\n",
        "def process_portuguese(input_path, output_path):\n",
        "    df = pd.read_csv(input_path, sep=';', quoting=3, encoding='utf-8', on_bad_lines='skip')\n",
        "\n",
        "    # Keep only necessary columns\n",
        "    df = df[['tweet_text', 'sentiment']]\n",
        "    df.columns = ['text', 'label']\n",
        "    df['language'] = 'pt'\n",
        "\n",
        "    label_map = {\n",
        "        '0': 'negative', '1': 'positive', '2': 'neutral',\n",
        "        0: 'negative', 1: 'positive', 2: 'neutral'\n",
        "    }\n",
        "    df['label'] = df['label'].map(label_map)\n",
        "    df = df[df['label'].isin(['positive', 'negative'])]\n",
        "    df.info()\n",
        "    # Stratified downsample\n",
        "    sampled = stratified_downsample(df, 65000)\n",
        "    sampled.to_csv(output_path, index=False)\n",
        "    print(f\"✅ Portuguese dataset saved: {output_path}\")"
      ],
      "metadata": {
        "id": "8WMDdlbwssqc"
      },
      "execution_count": null,
      "outputs": []
    },
    {
      "cell_type": "code",
      "source": [
        "# --------------------\n",
        "# 🟢 2. English Dataset\n",
        "# --------------------\n",
        "\n",
        "def process_english(input_path, output_path):\n",
        "    df = pd.read_csv(input_path)\n",
        "    df = df[['Text', 'Label']]\n",
        "    df.columns = ['text', 'label']\n",
        "    df['language'] = 'en'\n",
        "\n",
        "    df['label'] = df['label'].astype(str).str.lower().str.strip()\n",
        "    df = df[df['label'].isin(['positive', 'negative'])]\n",
        "\n",
        "    sampled = stratified_downsample(df, 65000)\n",
        "    sampled.to_csv(output_path, index=False)\n",
        "    print(f\"✅ English dataset saved: {output_path}\")"
      ],
      "metadata": {
        "id": "ITHE_ZL9susJ"
      },
      "execution_count": null,
      "outputs": []
    },
    {
      "cell_type": "code",
      "source": [
        "# -------------------\n",
        "# 🟢 3. French Dataset\n",
        "# -------------------\n",
        "\n",
        "def process_french(input_path, output_path):\n",
        "    df = pd.read_csv(input_path)\n",
        "    df = df[['text', 'label']]\n",
        "    df.columns = ['text', 'label']\n",
        "    df['language'] = 'fr'\n",
        "\n",
        "    label_map = {\n",
        "        '0': 'negative', '1': 'positive', '2': 'neutral',\n",
        "        0: 'negative', 1: 'positive', 2: 'neutral'\n",
        "    }\n",
        "    df['label'] = df['label'].map(label_map)\n",
        "    df = df[df['label'].isin(['positive', 'negative'])]\n",
        "\n",
        "    sampled = stratified_downsample(df, 65000)\n",
        "    sampled.to_csv(output_path, index=False)\n",
        "    print(f\"✅ French dataset saved: {output_path}\")"
      ],
      "metadata": {
        "id": "OQp_ECsjswRb"
      },
      "execution_count": null,
      "outputs": []
    },
    {
      "cell_type": "code",
      "source": [
        "process_portuguese(f\"{base_path}/portuguese.csv\", f\"{base_path}/portuguese_cleaned_65k.csv\")\n",
        "process_english(f\"{base_path}/english.csv\", f\"{base_path}/english_cleaned_65k.csv\")\n",
        "process_french(f\"{base_path}/french.csv\", f\"{base_path}/french_cleaned_65k.csv\")"
      ],
      "metadata": {
        "id": "x7_fhiPLsx_V",
        "colab": {
          "base_uri": "https://localhost:8080/"
        },
        "outputId": "8a857853-0525-46fc-c438-392d251f1699"
      },
      "execution_count": null,
      "outputs": [
        {
          "output_type": "stream",
          "name": "stdout",
          "text": [
            "<class 'pandas.core.frame.DataFrame'>\n",
            "Index: 65470 entries, 0 to 65469\n",
            "Data columns (total 3 columns):\n",
            " #   Column    Non-Null Count  Dtype \n",
            "---  ------    --------------  ----- \n",
            " 0   text      65470 non-null  object\n",
            " 1   label     65470 non-null  object\n",
            " 2   language  65470 non-null  object\n",
            "dtypes: object(3)\n",
            "memory usage: 2.0+ MB\n",
            "✅ Portuguese dataset saved: /content/drive/My Drive/AAI-510-Dataset/portuguese_cleaned_65k.csv\n",
            "✅ English dataset saved: /content/drive/My Drive/AAI-510-Dataset/english_cleaned_65k.csv\n",
            "✅ French dataset saved: /content/drive/My Drive/AAI-510-Dataset/french_cleaned_65k.csv\n"
          ]
        }
      ]
    },
    {
      "cell_type": "code",
      "source": [
        "en = pd.read_csv(f\"{base_path}/english_cleaned_65k.csv\")\n",
        "pt = pd.read_csv(f\"{base_path}/portuguese_cleaned_65k.csv\")\n",
        "fr = pd.read_csv(f\"{base_path}/french_cleaned_65k.csv\")\n",
        "\n",
        "df_all = pd.concat([en, pt, fr])\n",
        "df_all = df_all.sample(frac=1, random_state=42).reset_index(drop=True)\n",
        "df_all.to_csv(f\"{base_path}/multilingual_sentiment_195k.csv\", index=False)\n",
        "\n",
        "print(\"✅ Combined dataset saved: multilingual_sentiment_195k.csv\")"
      ],
      "metadata": {
        "id": "OZZ5DLU5s0Eb",
        "colab": {
          "base_uri": "https://localhost:8080/"
        },
        "outputId": "d47bb240-70da-4fbb-94df-70a293ef655f"
      },
      "execution_count": null,
      "outputs": [
        {
          "output_type": "stream",
          "name": "stdout",
          "text": [
            "✅ Combined dataset saved: multilingual_sentiment_195k.csv\n"
          ]
        }
      ]
    },
    {
      "cell_type": "code",
      "source": [
        "# Encode labels\n",
        "df_all['label_enc'] = df_all['label'].map({'negative': 0, 'positive': 1})"
      ],
      "metadata": {
        "id": "Dkwyr8Hfs1uZ"
      },
      "execution_count": null,
      "outputs": []
    },
    {
      "cell_type": "code",
      "source": [
        "df_all = df_all.dropna()\n"
      ],
      "metadata": {
        "id": "-gVbK_ejxgGv"
      },
      "execution_count": null,
      "outputs": []
    },
    {
      "cell_type": "markdown",
      "source": [
        "## 4. Exploratory Data Analysis"
      ],
      "metadata": {
        "id": "j3LTn083s5hY"
      }
    },
    {
      "cell_type": "code",
      "source": [
        "sns.countplot(data=df_all, x='label', hue='language')\n",
        "plt.title(\"Sentiment Distribution by Language\")\n",
        "plt.show()\n",
        "\n",
        "print(df_all['label'].value_counts())"
      ],
      "metadata": {
        "id": "o4xsSepRs3O_",
        "colab": {
          "base_uri": "https://localhost:8080/",
          "height": 540
        },
        "outputId": "b37d1139-0c93-4177-f8b5-96505cd9bc7e"
      },
      "execution_count": null,
      "outputs": [
        {
          "output_type": "display_data",
          "data": {
            "text/plain": [
              "<Figure size 640x480 with 1 Axes>"
            ],
            "image/png": "[encoded data removed]"
          },
          "metadata": {}
        },
        {
          "output_type": "stream",
          "name": "stdout",
          "text": [
            "label\n",
            "negative    97579\n",
            "positive    97417\n",
            "Name: count, dtype: int64\n"
          ]
        }
      ]
    },
    {
      "cell_type": "markdown",
      "source": [
        "## 5. Modeling\n",
        "\n",
        "Models to train:\n",
        "1. XLM-RoBERTa Base\n",
        "2. MDeBERTa v3 Base\n",
        "3. DistilBERT Multilingual\n",
        "4. LSTM\n",
        "\n",
        "Each model is trained and evaluated on the same train/test split."
      ],
      "metadata": {
        "id": "Xzq_7jKOs8Nv"
      }
    },
    {
      "cell_type": "code",
      "source": [
        "from huggingface_hub import login\n",
        "login()"
      ],
      "metadata": {
        "id": "IL_9VHios8uR",
        "colab": {
          "base_uri": "https://localhost:8080/",
          "height": 17,
          "referenced_widgets": [
            "4810c0c555544cc49801e53c6a444c94",
            "5734cef9506d4536995d733cdec7cee1",
            "a498bc26c1d74f93846a11f4ca404fc3",
            "a5b1b2a0950c40049c95f72b275a6a67",
            "fdb3ceb18b4c4d3691fc1d6708214a3b",
            "6b582a1389bb4fdaa3cde75271afcd0a",
            "ebb505dcb831459096f75c46d936868c",
            "b3dd26d91bd746d2898d7e4f8d52a599",
            "c68b2a2cbe744825bbf61fd53cb62435",
            "ca0b8f26c0494d0fbdd2e6f5b558e949",
            "e573fcd21b824797830db8c8f0928225",
            "e8af5278c0d94d37937974d72df1b5e5",
            "b3ca29308fdf45d4b99a0e86d8bb556d",
            "97a2f00f8f5f4295a48e54f3846f20d4",
            "ad87522d0ac140bbab5f0cfb51419a4e",
            "2b71d42dafc04338b67de9084044a237",
            "8c7c8f97c57c4004975dc06cbb9abc19",
            "26d04952a23649c7abaec8c949d16895",
            "b41ffe087a0744da9d53b2a730318941",
            "555d9f8cddf14fd492db8b40bf55b3ef"
          ]
        },
        "outputId": "88581ad2-5729-41de-af31-41123a99119c"
      },
      "execution_count": null,
      "outputs": [
        {
          "output_type": "display_data",
          "data": {
            "text/plain": [
              "VBox(children=(HTML(value='<center> <img\\nsrc=https://huggingface.co/front/assets/huggingface_logo-noborder.sv…"
            ],
            "application/vnd.jupyter.widget-view+json": {
              "version_major": 2,
              "version_minor": 0,
              "model_id": "4810c0c555544cc49801e53c6a444c94"
            }
          },
          "metadata": {}
        }
      ]
    },
    {
      "cell_type": "markdown",
      "source": [
        "### Split the data into traning and test dataset"
      ],
      "metadata": {
        "id": "pRE60Y_Zwm5v"
      }
    },
    {
      "cell_type": "code",
      "source": [
        "train_df, test_df = train_test_split(df_all, test_size=0.2, stratify=df_all['label_enc'], random_state=42)\n",
        "\n",
        "train_ds = Dataset.from_pandas(train_df[['text', 'label_enc']])\n",
        "test_ds = Dataset.from_pandas(test_df[['text', 'label_enc']])"
      ],
      "metadata": {
        "id": "kkOjLOI5wsaZ"
      },
      "execution_count": null,
      "outputs": []
    },
    {
      "cell_type": "code",
      "source": [
        "train_df['label_enc'].value_counts()\n"
      ],
      "metadata": {
        "colab": {
          "base_uri": "https://localhost:8080/",
          "height": 176
        },
        "id": "3e4xNbI-w-oj",
        "outputId": "af747e76-4cb6-47f4-d971-128cc9e6012e"
      },
      "execution_count": null,
      "outputs": [
        {
          "output_type": "execute_result",
          "data": {
            "text/plain": [
              "label_enc\n",
              "0    78063\n",
              "1    77933\n",
              "Name: count, dtype: int64"
            ],
            "text/html": [
              "<div>\n",
              "<style scoped>\n",
              "    .dataframe tbody tr th:only-of-type {\n",
              "        vertical-align: middle;\n",
              "    }\n",
              "\n",
              "    .dataframe tbody tr th {\n",
              "        vertical-align: top;\n",
              "    }\n",
              "\n",
              "    .dataframe thead th {\n",
              "        text-align: right;\n",
              "    }\n",
              "</style>\n",
              "<table border=\"1\" class=\"dataframe\">\n",
              "  <thead>\n",
              "    <tr style=\"text-align: right;\">\n",
              "      <th></th>\n",
              "      <th>count</th>\n",
              "    </tr>\n",
              "    <tr>\n",
              "      <th>label_enc</th>\n",
              "      <th></th>\n",
              "    </tr>\n",
              "  </thead>\n",
              "  <tbody>\n",
              "    <tr>\n",
              "      <th>0</th>\n",
              "      <td>78063</td>\n",
              "    </tr>\n",
              "    <tr>\n",
              "      <th>1</th>\n",
              "      <td>77933</td>\n",
              "    </tr>\n",
              "  </tbody>\n",
              "</table>\n",
              "</div><br><label><b>dtype:</b> int64</label>"
            ]
          },
          "metadata": {},
          "execution_count": 40
        }
      ]
    },
    {
      "cell_type": "markdown",
      "source": [
        "### LSTM"
      ],
      "metadata": {
        "id": "zMu6YdBCwWg1"
      }
    },
    {
      "cell_type": "markdown",
      "source": [
        "## 6. Evaluation"
      ],
      "metadata": {
        "id": "6KIEUtjDtK_0"
      }
    },
    {
      "cell_type": "markdown",
      "source": [
        "## 7. Final Conclusion\n",
        "\n",
        "| Model             | Accuracy | F1-Score |\n",
        "|------------------|----------|----------|\n",
        "| MDeBERTa v3 Base  | XX.XX%   | XX.XX%   |\n",
        "| XLM-RoBERTa Base  | XX.XX%   | XX.XX%   |\n",
        "| DistilBERT Multi  | XX.XX%   | XX.XX%   |\n",
        "| LSTM              | XX.XX%   | XX.XX%   |\n",
        "\n",
        "**Insights:**\n",
        "- MDeBERTa v3 and XLM-RoBERTa gave best multilingual performance.\n",
        "- DistilBERT is lighter but less accurate.\n",
        "- LSTM works but lags behind modern transformers.\n",
        "\n",
        "**Next Steps:**\n",
        "- Try adding attention to LSTM\n",
        "- Use more data (with neutral)\n",
        "- Test on other languages (e.g., Spanish, Hindi)"
      ],
      "metadata": {
        "id": "_tY030pctMgu"
      }
    }
  ],
  "metadata": {
    "kernelspec": {
      "display_name": "Python 3",
      "name": "python3"
    },
    "language_info": {
      "codemirror_mode": {
        "name": "ipython",
        "version": 3
      },
      "file_extension": ".py",
      "mimetype": "text/x-python",
      "name": "python",
      "nbconvert_exporter": "python",
      "pygments_lexer": "ipython3",
      "version": "3.12.8"
    },
    "colab": {
      "provenance": [],
      "gpuType": "T4",
      "include_colab_link": true
    },
    "accelerator": "GPU",
    "widgets": {
      "application/vnd.jupyter.widget-state+json": {
        "4810c0c555544cc49801e53c6a444c94": {
          "model_module": "@jupyter-widgets/controls",
          "model_name": "VBoxModel",
          "model_module_version": "1.5.0",
          "state": {
            "_dom_classes": [],
            "_model_module": "@jupyter-widgets/controls",
            "_model_module_version": "1.5.0",
            "_model_name": "VBoxModel",
            "_view_count": null,
            "_view_module": "@jupyter-widgets/controls",
            "_view_module_version": "1.5.0",
            "_view_name": "VBoxView",
            "box_style": "",
            "children": [],
            "layout": "IPY_MODEL_ebb505dcb831459096f75c46d936868c"
          }
        },
        "5734cef9506d4536995d733cdec7cee1": {
          "model_module": "@jupyter-widgets/controls",
          "model_name": "HTMLModel",
          "model_module_version": "1.5.0",
          "state": {
            "_dom_classes": [],
            "_model_module": "@jupyter-widgets/controls",
            "_model_module_version": "1.5.0",
            "_model_name": "HTMLModel",
            "_view_count": null,
            "_view_module": "@jupyter-widgets/controls",
            "_view_module_version": "1.5.0",
            "_view_name": "HTMLView",
            "description": "",
            "description_tooltip": null,
            "layout": "IPY_MODEL_b3dd26d91bd746d2898d7e4f8d52a599",
            "placeholder": "​",
            "style": "IPY_MODEL_c68b2a2cbe744825bbf61fd53cb62435",
            "value": "<center> <img\nsrc=https://huggingface.co/front/assets/huggingface_logo-noborder.svg\nalt='Hugging Face'> <br> Copy a token from <a\nhref=\"https://huggingface.co/settings/tokens\" target=\"_blank\">your Hugging Face\ntokens page</a> and paste it below. <br> Immediately click login after copying\nyour token or it might be stored in plain text in this notebook file. </center>"
          }
        },
        "a498bc26c1d74f93846a11f4ca404fc3": {
          "model_module": "@jupyter-widgets/controls",
          "model_name": "PasswordModel",
          "model_module_version": "1.5.0",
          "state": {
            "_dom_classes": [],
            "_model_module": "@jupyter-widgets/controls",
            "_model_module_version": "1.5.0",
            "_model_name": "PasswordModel",
            "_view_count": null,
            "_view_module": "@jupyter-widgets/controls",
            "_view_module_version": "1.5.0",
            "_view_name": "PasswordView",
            "continuous_update": true,
            "description": "Token:",
            "description_tooltip": null,
            "disabled": false,
            "layout": "IPY_MODEL_ca0b8f26c0494d0fbdd2e6f5b558e949",
            "placeholder": "​",
            "style": "IPY_MODEL_e573fcd21b824797830db8c8f0928225",
            "value": ""
          }
        },
        "a5b1b2a0950c40049c95f72b275a6a67": {
          "model_module": "@jupyter-widgets/controls",
          "model_name": "CheckboxModel",
          "model_module_version": "1.5.0",
          "state": {
            "_dom_classes": [],
            "_model_module": "@jupyter-widgets/controls",
            "_model_module_version": "1.5.0",
            "_model_name": "CheckboxModel",
            "_view_count": null,
            "_view_module": "@jupyter-widgets/controls",
            "_view_module_version": "1.5.0",
            "_view_name": "CheckboxView",
            "description": "Add token as git credential?",
            "description_tooltip": null,
            "disabled": false,
            "indent": true,
            "layout": "IPY_MODEL_e8af5278c0d94d37937974d72df1b5e5",
            "style": "IPY_MODEL_b3ca29308fdf45d4b99a0e86d8bb556d",
            "value": true
          }
        },
        "fdb3ceb18b4c4d3691fc1d6708214a3b": {
          "model_module": "@jupyter-widgets/controls",
          "model_name": "ButtonModel",
          "model_module_version": "1.5.0",
          "state": {
            "_dom_classes": [],
            "_model_module": "@jupyter-widgets/controls",
            "_model_module_version": "1.5.0",
            "_model_name": "ButtonModel",
            "_view_count": null,
            "_view_module": "@jupyter-widgets/controls",
            "_view_module_version": "1.5.0",
            "_view_name": "ButtonView",
            "button_style": "",
            "description": "Login",
            "disabled": false,
            "icon": "",
            "layout": "IPY_MODEL_97a2f00f8f5f4295a48e54f3846f20d4",
            "style": "IPY_MODEL_ad87522d0ac140bbab5f0cfb51419a4e",
            "tooltip": ""
          }
        },
        "6b582a1389bb4fdaa3cde75271afcd0a": {
          "model_module": "@jupyter-widgets/controls",
          "model_name": "HTMLModel",
          "model_module_version": "1.5.0",
          "state": {
            "_dom_classes": [],
            "_model_module": "@jupyter-widgets/controls",
            "_model_module_version": "1.5.0",
            "_model_name": "HTMLModel",
            "_view_count": null,
            "_view_module": "@jupyter-widgets/controls",
            "_view_module_version": "1.5.0",
            "_view_name": "HTMLView",
            "description": "",
            "description_tooltip": null,
            "layout": "IPY_MODEL_2b71d42dafc04338b67de9084044a237",
            "placeholder": "​",
            "style": "IPY_MODEL_8c7c8f97c57c4004975dc06cbb9abc19",
            "value": "\n<b>Pro Tip:</b> If you don't already have one, you can create a dedicated\n'notebooks' token with 'write' access, that you can then easily reuse for all\nnotebooks. </center>"
          }
        },
        "ebb505dcb831459096f75c46d936868c": {
          "model_module": "@jupyter-widgets/base",
          "model_name": "LayoutModel",
          "model_module_version": "1.2.0",
          "state": {
            "_model_module": "@jupyter-widgets/base",
            "_model_module_version": "1.2.0",
            "_model_name": "LayoutModel",
            "_view_count": null,
            "_view_module": "@jupyter-widgets/base",
            "_view_module_version": "1.2.0",
            "_view_name": "LayoutView",
            "align_content": null,
            "align_items": "center",
            "align_self": null,
            "border": null,
            "bottom": null,
            "display": "flex",
            "flex": null,
            "flex_flow": "column",
            "grid_area": null,
            "grid_auto_columns": null,
            "grid_auto_flow": null,
            "grid_auto_rows": null,
            "grid_column": null,
            "grid_gap": null,
            "grid_row": null,
            "grid_template_areas": null,
            "grid_template_columns": null,
            "grid_template_rows": null,
            "height": null,
            "justify_content": null,
            "justify_items": null,
            "left": null,
            "margin": null,
            "max_height": null,
            "max_width": null,
            "min_height": null,
            "min_width": null,
            "object_fit": null,
            "object_position": null,
            "order": null,
            "overflow": null,
            "overflow_x": null,
            "overflow_y": null,
            "padding": null,
            "right": null,
            "top": null,
            "visibility": null,
            "width": "50%"
          }
        },
        "b3dd26d91bd746d2898d7e4f8d52a599": {
          "model_module": "@jupyter-widgets/base",
          "model_name": "LayoutModel",
          "model_module_version": "1.2.0",
          "state": {
            "_model_module": "@jupyter-widgets/base",
            "_model_module_version": "1.2.0",
            "_model_name": "LayoutModel",
            "_view_count": null,
            "_view_module": "@jupyter-widgets/base",
            "_view_module_version": "1.2.0",
            "_view_name": "LayoutView",
            "align_content": null,
            "align_items": null,
            "align_self": null,
            "border": null,
            "bottom": null,
            "display": null,
            "flex": null,
            "flex_flow": null,
            "grid_area": null,
            "grid_auto_columns": null,
            "grid_auto_flow": null,
            "grid_auto_rows": null,
            "grid_column": null,
            "grid_gap": null,
            "grid_row": null,
            "grid_template_areas": null,
            "grid_template_columns": null,
            "grid_template_rows": null,
            "height": null,
            "justify_content": null,
            "justify_items": null,
            "left": null,
            "margin": null,
            "max_height": null,
            "max_width": null,
            "min_height": null,
            "min_width": null,
            "object_fit": null,
            "object_position": null,
            "order": null,
            "overflow": null,
            "overflow_x": null,
            "overflow_y": null,
            "padding": null,
            "right": null,
            "top": null,
            "visibility": null,
            "width": null
          }
        },
        "c68b2a2cbe744825bbf61fd53cb62435": {
          "model_module": "@jupyter-widgets/controls",
          "model_name": "DescriptionStyleModel",
          "model_module_version": "1.5.0",
          "state": {
            "_model_module": "@jupyter-widgets/controls",
            "_model_module_version": "1.5.0",
            "_model_name": "DescriptionStyleModel",
            "_view_count": null,
            "_view_module": "@jupyter-widgets/base",
            "_view_module_version": "1.2.0",
            "_view_name": "StyleView",
            "description_width": ""
          }
        },
        "ca0b8f26c0494d0fbdd2e6f5b558e949": {
          "model_module": "@jupyter-widgets/base",
          "model_name": "LayoutModel",
          "model_module_version": "1.2.0",
          "state": {
            "_model_module": "@jupyter-widgets/base",
            "_model_module_version": "1.2.0",
            "_model_name": "LayoutModel",
            "_view_count": null,
            "_view_module": "@jupyter-widgets/base",
            "_view_module_version": "1.2.0",
            "_view_name": "LayoutView",
            "align_content": null,
            "align_items": null,
            "align_self": null,
            "border": null,
            "bottom": null,
            "display": null,
            "flex": null,
            "flex_flow": null,
            "grid_area": null,
            "grid_auto_columns": null,
            "grid_auto_flow": null,
            "grid_auto_rows": null,
            "grid_column": null,
            "grid_gap": null,
            "grid_row": null,
            "grid_template_areas": null,
            "grid_template_columns": null,
            "grid_template_rows": null,
            "height": null,
            "justify_content": null,
            "justify_items": null,
            "left": null,
            "margin": null,
            "max_height": null,
            "max_width": null,
            "min_height": null,
            "min_width": null,
            "object_fit": null,
            "object_position": null,
            "order": null,
            "overflow": null,
            "overflow_x": null,
            "overflow_y": null,
            "padding": null,
            "right": null,
            "top": null,
            "visibility": null,
            "width": null
          }
        },
        "e573fcd21b824797830db8c8f0928225": {
          "model_module": "@jupyter-widgets/controls",
          "model_name": "DescriptionStyleModel",
          "model_module_version": "1.5.0",
          "state": {
            "_model_module": "@jupyter-widgets/controls",
            "_model_module_version": "1.5.0",
            "_model_name": "DescriptionStyleModel",
            "_view_count": null,
            "_view_module": "@jupyter-widgets/base",
            "_view_module_version": "1.2.0",
            "_view_name": "StyleView",
            "description_width": ""
          }
        },
        "e8af5278c0d94d37937974d72df1b5e5": {
          "model_module": "@jupyter-widgets/base",
          "model_name": "LayoutModel",
          "model_module_version": "1.2.0",
          "state": {
            "_model_module": "@jupyter-widgets/base",
            "_model_module_version": "1.2.0",
            "_model_name": "LayoutModel",
            "_view_count": null,
            "_view_module": "@jupyter-widgets/base",
            "_view_module_version": "1.2.0",
            "_view_name": "LayoutView",
            "align_content": null,
            "align_items": null,
            "align_self": null,
            "border": null,
            "bottom": null,
            "display": null,
            "flex": null,
            "flex_flow": null,
            "grid_area": null,
            "grid_auto_columns": null,
            "grid_auto_flow": null,
            "grid_auto_rows": null,
            "grid_column": null,
            "grid_gap": null,
            "grid_row": null,
            "grid_template_areas": null,
            "grid_template_columns": null,
            "grid_template_rows": null,
            "height": null,
            "justify_content": null,
            "justify_items": null,
            "left": null,
            "margin": null,
            "max_height": null,
            "max_width": null,
            "min_height": null,
            "min_width": null,
            "object_fit": null,
            "object_position": null,
            "order": null,
            "overflow": null,
            "overflow_x": null,
            "overflow_y": null,
            "padding": null,
            "right": null,
            "top": null,
            "visibility": null,
            "width": null
          }
        },
        "b3ca29308fdf45d4b99a0e86d8bb556d": {
          "model_module": "@jupyter-widgets/controls",
          "model_name": "DescriptionStyleModel",
          "model_module_version": "1.5.0",
          "state": {
            "_model_module": "@jupyter-widgets/controls",
            "_model_module_version": "1.5.0",
            "_model_name": "DescriptionStyleModel",
            "_view_count": null,
            "_view_module": "@jupyter-widgets/base",
            "_view_module_version": "1.2.0",
            "_view_name": "StyleView",
            "description_width": ""
          }
        },
        "97a2f00f8f5f4295a48e54f3846f20d4": {
          "model_module": "@jupyter-widgets/base",
          "model_name": "LayoutModel",
          "model_module_version": "1.2.0",
          "state": {
            "_model_module": "@jupyter-widgets/base",
            "_model_module_version": "1.2.0",
            "_model_name": "LayoutModel",
            "_view_count": null,
            "_view_module": "@jupyter-widgets/base",
            "_view_module_version": "1.2.0",
            "_view_name": "LayoutView",
            "align_content": null,
            "align_items": null,
            "align_self": null,
            "border": null,
            "bottom": null,
            "display": null,
            "flex": null,
            "flex_flow": null,
            "grid_area": null,
            "grid_auto_columns": null,
            "grid_auto_flow": null,
            "grid_auto_rows": null,
            "grid_column": null,
            "grid_gap": null,
            "grid_row": null,
            "grid_template_areas": null,
            "grid_template_columns": null,
            "grid_template_rows": null,
            "height": null,
            "justify_content": null,
            "justify_items": null,
            "left": null,
            "margin": null,
            "max_height": null,
            "max_width": null,
            "min_height": null,
            "min_width": null,
            "object_fit": null,
            "object_position": null,
            "order": null,
            "overflow": null,
            "overflow_x": null,
            "overflow_y": null,
            "padding": null,
            "right": null,
            "top": null,
            "visibility": null,
            "width": null
          }
        },
        "ad87522d0ac140bbab5f0cfb51419a4e": {
          "model_module": "@jupyter-widgets/controls",
          "model_name": "ButtonStyleModel",
          "model_module_version": "1.5.0",
          "state": {
            "_model_module": "@jupyter-widgets/controls",
            "_model_module_version": "1.5.0",
            "_model_name": "ButtonStyleModel",
            "_view_count": null,
            "_view_module": "@jupyter-widgets/base",
            "_view_module_version": "1.2.0",
            "_view_name": "StyleView",
            "button_color": null,
            "font_weight": ""
          }
        },
        "2b71d42dafc04338b67de9084044a237": {
          "model_module": "@jupyter-widgets/base",
          "model_name": "LayoutModel",
          "model_module_version": "1.2.0",
          "state": {
            "_model_module": "@jupyter-widgets/base",
            "_model_module_version": "1.2.0",
            "_model_name": "LayoutModel",
            "_view_count": null,
            "_view_module": "@jupyter-widgets/base",
            "_view_module_version": "1.2.0",
            "_view_name": "LayoutView",
            "align_content": null,
            "align_items": null,
            "align_self": null,
            "border": null,
            "bottom": null,
            "display": null,
            "flex": null,
            "flex_flow": null,
            "grid_area": null,
            "grid_auto_columns": null,
            "grid_auto_flow": null,
            "grid_auto_rows": null,
            "grid_column": null,
            "grid_gap": null,
            "grid_row": null,
            "grid_template_areas": null,
            "grid_template_columns": null,
            "grid_template_rows": null,
            "height": null,
            "justify_content": null,
            "justify_items": null,
            "left": null,
            "margin": null,
            "max_height": null,
            "max_width": null,
            "min_height": null,
            "min_width": null,
            "object_fit": null,
            "object_position": null,
            "order": null,
            "overflow": null,
            "overflow_x": null,
            "overflow_y": null,
            "padding": null,
            "right": null,
            "top": null,
            "visibility": null,
            "width": null
          }
        },
        "8c7c8f97c57c4004975dc06cbb9abc19": {
          "model_module": "@jupyter-widgets/controls",
          "model_name": "DescriptionStyleModel",
          "model_module_version": "1.5.0",
          "state": {
            "_model_module": "@jupyter-widgets/controls",
            "_model_module_version": "1.5.0",
            "_model_name": "DescriptionStyleModel",
            "_view_count": null,
            "_view_module": "@jupyter-widgets/base",
            "_view_module_version": "1.2.0",
            "_view_name": "StyleView",
            "description_width": ""
          }
        },
        "26d04952a23649c7abaec8c949d16895": {
          "model_module": "@jupyter-widgets/controls",
          "model_name": "LabelModel",
          "model_module_version": "1.5.0",
          "state": {
            "_dom_classes": [],
            "_model_module": "@jupyter-widgets/controls",
            "_model_module_version": "1.5.0",
            "_model_name": "LabelModel",
            "_view_count": null,
            "_view_module": "@jupyter-widgets/controls",
            "_view_module_version": "1.5.0",
            "_view_name": "LabelView",
            "description": "",
            "description_tooltip": null,
            "layout": "IPY_MODEL_b41ffe087a0744da9d53b2a730318941",
            "placeholder": "​",
            "style": "IPY_MODEL_555d9f8cddf14fd492db8b40bf55b3ef",
            "value": "Connecting..."
          }
        },
        "b41ffe087a0744da9d53b2a730318941": {
          "model_module": "@jupyter-widgets/base",
          "model_name": "LayoutModel",
          "model_module_version": "1.2.0",
          "state": {
            "_model_module": "@jupyter-widgets/base",
            "_model_module_version": "1.2.0",
            "_model_name": "LayoutModel",
            "_view_count": null,
            "_view_module": "@jupyter-widgets/base",
            "_view_module_version": "1.2.0",
            "_view_name": "LayoutView",
            "align_content": null,
            "align_items": null,
            "align_self": null,
            "border": null,
            "bottom": null,
            "display": null,
            "flex": null,
            "flex_flow": null,
            "grid_area": null,
            "grid_auto_columns": null,
            "grid_auto_flow": null,
            "grid_auto_rows": null,
            "grid_column": null,
            "grid_gap": null,
            "grid_row": null,
            "grid_template_areas": null,
            "grid_template_columns": null,
            "grid_template_rows": null,
            "height": null,
            "justify_content": null,
            "justify_items": null,
            "left": null,
            "margin": null,
            "max_height": null,
            "max_width": null,
            "min_height": null,
            "min_width": null,
            "object_fit": null,
            "object_position": null,
            "order": null,
            "overflow": null,
            "overflow_x": null,
            "overflow_y": null,
            "padding": null,
            "right": null,
            "top": null,
            "visibility": null,
            "width": null
          }
        },
        "555d9f8cddf14fd492db8b40bf55b3ef": {
          "model_module": "@jupyter-widgets/controls",
          "model_name": "DescriptionStyleModel",
          "model_module_version": "1.5.0",
          "state": {
            "_model_module": "@jupyter-widgets/controls",
            "_model_module_version": "1.5.0",
            "_model_name": "DescriptionStyleModel",
            "_view_count": null,
            "_view_module": "@jupyter-widgets/base",
            "_view_module_version": "1.2.0",
            "_view_name": "StyleView",
            "description_width": ""
          }
        }
      }
    }
  },
  "nbformat": 4,
  "nbformat_minor": 0
}