{
 "nbformat": 4,
 "nbformat_minor": 0,
 "metadata": {
  "colab": {
   "provenance": [],
   "gpuType": "T4"
  },
  "kernelspec": {
   "name": "python3",
   "display_name": "Python 3"
  },
  "language_info": {
   "name": "python"
  },
  "accelerator": "GPU",
  "widgets": {
   "application/vnd.jupyter.widget-state+json": {
    "c3fda8b2bb174a2f8e036fdcfacb42eb": {
     "model_module": "@jupyter-widgets/controls",
     "model_name": "HBoxModel",
     "model_module_version": "1.5.0",
     "state": {
      "_dom_classes": [],
      "_model_module": "@jupyter-widgets/controls",
      "_model_module_version": "1.5.0",
      "_model_name": "HBoxModel",
      "_view_count": null,
      "_view_module": "@jupyter-widgets/controls",
      "_view_module_version": "1.5.0",
      "_view_name": "HBoxView",
      "box_style": "",
      "children": [
       "IPY_MODEL_13dbb357667b4da09faa9a51e0f8b7da",
       "IPY_MODEL_abaac10a35fb4ac4af2a05d4c36bfc33",
       "IPY_MODEL_31e308b223ff45049a520166495376ae"
      ],
      "layout": "IPY_MODEL_4af2c3978dc14c8aabf1d348b2ce0a36"
     }
    },
    "13dbb357667b4da09faa9a51e0f8b7da": {
     "model_module": "@jupyter-widgets/controls",
     "model_name": "HTMLModel",
     "model_module_version": "1.5.0",
     "state": {
      "_dom_classes": [],
      "_model_module": "@jupyter-widgets/controls",
      "_model_module_version": "1.5.0",
      "_model_name": "HTMLModel",
      "_view_count": null,
      "_view_module": "@jupyter-widgets/controls",
      "_view_module_version": "1.5.0",
      "_view_name": "HTMLView",
      "description": "",
      "description_tooltip": null,
      "layout": "IPY_MODEL_29a3882a021e408f8793755a6e22c305",
      "placeholder": "​",
      "style": "IPY_MODEL_e16a5788f4244aa89aff072bab469497",
      "value": "tokenizer_config.json: 100%"
     }
    },
    "abaac10a35fb4ac4af2a05d4c36bfc33": {
     "model_module": "@jupyter-widgets/controls",
     "model_name": "FloatProgressModel",
     "model_module_version": "1.5.0",
     "state": {
      "_dom_classes": [],
      "_model_module": "@jupyter-widgets/controls",
      "_model_module_version": "1.5.0",
      "_model_name": "FloatProgressModel",
      "_view_count": null,
      "_view_module": "@jupyter-widgets/controls",
      "_view_module_version": "1.5.0",
      "_view_name": "ProgressView",
      "bar_style": "success",
      "description": "",
      "description_tooltip": null,
      "layout": "IPY_MODEL_fc8525a837f748d9ad80358ce999581d",
      "max": 25,
      "min": 0,
      "orientation": "horizontal",
      "style": "IPY_MODEL_602e1efc5e0d4bea9ad961485e769f59",
      "value": 25
     }
    },
    "31e308b223ff45049a520166495376ae": {
     "model_module": "@jupyter-widgets/controls",
     "model_name": "HTMLModel",
     "model_module_version": "1.5.0",
     "state": {
      "_dom_classes": [],
      "_model_module": "@jupyter-widgets/controls",
      "_model_module_version": "1.5.0",
      "_model_name": "HTMLModel",
      "_view_count": null,
      "_view_module": "@jupyter-widgets/controls",
      "_view_module_version": "1.5.0",
      "_view_name": "HTMLView",
      "description": "",
      "description_tooltip": null,
      "layout": "IPY_MODEL_c169d6e13a42439b940ff3a6dfcd7713",
      "placeholder": "​",
      "style": "IPY_MODEL_0bac48a1d98c4eb1ae07cae77b7775cf",
      "value": " 25.0/25.0 [00:00&lt;00:00, 2.59kB/s]"
     }
    },
    "4af2c3978dc14c8aabf1d348b2ce0a36": {
     "model_module": "@jupyter-widgets/base",
     "model_name": "LayoutModel",
     "model_module_version": "1.2.0",
     "state": {
      "_model_module": "@jupyter-widgets/base",
      "_model_module_version": "1.2.0",
      "_model_name": "LayoutModel",
      "_view_count": null,
      "_view_module": "@jupyter-widgets/base",
      "_view_module_version": "1.2.0",
      "_view_name": "LayoutView",
      "align_content": null,
      "align_items": null,
      "align_self": null,
      "border": null,
      "bottom": null,
      "display": null,
      "flex": null,
      "flex_flow": null,
      "grid_area": null,
      "grid_auto_columns": null,
      "grid_auto_flow": null,
      "grid_auto_rows": null,
      "grid_column": null,
      "grid_gap": null,
      "grid_row": null,
      "grid_template_areas": null,
      "grid_template_columns": null,
      "grid_template_rows": null,
      "height": null,
      "justify_content": null,
      "justify_items": null,
      "left": null,
      "margin": null,
      "max_height": null,
      "max_width": null,
      "min_height": null,
      "min_width": null,
      "object_fit": null,
      "object_position": null,
      "order": null,
      "overflow": null,
      "overflow_x": null,
      "overflow_y": null,
      "padding": null,
      "right": null,
      "top": null,
      "visibility": null,
      "width": null
     }
    },
    "29a3882a021e408f8793755a6e22c305": {
     "model_module": "@jupyter-widgets/base",
     "model_name": "LayoutModel",
     "model_module_version": "1.2.0",
     "state": {
      "_model_module": "@jupyter-widgets/base",
      "_model_module_version": "1.2.0",
      "_model_name": "LayoutModel",
      "_view_count": null,
      "_view_module": "@jupyter-widgets/base",
      "_view_module_version": "1.2.0",
      "_view_name": "LayoutView",
      "align_content": null,
      "align_items": null,
      "align_self": null,
      "border": null,
      "bottom": null,
      "display": null,
      "flex": null,
      "flex_flow": null,
      "grid_area": null,
      "grid_auto_columns": null,
      "grid_auto_flow": null,
      "grid_auto_rows": null,
      "grid_column": null,
      "grid_gap": null,
      "grid_row": null,
      "grid_template_areas": null,
      "grid_template_columns": null,
      "grid_template_rows": null,
      "height": null,
      "justify_content": null,
      "justify_items": null,
      "left": null,
      "margin": null,
      "max_height": null,
      "max_width": null,
      "min_height": null,
      "min_width": null,
      "object_fit": null,
      "object_position": null,
      "order": null,
      "overflow": null,
      "overflow_x": null,
      "overflow_y": null,
      "padding": null,
      "right": null,
      "top": null,
      "visibility": null,
      "width": null
     }
    },
    "e16a5788f4244aa89aff072bab469497": {
     "model_module": "@jupyter-widgets/controls",
     "model_name": "DescriptionStyleModel",
     "model_module_version": "1.5.0",
     "state": {
      "_model_module": "@jupyter-widgets/controls",
      "_model_module_version": "1.5.0",
      "_model_name": "DescriptionStyleModel",
      "_view_count": null,
      "_view_module": "@jupyter-widgets/base",
      "_view_module_version": "1.2.0",
      "_view_name": "StyleView",
      "description_width": ""
     }
    },
    "fc8525a837f748d9ad80358ce999581d": {
     "model_module": "@jupyter-widgets/base",
     "model_name": "LayoutModel",
     "model_module_version": "1.2.0",
     "state": {
      "_model_module": "@jupyter-widgets/base",
      "_model_module_version": "1.2.0",
      "_model_name": "LayoutModel",
      "_view_count": null,
      "_view_module": "@jupyter-widgets/base",
      "_view_module_version": "1.2.0",
      "_view_name": "LayoutView",
      "align_content": null,
      "align_items": null,
      "align_self": null,
      "border": null,
      "bottom": null,
      "display": null,
      "flex": null,
      "flex_flow": null,
      "grid_area": null,
      "grid_auto_columns": null,
      "grid_auto_flow": null,
      "grid_auto_rows": null,
      "grid_column": null,
      "grid_gap": null,
      "grid_row": null,
      "grid_template_areas": null,
      "grid_template_columns": null,
      "grid_template_rows": null,
      "height": null,
      "justify_content": null,
      "justify_items": null,
      "left": null,
      "margin": null,
      "max_height": null,
      "max_width": null,
      "min_height": null,
      "min_width": null,
      "object_fit": null,
      "object_position": null,
      "order": null,
      "overflow": null,
      "overflow_x": null,
      "overflow_y": null,
      "padding": null,
      "right": null,
      "top": null,
      "visibility": null,
      "width": null
     }
    },
    "602e1efc5e0d4bea9ad961485e769f59": {
     "model_module": "@jupyter-widgets/controls",
     "model_name": "ProgressStyleModel",
     "model_module_version": "1.5.0",
     "state": {
      "_model_module": "@jupyter-widgets/controls",
      "_model_module_version": "1.5.0",
      "_model_name": "ProgressStyleModel",
      "_view_count": null,
      "_view_module": "@jupyter-widgets/base",
      "_view_module_version": "1.2.0",
      "_view_name": "StyleView",
      "bar_color": null,
      "description_width": ""
     }
    },
    "c169d6e13a42439b940ff3a6dfcd7713": {
     "model_module": "@jupyter-widgets/base",
     "model_name": "LayoutModel",
     "model_module_version": "1.2.0",
     "state": {
      "_model_module": "@jupyter-widgets/base",
      "_model_module_version": "1.2.0",
      "_model_name": "LayoutModel",
      "_view_count": null,
      "_view_module": "@jupyter-widgets/base",
      "_view_module_version": "1.2.0",
      "_view_name": "LayoutView",
      "align_content": null,
      "align_items": null,
      "align_self": null,
      "border": null,
      "bottom": null,
      "display": null,
      "flex": null,
      "flex_flow": null,
      "grid_area": null,
      "grid_auto_columns": null,
      "grid_auto_flow": null,
      "grid_auto_rows": null,
      "grid_column": null,
      "grid_gap": null,
      "grid_row": null,
      "grid_template_areas": null,
      "grid_template_columns": null,
      "grid_template_rows": null,
      "height": null,
      "justify_content": null,
      "justify_items": null,
      "left": null,
      "margin": null,
      "max_height": null,
      "max_width": null,
      "min_height": null,
      "min_width": null,
      "object_fit": null,
      "object_position": null,
      "order": null,
      "overflow": null,
      "overflow_x": null,
      "overflow_y": null,
      "padding": null,
      "right": null,
      "top": null,
      "visibility": null,
      "width": null
     }
    },
    "0bac48a1d98c4eb1ae07cae77b7775cf": {
     "model_module": "@jupyter-widgets/controls",
     "model_name": "DescriptionStyleModel",
     "model_module_version": "1.5.0",
     "state": {
      "_model_module": "@jupyter-widgets/controls",
      "_model_module_version": "1.5.0",
      "_model_name": "DescriptionStyleModel",
      "_view_count": null,
      "_view_module": "@jupyter-widgets/base",
      "_view_module_version": "1.2.0",
      "_view_name": "StyleView",
      "description_width": ""
     }
    },
    "9e4a9bfa860f468faa1912e7fec2fd44": {
     "model_module": "@jupyter-widgets/controls",
     "model_name": "HBoxModel",
     "model_module_version": "1.5.0",
     "state": {
      "_dom_classes": [],
      "_model_module": "@jupyter-widgets/controls",
      "_model_module_version": "1.5.0",
      "_model_name": "HBoxModel",
      "_view_count": null,
      "_view_module": "@jupyter-widgets/controls",
      "_view_module_version": "1.5.0",
      "_view_name": "HBoxView",
      "box_style": "",
      "children": [
       "IPY_MODEL_e2ac6d8c891249a1ad6db049cbd0af74",
       "IPY_MODEL_1451f996baa74d6c81cd00eab4f47997",
       "IPY_MODEL_2eec1766883043f6a464f5cda1280b73"
      ],
      "layout": "IPY_MODEL_9920823f93484dd6a93b735ce68d95e7"
     }
    },
    "e2ac6d8c891249a1ad6db049cbd0af74": {
     "model_module": "@jupyter-widgets/controls",
     "model_name": "HTMLModel",
     "model_module_version": "1.5.0",
     "state": {
      "_dom_classes": [],
      "_model_module": "@jupyter-widgets/controls",
      "_model_module_version": "1.5.0",
      "_model_name": "HTMLModel",
      "_view_count": null,
      "_view_module": "@jupyter-widgets/controls",
      "_view_module_version": "1.5.0",
      "_view_name": "HTMLView",
      "description": "",
      "description_tooltip": null,
      "layout": "IPY_MODEL_0107bc56f73c45df941ac74052efaed0",
      "placeholder": "​",
      "style": "IPY_MODEL_61ddc6d488ef40ec8a25df3b972ad22c",
      "value": "config.json: 100%"
     }
    },
    "1451f996baa74d6c81cd00eab4f47997": {
     "model_module": "@jupyter-widgets/controls",
     "model_name": "FloatProgressModel",
     "model_module_version": "1.5.0",
     "state": {
      "_dom_classes": [],
      "_model_module": "@jupyter-widgets/controls",
      "_model_module_version": "1.5.0",
      "_model_name": "FloatProgressModel",
      "_view_count": null,
      "_view_module": "@jupyter-widgets/controls",
      "_view_module_version": "1.5.0",
      "_view_name": "ProgressView",
      "bar_style": "success",
      "description": "",
      "description_tooltip": null,
      "layout": "IPY_MODEL_7070f844b00b4bee9914bebced14702f",
      "max": 615,
      "min": 0,
      "orientation": "horizontal",
      "style": "IPY_MODEL_22b223344ef6431ba0797427bada282d",
      "value": 615
     }
    },
    "2eec1766883043f6a464f5cda1280b73": {
     "model_module": "@jupyter-widgets/controls",
     "model_name": "HTMLModel",
     "model_module_version": "1.5.0",
     "state": {
      "_dom_classes": [],
      "_model_module": "@jupyter-widgets/controls",
      "_model_module_version": "1.5.0",
      "_model_name": "HTMLModel",
      "_view_count": null,
      "_view_module": "@jupyter-widgets/controls",
      "_view_module_version": "1.5.0",
      "_view_name": "HTMLView",
      "description": "",
      "description_tooltip": null,
      "layout": "IPY_MODEL_694d9e3dda5f4c9ab2963482d3647781",
      "placeholder": "​",
      "style": "IPY_MODEL_66572d3d95eb466db8cb48de2fbfa25b",
      "value": " 615/615 [00:00&lt;00:00, 41.8kB/s]"
     }
    },
    "9920823f93484dd6a93b735ce68d95e7": {
     "model_module": "@jupyter-widgets/base",
     "model_name": "LayoutModel",
     "model_module_version": "1.2.0",
     "state": {
      "_model_module": "@jupyter-widgets/base",
      "_model_module_version": "1.2.0",
      "_model_name": "LayoutModel",
      "_view_count": null,
      "_view_module": "@jupyter-widgets/base",
      "_view_module_version": "1.2.0",
      "_view_name": "LayoutView",
      "align_content": null,
      "align_items": null,
      "align_self": null,
      "border": null,
      "bottom": null,
      "display": null,
      "flex": null,
      "flex_flow": null,
      "grid_area": null,
      "grid_auto_columns": null,
      "grid_auto_flow": null,
      "grid_auto_rows": null,
      "grid_column": null,
      "grid_gap": null,
      "grid_row": null,
      "grid_template_areas": null,
      "grid_template_columns": null,
      "grid_template_rows": null,
      "height": null,
      "justify_content": null,
      "justify_items": null,
      "left": null,
      "margin": null,
      "max_height": null,
      "max_width": null,
      "min_height": null,
      "min_width": null,
      "object_fit": null,
      "object_position": null,
      "order": null,
      "overflow": null,
      "overflow_x": null,
      "overflow_y": null,
      "padding": null,
      "right": null,
      "top": null,
      "visibility": null,
      "width": null
     }
    },
    "0107bc56f73c45df941ac74052efaed0": {
     "model_module": "@jupyter-widgets/base",
     "model_name": "LayoutModel",
     "model_module_version": "1.2.0",
     "state": {
      "_model_module": "@jupyter-widgets/base",
      "_model_module_version": "1.2.0",
      "_model_name": "LayoutModel",
      "_view_count": null,
      "_view_module": "@jupyter-widgets/base",
      "_view_module_version": "1.2.0",
      "_view_name": "LayoutView",
      "align_content": null,
      "align_items": null,
      "align_self": null,
      "border": null,
      "bottom": null,
      "display": null,
      "flex": null,
      "flex_flow": null,
      "grid_area": null,
      "grid_auto_columns": null,
      "grid_auto_flow": null,
      "grid_auto_rows": null,
      "grid_column": null,
      "grid_gap": null,
      "grid_row": null,
      "grid_template_areas": null,
      "grid_template_columns": null,
      "grid_template_rows": null,
      "height": null,
      "justify_content": null,
      "justify_items": null,
      "left": null,
      "margin": null,
      "max_height": null,
      "max_width": null,
      "min_height": null,
      "min_width": null,
      "object_fit": null,
      "object_position": null,
      "order": null,
      "overflow": null,
      "overflow_x": null,
      "overflow_y": null,
      "padding": null,
      "right": null,
      "top": null,
      "visibility": null,
      "width": null
     }
    },
    "61ddc6d488ef40ec8a25df3b972ad22c": {
     "model_module": "@jupyter-widgets/controls",
     "model_name": "DescriptionStyleModel",
     "model_module_version": "1.5.0",
     "state": {
      "_model_module": "@jupyter-widgets/controls",
      "_model_module_version": "1.5.0",
      "_model_name": "DescriptionStyleModel",
      "_view_count": null,
      "_view_module": "@jupyter-widgets/base",
      "_view_module_version": "1.2.0",
      "_view_name": "StyleView",
      "description_width": ""
     }
    },
    "7070f844b00b4bee9914bebced14702f": {
     "model_module": "@jupyter-widgets/base",
     "model_name": "LayoutModel",
     "model_module_version": "1.2.0",
     "state": {
      "_model_module": "@jupyter-widgets/base",
      "_model_module_version": "1.2.0",
      "_model_name": "LayoutModel",
      "_view_count": null,
      "_view_module": "@jupyter-widgets/base",
      "_view_module_version": "1.2.0",
      "_view_name": "LayoutView",
      "align_content": null,
      "align_items": null,
      "align_self": null,
      "border": null,
      "bottom": null,
      "display": null,
      "flex": null,
      "flex_flow": null,
      "grid_area": null,
      "grid_auto_columns": null,
      "grid_auto_flow": null,
      "grid_auto_rows": null,
      "grid_column": null,
      "grid_gap": null,
      "grid_row": null,
      "grid_template_areas": null,
      "grid_template_columns": null,
      "grid_template_rows": null,
      "height": null,
      "justify_content": null,
      "justify_items": null,
      "left": null,
      "margin": null,
      "max_height": null,
      "max_width": null,
      "min_height": null,
      "min_width": null,
      "object_fit": null,
      "object_position": null,
      "order": null,
      "overflow": null,
      "overflow_x": null,
      "overflow_y": null,
      "padding": null,
      "right": null,
      "top": null,
      "visibility": null,
      "width": null
     }
    },
    "22b223344ef6431ba0797427bada282d": {
     "model_module": "@jupyter-widgets/controls",
     "model_name": "ProgressStyleModel",
     "model_module_version": "1.5.0",
     "state": {
      "_model_module": "@jupyter-widgets/controls",
      "_model_module_version": "1.5.0",
      "_model_name": "ProgressStyleModel",
      "_view_count": null,
      "_view_module": "@jupyter-widgets/base",
      "_view_module_version": "1.2.0",
      "_view_name": "StyleView",
      "bar_color": null,
      "description_width": ""
     }
    },
    "694d9e3dda5f4c9ab2963482d3647781": {
     "model_module": "@jupyter-widgets/base",
     "model_name": "LayoutModel",
     "model_module_version": "1.2.0",
     "state": {
      "_model_module": "@jupyter-widgets/base",
      "_model_module_version": "1.2.0",
      "_model_name": "LayoutModel",
      "_view_count": null,
      "_view_module": "@jupyter-widgets/base",
      "_view_module_version": "1.2.0",
      "_view_name": "LayoutView",
      "align_content": null,
      "align_items": null,
      "align_self": null,
      "border": null,
      "bottom": null,
      "display": null,
      "flex": null,
      "flex_flow": null,
      "grid_area": null,
      "grid_auto_columns": null,
      "grid_auto_flow": null,
      "grid_auto_rows": null,
      "grid_column": null,
      "grid_gap": null,
      "grid_row": null,
      "grid_template_areas": null,
      "grid_template_columns": null,
      "grid_template_rows": null,
      "height": null,
      "justify_content": null,
      "justify_items": null,
      "left": null,
      "margin": null,
      "max_height": null,
      "max_width": null,
      "min_height": null,
      "min_width": null,
      "object_fit": null,
      "object_position": null,
      "order": null,
      "overflow": null,
      "overflow_x": null,
      "overflow_y": null,
      "padding": null,
      "right": null,
      "top": null,
      "visibility": null,
      "width": null
     }
    },
    "66572d3d95eb466db8cb48de2fbfa25b": {
     "model_module": "@jupyter-widgets/controls",
     "model_name": "DescriptionStyleModel",
     "model_module_version": "1.5.0",
     "state": {
      "_model_module": "@jupyter-widgets/controls",
      "_model_module_version": "1.5.0",
      "_model_name": "DescriptionStyleModel",
      "_view_count": null,
      "_view_module": "@jupyter-widgets/base",
      "_view_module_version": "1.2.0",
      "_view_name": "StyleView",
      "description_width": ""
     }
    },
    "9098118a5c0145daa39d3f0a741c3944": {
     "model_module": "@jupyter-widgets/controls",
     "model_name": "HBoxModel",
     "model_module_version": "1.5.0",
     "state": {
      "_dom_classes": [],
      "_model_module": "@jupyter-widgets/controls",
      "_model_module_version": "1.5.0",
      "_model_name": "HBoxModel",
      "_view_count": null,
      "_view_module": "@jupyter-widgets/controls",
      "_view_module_version": "1.5.0",
      "_view_name": "HBoxView",
      "box_style": "",
      "children": [
       "IPY_MODEL_da068b2082fd485e87f8ea636e50f2ec",
       "IPY_MODEL_9637b6dd40684267ab12c9a627402db2",
       "IPY_MODEL_64d3488f2ab74fefaf440eb9042b8a47"
      ],
      "layout": "IPY_MODEL_cdfcdb095a8744f68660c9b12128ab99"
     }
    },
    "da068b2082fd485e87f8ea636e50f2ec": {
     "model_module": "@jupyter-widgets/controls",
     "model_name": "HTMLModel",
     "model_module_version": "1.5.0",
     "state": {
      "_dom_classes": [],
      "_model_module": "@jupyter-widgets/controls",
      "_model_module_version": "1.5.0",
      "_model_name": "HTMLModel",
      "_view_count": null,
      "_view_module": "@jupyter-widgets/controls",
      "_view_module_version": "1.5.0",
      "_view_name": "HTMLView",
      "description": "",
      "description_tooltip": null,
      "layout": "IPY_MODEL_555106f3e9614808abc12bf2d38f4961",
      "placeholder": "​",
      "style": "IPY_MODEL_8953110273764620adec547f14bc90c9",
      "value": "sentencepiece.bpe.model: 100%"
     }
    },
    "9637b6dd40684267ab12c9a627402db2": {
     "model_module": "@jupyter-widgets/controls",
     "model_name": "FloatProgressModel",
     "model_module_version": "1.5.0",
     "state": {
      "_dom_classes": [],
      "_model_module": "@jupyter-widgets/controls",
      "_model_module_version": "1.5.0",
      "_model_name": "FloatProgressModel",
      "_view_count": null,
      "_view_module": "@jupyter-widgets/controls",
      "_view_module_version": "1.5.0",
      "_view_name": "ProgressView",
      "bar_style": "success",
      "description": "",
      "description_tooltip": null,
      "layout": "IPY_MODEL_a115f591c5cd48afa98452256d0e0290",
      "max": 5069051,
      "min": 0,
      "orientation": "horizontal",
      "style": "IPY_MODEL_a571227e572e49fea4bf0afbc59a69d4",
      "value": 5069051
     }
    },
    "64d3488f2ab74fefaf440eb9042b8a47": {
     "model_module": "@jupyter-widgets/controls",
     "model_name": "HTMLModel",
     "model_module_version": "1.5.0",
     "state": {
      "_dom_classes": [],
      "_model_module": "@jupyter-widgets/controls",
      "_model_module_version": "1.5.0",
      "_model_name": "HTMLModel",
      "_view_count": null,
      "_view_module": "@jupyter-widgets/controls",
      "_view_module_version": "1.5.0",
      "_view_name": "HTMLView",
      "description": "",
      "description_tooltip": null,
      "layout": "IPY_MODEL_107b116493484e8b8c1b0acfbfe32161",
      "placeholder": "​",
      "style": "IPY_MODEL_08c70f8f673e4b7b976511de132e621e",
      "value": " 5.07M/5.07M [00:00&lt;00:00, 33.2MB/s]"
     }
    },
    "cdfcdb095a8744f68660c9b12128ab99": {
     "model_module": "@jupyter-widgets/base",
     "model_name": "LayoutModel",
     "model_module_version": "1.2.0",
     "state": {
      "_model_module": "@jupyter-widgets/base",
      "_model_module_version": "1.2.0",
      "_model_name": "LayoutModel",
      "_view_count": null,
      "_view_module": "@jupyter-widgets/base",
      "_view_module_version": "1.2.0",
      "_view_name": "LayoutView",
      "align_content": null,
      "align_items": null,
      "align_self": null,
      "border": null,
      "bottom": null,
      "display": null,
      "flex": null,
      "flex_flow": null,
      "grid_area": null,
      "grid_auto_columns": null,
      "grid_auto_flow": null,
      "grid_auto_rows": null,
      "grid_column": null,
      "grid_gap": null,
      "grid_row": null,
      "grid_template_areas": null,
      "grid_template_columns": null,
      "grid_template_rows": null,
      "height": null,
      "justify_content": null,
      "justify_items": null,
      "left": null,
      "margin": null,
      "max_height": null,
      "max_width": null,
      "min_height": null,
      "min_width": null,
      "object_fit": null,
      "object_position": null,
      "order": null,
      "overflow": null,
      "overflow_x": null,
      "overflow_y": null,
      "padding": null,
      "right": null,
      "top": null,
      "visibility": null,
      "width": null
     }
    },
    "555106f3e9614808abc12bf2d38f4961": {
     "model_module": "@jupyter-widgets/base",
     "model_name": "LayoutModel",
     "model_module_version": "1.2.0",
     "state": {
      "_model_module": "@jupyter-widgets/base",
      "_model_module_version": "1.2.0",
      "_model_name": "LayoutModel",
      "_view_count": null,
      "_view_module": "@jupyter-widgets/base",
      "_view_module_version": "1.2.0",
      "_view_name": "LayoutView",
      "align_content": null,
      "align_items": null,
      "align_self": null,
      "border": null,
      "bottom": null,
      "display": null,
      "flex": null,
      "flex_flow": null,
      "grid_area": null,
      "grid_auto_columns": null,
      "grid_auto_flow": null,
      "grid_auto_rows": null,
      "grid_column": null,
      "grid_gap": null,
      "grid_row": null,
      "grid_template_areas": null,
      "grid_template_columns": null,
      "grid_template_rows": null,
      "height": null,
      "justify_content": null,
      "justify_items": null,
      "left": null,
      "margin": null,
      "max_height": null,
      "max_width": null,
      "min_height": null,
      "min_width": null,
      "object_fit": null,
      "object_position": null,
      "order": null,
      "overflow": null,
      "overflow_x": null,
      "overflow_y": null,
      "padding": null,
      "right": null,
      "top": null,
      "visibility": null,
      "width": null
     }
    },
    "8953110273764620adec547f14bc90c9": {
     "model_module": "@jupyter-widgets/controls",
     "model_name": "DescriptionStyleModel",
     "model_module_version": "1.5.0",
     "state": {
      "_model_module": "@jupyter-widgets/controls",
      "_model_module_version": "1.5.0",
      "_model_name": "DescriptionStyleModel",
      "_view_count": null,
      "_view_module": "@jupyter-widgets/base",
      "_view_module_version": "1.2.0",
      "_view_name": "StyleView",
      "description_width": ""
     }
    },
    "a115f591c5cd48afa98452256d0e0290": {
     "model_module": "@jupyter-widgets/base",
     "model_name": "LayoutModel",
     "model_module_version": "1.2.0",
     "state": {
      "_model_module": "@jupyter-widgets/base",
      "_model_module_version": "1.2.0",
      "_model_name": "LayoutModel",
      "_view_count": null,
      "_view_module": "@jupyter-widgets/base",
      "_view_module_version": "1.2.0",
      "_view_name": "LayoutView",
      "align_content": null,
      "align_items": null,
      "align_self": null,
      "border": null,
      "bottom": null,
      "display": null,
      "flex": null,
      "flex_flow": null,
      "grid_area": null,
      "grid_auto_columns": null,
      "grid_auto_flow": null,
      "grid_auto_rows": null,
      "grid_column": null,
      "grid_gap": null,
      "grid_row": null,
      "grid_template_areas": null,
      "grid_template_columns": null,
      "grid_template_rows": null,
      "height": null,
      "justify_content": null,
      "justify_items": null,
      "left": null,
      "margin": null,
      "max_height": null,
      "max_width": null,
      "min_height": null,
      "min_width": null,
      "object_fit": null,
      "object_position": null,
      "order": null,
      "overflow": null,
      "overflow_x": null,
      "overflow_y": null,
      "padding": null,
      "right": null,
      "top": null,
      "visibility": null,
      "width": null
     }
    },
    "a571227e572e49fea4bf0afbc59a69d4": {
     "model_module": "@jupyter-widgets/controls",
     "model_name": "ProgressStyleModel",
     "model_module_version": "1.5.0",
     "state": {
      "_model_module": "@jupyter-widgets/controls",
      "_model_module_version": "1.5.0",
      "_model_name": "ProgressStyleModel",
      "_view_count": null,
      "_view_module": "@jupyter-widgets/base",
      "_view_module_version": "1.2.0",
      "_view_name": "StyleView",
      "bar_color": null,
      "description_width": ""
     }
    },
    "107b116493484e8b8c1b0acfbfe32161": {
     "model_module": "@jupyter-widgets/base",
     "model_name": "LayoutModel",
     "model_module_version": "1.2.0",
     "state": {
      "_model_module": "@jupyter-widgets/base",
      "_model_module_version": "1.2.0",
      "_model_name": "LayoutModel",
      "_view_count": null,
      "_view_module": "@jupyter-widgets/base",
      "_view_module_version": "1.2.0",
      "_view_name": "LayoutView",
      "align_content": null,
      "align_items": null,
      "align_self": null,
      "border": null,
      "bottom": null,
      "display": null,
      "flex": null,
      "flex_flow": null,
      "grid_area": null,
      "grid_auto_columns": null,
      "grid_auto_flow": null,
      "grid_auto_rows": null,
      "grid_column": null,
      "grid_gap": null,
      "grid_row": null,
      "grid_template_areas": null,
      "grid_template_columns": null,
      "grid_template_rows": null,
      "height": null,
      "justify_content": null,
      "justify_items": null,
      "left": null,
      "margin": null,
      "max_height": null,
      "max_width": null,
      "min_height": null,
      "min_width": null,
      "object_fit": null,
      "object_position": null,
      "order": null,
      "overflow": null,
      "overflow_x": null,
      "overflow_y": null,
      "padding": null,
      "right": null,
      "top": null,
      "visibility": null,
      "width": null
     }
    },
    "08c70f8f673e4b7b976511de132e621e": {
     "model_module": "@jupyter-widgets/controls",
     "model_name": "DescriptionStyleModel",
     "model_module_version": "1.5.0",
     "state": {
      "_model_module": "@jupyter-widgets/controls",
      "_model_module_version": "1.5.0",
      "_model_name": "DescriptionStyleModel",
      "_view_count": null,
      "_view_module": "@jupyter-widgets/base",
      "_view_module_version": "1.2.0",
      "_view_name": "StyleView",
      "description_width": ""
     }
    },
    "b7f3f381b25f4f0e86ae18cc88ac9125": {
     "model_module": "@jupyter-widgets/controls",
     "model_name": "HBoxModel",
     "model_module_version": "1.5.0",
     "state": {
      "_dom_classes": [],
      "_model_module": "@jupyter-widgets/controls",
      "_model_module_version": "1.5.0",
      "_model_name": "HBoxModel",
      "_view_count": null,
      "_view_module": "@jupyter-widgets/controls",
      "_view_module_version": "1.5.0",
      "_view_name": "HBoxView",
      "box_style": "",
      "children": [
       "IPY_MODEL_d9dfdee397984db3bfadbe9a2d8e5a0f",
       "IPY_MODEL_27b16f1a13f44901a3666578a04521fe",
       "IPY_MODEL_3f74933df1fc4e068b2f6784b2de65db"
      ],
      "layout": "IPY_MODEL_90c23460844649a0bb8a13b17840ef09"
     }
    },
    "d9dfdee397984db3bfadbe9a2d8e5a0f": {
     "model_module": "@jupyter-widgets/controls",
     "model_name": "HTMLModel",
     "model_module_version": "1.5.0",
     "state": {
      "_dom_classes": [],
      "_model_module": "@jupyter-widgets/controls",
      "_model_module_version": "1.5.0",
      "_model_name": "HTMLModel",
      "_view_count": null,
      "_view_module": "@jupyter-widgets/controls",
      "_view_module_version": "1.5.0",
      "_view_name": "HTMLView",
      "description": "",
      "description_tooltip": null,
      "layout": "IPY_MODEL_a10bfa30f0ad47abbdad40798485ded3",
      "placeholder": "​",
      "style": "IPY_MODEL_067384e49c584fcdafcbd8e97484e889",
      "value": "tokenizer.json: 100%"
     }
    },
    "27b16f1a13f44901a3666578a04521fe": {
     "model_module": "@jupyter-widgets/controls",
     "model_name": "FloatProgressModel",
     "model_module_version": "1.5.0",
     "state": {
      "_dom_classes": [],
      "_model_module": "@jupyter-widgets/controls",
      "_model_module_version": "1.5.0",
      "_model_name": "FloatProgressModel",
      "_view_count": null,
      "_view_module": "@jupyter-widgets/controls",
      "_view_module_version": "1.5.0",
      "_view_name": "ProgressView",
      "bar_style": "success",
      "description": "",
      "description_tooltip": null,
      "layout": "IPY_MODEL_1f145fb0007d4c95ac03e7a40b871bdb",
      "max": 9096718,
      "min": 0,
      "orientation": "horizontal",
      "style": "IPY_MODEL_6e1fd54ed2d84d6e8cbcdb09fdcd807e",
      "value": 9096718
     }
    },
    "3f74933df1fc4e068b2f6784b2de65db": {
     "model_module": "@jupyter-widgets/controls",
     "model_name": "HTMLModel",
     "model_module_version": "1.5.0",
     "state": {
      "_dom_classes": [],
      "_model_module": "@jupyter-widgets/controls",
      "_model_module_version": "1.5.0",
      "_model_name": "HTMLModel",
      "_view_count": null,
      "_view_module": "@jupyter-widgets/controls",
      "_view_module_version": "1.5.0",
      "_view_name": "HTMLView",
      "description": "",
      "description_tooltip": null,
      "layout": "IPY_MODEL_46ece30d1b014d8d85c722e22653a925",
      "placeholder": "​",
      "style": "IPY_MODEL_426d315e79b04db1b7907e7bdca3db68",
      "value": " 9.10M/9.10M [00:00&lt;00:00, 28.8MB/s]"
     }
    },
    "90c23460844649a0bb8a13b17840ef09": {
     "model_module": "@jupyter-widgets/base",
     "model_name": "LayoutModel",
     "model_module_version": "1.2.0",
     "state": {
      "_model_module": "@jupyter-widgets/base",
      "_model_module_version": "1.2.0",
      "_model_name": "LayoutModel",
      "_view_count": null,
      "_view_module": "@jupyter-widgets/base",
      "_view_module_version": "1.2.0",
      "_view_name": "LayoutView",
      "align_content": null,
      "align_items": null,
      "align_self": null,
      "border": null,
      "bottom": null,
      "display": null,
      "flex": null,
      "flex_flow": null,
      "grid_area": null,
      "grid_auto_columns": null,
      "grid_auto_flow": null,
      "grid_auto_rows": null,
      "grid_column": null,
      "grid_gap": null,
      "grid_row": null,
      "grid_template_areas": null,
      "grid_template_columns": null,
      "grid_template_rows": null,
      "height": null,
      "justify_content": null,
      "justify_items": null,
      "left": null,
      "margin": null,
      "max_height": null,
      "max_width": null,
      "min_height": null,
      "min_width": null,
      "object_fit": null,
      "object_position": null,
      "order": null,
      "overflow": null,
      "overflow_x": null,
      "overflow_y": null,
      "padding": null,
      "right": null,
      "top": null,
      "visibility": null,
      "width": null
     }
    },
    "a10bfa30f0ad47abbdad40798485ded3": {
     "model_module": "@jupyter-widgets/base",
     "model_name": "LayoutModel",
     "model_module_version": "1.2.0",
     "state": {
      "_model_module": "@jupyter-widgets/base",
      "_model_module_version": "1.2.0",
      "_model_name": "LayoutModel",
      "_view_count": null,
      "_view_module": "@jupyter-widgets/base",
      "_view_module_version": "1.2.0",
      "_view_name": "LayoutView",
      "align_content": null,
      "align_items": null,
      "align_self": null,
      "border": null,
      "bottom": null,
      "display": null,
      "flex": null,
      "flex_flow": null,
      "grid_area": null,
      "grid_auto_columns": null,
      "grid_auto_flow": null,
      "grid_auto_rows": null,
      "grid_column": null,
      "grid_gap": null,
      "grid_row": null,
      "grid_template_areas": null,
      "grid_template_columns": null,
      "grid_template_rows": null,
      "height": null,
      "justify_content": null,
      "justify_items": null,
      "left": null,
      "margin": null,
      "max_height": null,
      "max_width": null,
      "min_height": null,
      "min_width": null,
      "object_fit": null,
      "object_position": null,
      "order": null,
      "overflow": null,
      "overflow_x": null,
      "overflow_y": null,
      "padding": null,
      "right": null,
      "top": null,
      "visibility": null,
      "width": null
     }
    },
    "067384e49c584fcdafcbd8e97484e889": {
     "model_module": "@jupyter-widgets/controls",
     "model_name": "DescriptionStyleModel",
     "model_module_version": "1.5.0",
     "state": {
      "_model_module": "@jupyter-widgets/controls",
      "_model_module_version": "1.5.0",
      "_model_name": "DescriptionStyleModel",
      "_view_count": null,
      "_view_module": "@jupyter-widgets/base",
      "_view_module_version": "1.2.0",
      "_view_name": "StyleView",
      "description_width": ""
     }
    },
    "1f145fb0007d4c95ac03e7a40b871bdb": {
     "model_module": "@jupyter-widgets/base",
     "model_name": "LayoutModel",
     "model_module_version": "1.2.0",
     "state": {
      "_model_module": "@jupyter-widgets/base",
      "_model_module_version": "1.2.0",
      "_model_name": "LayoutModel",
      "_view_count": null,
      "_view_module": "@jupyter-widgets/base",
      "_view_module_version": "1.2.0",
      "_view_name": "LayoutView",
      "align_content": null,
      "align_items": null,
      "align_self": null,
      "border": null,
      "bottom": null,
      "display": null,
      "flex": null,
      "flex_flow": null,
      "grid_area": null,
      "grid_auto_columns": null,
      "grid_auto_flow": null,
      "grid_auto_rows": null,
      "grid_column": null,
      "grid_gap": null,
      "grid_row": null,
      "grid_template_areas": null,
      "grid_template_columns": null,
      "grid_template_rows": null,
      "height": null,
      "justify_content": null,
      "justify_items": null,
      "left": null,
      "margin": null,
      "max_height": null,
      "max_width": null,
      "min_height": null,
      "min_width": null,
      "object_fit": null,
      "object_position": null,
      "order": null,
      "overflow": null,
      "overflow_x": null,
      "overflow_y": null,
      "padding": null,
      "right": null,
      "top": null,
      "visibility": null,
      "width": null
     }
    },
    "6e1fd54ed2d84d6e8cbcdb09fdcd807e": {
     "model_module": "@jupyter-widgets/controls",
     "model_name": "ProgressStyleModel",
     "model_module_version": "1.5.0",
     "state": {
      "_model_module": "@jupyter-widgets/controls",
      "_model_module_version": "1.5.0",
      "_model_name": "ProgressStyleModel",
      "_view_count": null,
      "_view_module": "@jupyter-widgets/base",
      "_view_module_version": "1.2.0",
      "_view_name": "StyleView",
      "bar_color": null,
      "description_width": ""
     }
    },
    "46ece30d1b014d8d85c722e22653a925": {
     "model_module": "@jupyter-widgets/base",
     "model_name": "LayoutModel",
     "model_module_version": "1.2.0",
     "state": {
      "_model_module": "@jupyter-widgets/base",
      "_model_module_version": "1.2.0",
      "_model_name": "LayoutModel",
      "_view_count": null,
      "_view_module": "@jupyter-widgets/base",
      "_view_module_version": "1.2.0",
      "_view_name": "LayoutView",
      "align_content": null,
      "align_items": null,
      "align_self": null,
      "border": null,
      "bottom": null,
      "display": null,
      "flex": null,
      "flex_flow": null,
      "grid_area": null,
      "grid_auto_columns": null,
      "grid_auto_flow": null,
      "grid_auto_rows": null,
      "grid_column": null,
      "grid_gap": null,
      "grid_row": null,
      "grid_template_areas": null,
      "grid_template_columns": null,
      "grid_template_rows": null,
      "height": null,
      "justify_content": null,
      "justify_items": null,
      "left": null,
      "margin": null,
      "max_height": null,
      "max_width": null,
      "min_height": null,
      "min_width": null,
      "object_fit": null,
      "object_position": null,
      "order": null,
      "overflow": null,
      "overflow_x": null,
      "overflow_y": null,
      "padding": null,
      "right": null,
      "top": null,
      "visibility": null,
      "width": null
     }
    },
    "426d315e79b04db1b7907e7bdca3db68": {
     "model_module": "@jupyter-widgets/controls",
     "model_name": "DescriptionStyleModel",
     "model_module_version": "1.5.0",
     "state": {
      "_model_module": "@jupyter-widgets/controls",
      "_model_module_version": "1.5.0",
      "_model_name": "DescriptionStyleModel",
      "_view_count": null,
      "_view_module": "@jupyter-widgets/base",
      "_view_module_version": "1.2.0",
      "_view_name": "StyleView",
      "description_width": ""
     }
    },
    "0e21dcc64e7d4993b3f08f3b7fe0be08": {
     "model_module": "@jupyter-widgets/controls",
     "model_name": "HBoxModel",
     "model_module_version": "1.5.0",
     "state": {
      "_dom_classes": [],
      "_model_module": "@jupyter-widgets/controls",
      "_model_module_version": "1.5.0",
      "_model_name": "HBoxModel",
      "_view_count": null,
      "_view_module": "@jupyter-widgets/controls",
      "_view_module_version": "1.5.0",
      "_view_name": "HBoxView",
      "box_style": "",
      "children": [
       "IPY_MODEL_7174420b8956409fb80fca8678235da8",
       "IPY_MODEL_bb3e996068354fa18cc7fc8696e8a8e6",
       "IPY_MODEL_b4d927072bf7464aa25268d00913269a"
      ],
      "layout": "IPY_MODEL_f4d75391c4a540ca8984b9b83e0606fa"
     }
    },
    "7174420b8956409fb80fca8678235da8": {
     "model_module": "@jupyter-widgets/controls",
     "model_name": "HTMLModel",
     "model_module_version": "1.5.0",
     "state": {
      "_dom_classes": [],
      "_model_module": "@jupyter-widgets/controls",
      "_model_module_version": "1.5.0",
      "_model_name": "HTMLModel",
      "_view_count": null,
      "_view_module": "@jupyter-widgets/controls",
      "_view_module_version": "1.5.0",
      "_view_name": "HTMLView",
      "description": "",
      "description_tooltip": null,
      "layout": "IPY_MODEL_b28eeee0b76e4c40b53431fbafbbdfb7",
      "placeholder": "​",
      "style": "IPY_MODEL_6be8d53b2beb426d9fcff05339ca6d94",
      "value": "Map: 100%"
     }
    },
    "bb3e996068354fa18cc7fc8696e8a8e6": {
     "model_module": "@jupyter-widgets/controls",
     "model_name": "FloatProgressModel",
     "model_module_version": "1.5.0",
     "state": {
      "_dom_classes": [],
      "_model_module": "@jupyter-widgets/controls",
      "_model_module_version": "1.5.0",
      "_model_name": "FloatProgressModel",
      "_view_count": null,
      "_view_module": "@jupyter-widgets/controls",
      "_view_module_version": "1.5.0",
      "_view_name": "ProgressView",
      "bar_style": "success",
      "description": "",
      "description_tooltip": null,
      "layout": "IPY_MODEL_6a98734d5c0347b0b1182a8083523c6f",
      "max": 155982,
      "min": 0,
      "orientation": "horizontal",
      "style": "IPY_MODEL_8b171f03a48940cabc3fd0cc74772ddd",
      "value": 155982
     }
    },
    "b4d927072bf7464aa25268d00913269a": {
     "model_module": "@jupyter-widgets/controls",
     "model_name": "HTMLModel",
     "model_module_version": "1.5.0",
     "state": {
      "_dom_classes": [],
      "_model_module": "@jupyter-widgets/controls",
      "_model_module_version": "1.5.0",
      "_model_name": "HTMLModel",
      "_view_count": null,
      "_view_module": "@jupyter-widgets/controls",
      "_view_module_version": "1.5.0",
      "_view_name": "HTMLView",
      "description": "",
      "description_tooltip": null,
      "layout": "IPY_MODEL_d6e5742a838c4515945ec1d12dd5d87f",
      "placeholder": "​",
      "style": "IPY_MODEL_b9f866d8352440d387ff8270dc51145a",
      "value": " 155982/155982 [00:23&lt;00:00, 7255.38 examples/s]"
     }
    },
    "f4d75391c4a540ca8984b9b83e0606fa": {
     "model_module": "@jupyter-widgets/base",
     "model_name": "LayoutModel",
     "model_module_version": "1.2.0",
     "state": {
      "_model_module": "@jupyter-widgets/base",
      "_model_module_version": "1.2.0",
      "_model_name": "LayoutModel",
      "_view_count": null,
      "_view_module": "@jupyter-widgets/base",
      "_view_module_version": "1.2.0",
      "_view_name": "LayoutView",
      "align_content": null,
      "align_items": null,
      "align_self": null,
      "border": null,
      "bottom": null,
      "display": null,
      "flex": null,
      "flex_flow": null,
      "grid_area": null,
      "grid_auto_columns": null,
      "grid_auto_flow": null,
      "grid_auto_rows": null,
      "grid_column": null,
      "grid_gap": null,
      "grid_row": null,
      "grid_template_areas": null,
      "grid_template_columns": null,
      "grid_template_rows": null,
      "height": null,
      "justify_content": null,
      "justify_items": null,
      "left": null,
      "margin": null,
      "max_height": null,
      "max_width": null,
      "min_height": null,
      "min_width": null,
      "object_fit": null,
      "object_position": null,
      "order": null,
      "overflow": null,
      "overflow_x": null,
      "overflow_y": null,
      "padding": null,
      "right": null,
      "top": null,
      "visibility": null,
      "width": null
     }
    },
    "b28eeee0b76e4c40b53431fbafbbdfb7": {
     "model_module": "@jupyter-widgets/base",
     "model_name": "LayoutModel",
     "model_module_version": "1.2.0",
     "state": {
      "_model_module": "@jupyter-widgets/base",
      "_model_module_version": "1.2.0",
      "_model_name": "LayoutModel",
      "_view_count": null,
      "_view_module": "@jupyter-widgets/base",
      "_view_module_version": "1.2.0",
      "_view_name": "LayoutView",
      "align_content": null,
      "align_items": null,
      "align_self": null,
      "border": null,
      "bottom": null,
      "display": null,
      "flex": null,
      "flex_flow": null,
      "grid_area": null,
      "grid_auto_columns": null,
      "grid_auto_flow": null,
      "grid_auto_rows": null,
      "grid_column": null,
      "grid_gap": null,
      "grid_row": null,
      "grid_template_areas": null,
      "grid_template_columns": null,
      "grid_template_rows": null,
      "height": null,
      "justify_content": null,
      "justify_items": null,
      "left": null,
      "margin": null,
      "max_height": null,
      "max_width": null,
      "min_height": null,
      "min_width": null,
      "object_fit": null,
      "object_position": null,
      "order": null,
      "overflow": null,
      "overflow_x": null,
      "overflow_y": null,
      "padding": null,
      "right": null,
      "top": null,
      "visibility": null,
      "width": null
     }
    },
    "6be8d53b2beb426d9fcff05339ca6d94": {
     "model_module": "@jupyter-widgets/controls",
     "model_name": "DescriptionStyleModel",
     "model_module_version": "1.5.0",
     "state": {
      "_model_module": "@jupyter-widgets/controls",
      "_model_module_version": "1.5.0",
      "_model_name": "DescriptionStyleModel",
      "_view_count": null,
      "_view_module": "@jupyter-widgets/base",
      "_view_module_version": "1.2.0",
      "_view_name": "StyleView",
      "description_width": ""
     }
    },
    "6a98734d5c0347b0b1182a8083523c6f": {
     "model_module": "@jupyter-widgets/base",
     "model_name": "LayoutModel",
     "model_module_version": "1.2.0",
     "state": {
      "_model_module": "@jupyter-widgets/base",
      "_model_module_version": "1.2.0",
      "_model_name": "LayoutModel",
      "_view_count": null,
      "_view_module": "@jupyter-widgets/base",
      "_view_module_version": "1.2.0",
      "_view_name": "LayoutView",
      "align_content": null,
      "align_items": null,
      "align_self": null,
      "border": null,
      "bottom": null,
      "display": null,
      "flex": null,
      "flex_flow": null,
      "grid_area": null,
      "grid_auto_columns": null,
      "grid_auto_flow": null,
      "grid_auto_rows": null,
      "grid_column": null,
      "grid_gap": null,
      "grid_row": null,
      "grid_template_areas": null,
      "grid_template_columns": null,
      "grid_template_rows": null,
      "height": null,
      "justify_content": null,
      "justify_items": null,
      "left": null,
      "margin": null,
      "max_height": null,
      "max_width": null,
      "min_height": null,
      "min_width": null,
      "object_fit": null,
      "object_position": null,
      "order": null,
      "overflow": null,
      "overflow_x": null,
      "overflow_y": null,
      "padding": null,
      "right": null,
      "top": null,
      "visibility": null,
      "width": null
     }
    },
    "8b171f03a48940cabc3fd0cc74772ddd": {
     "model_module": "@jupyter-widgets/controls",
     "model_name": "ProgressStyleModel",
     "model_module_version": "1.5.0",
     "state": {
      "_model_module": "@jupyter-widgets/controls",
      "_model_module_version": "1.5.0",
      "_model_name": "ProgressStyleModel",
      "_view_count": null,
      "_view_module": "@jupyter-widgets/base",
      "_view_module_version": "1.2.0",
      "_view_name": "StyleView",
      "bar_color": null,
      "description_width": ""
     }
    },
    "d6e5742a838c4515945ec1d12dd5d87f": {
     "model_module": "@jupyter-widgets/base",
     "model_name": "LayoutModel",
     "model_module_version": "1.2.0",
     "state": {
      "_model_module": "@jupyter-widgets/base",
      "_model_module_version": "1.2.0",
      "_model_name": "LayoutModel",
      "_view_count": null,
      "_view_module": "@jupyter-widgets/base",
      "_view_module_version": "1.2.0",
      "_view_name": "LayoutView",
      "align_content": null,
      "align_items": null,
      "align_self": null,
      "border": null,
      "bottom": null,
      "display": null,
      "flex": null,
      "flex_flow": null,
      "grid_area": null,
      "grid_auto_columns": null,
      "grid_auto_flow": null,
      "grid_auto_rows": null,
      "grid_column": null,
      "grid_gap": null,
      "grid_row": null,
      "grid_template_areas": null,
      "grid_template_columns": null,
      "grid_template_rows": null,
      "height": null,
      "justify_content": null,
      "justify_items": null,
      "left": null,
      "margin": null,
      "max_height": null,
      "max_width": null,
      "min_height": null,
      "min_width": null,
      "object_fit": null,
      "object_position": null,
      "order": null,
      "overflow": null,
      "overflow_x": null,
      "overflow_y": null,
      "padding": null,
      "right": null,
      "top": null,
      "visibility": null,
      "width": null
     }
    },
    "b9f866d8352440d387ff8270dc51145a": {
     "model_module": "@jupyter-widgets/controls",
     "model_name": "DescriptionStyleModel",
     "model_module_version": "1.5.0",
     "state": {
      "_model_module": "@jupyter-widgets/controls",
      "_model_module_version": "1.5.0",
      "_model_name": "DescriptionStyleModel",
      "_view_count": null,
      "_view_module": "@jupyter-widgets/base",
      "_view_module_version": "1.2.0",
      "_view_name": "StyleView",
      "description_width": ""
     }
    },
    "fa4649331bdd4214bd39b556d8f330a9": {
     "model_module": "@jupyter-widgets/controls",
     "model_name": "HBoxModel",
     "model_module_version": "1.5.0",
     "state": {
      "_dom_classes": [],
      "_model_module": "@jupyter-widgets/controls",
      "_model_module_version": "1.5.0",
      "_model_name": "HBoxModel",
      "_view_count": null,
      "_view_module": "@jupyter-widgets/controls",
      "_view_module_version": "1.5.0",
      "_view_name": "HBoxView",
      "box_style": "",
      "children": [
       "IPY_MODEL_b432853f56ed4671bc7d8299a4bc8032",
       "IPY_MODEL_a6a9ab7540b74234ab04b6169f6423b1",
       "IPY_MODEL_17c9256c119e4352a8a55ec3c9523de9"
      ],
      "layout": "IPY_MODEL_d262911b013d42dcb54b6b4c404d7b85"
     }
    },
    "b432853f56ed4671bc7d8299a4bc8032": {
     "model_module": "@jupyter-widgets/controls",
     "model_name": "HTMLModel",
     "model_module_version": "1.5.0",
     "state": {
      "_dom_classes": [],
      "_model_module": "@jupyter-widgets/controls",
      "_model_module_version": "1.5.0",
      "_model_name": "HTMLModel",
      "_view_count": null,
      "_view_module": "@jupyter-widgets/controls",
      "_view_module_version": "1.5.0",
      "_view_name": "HTMLView",
      "description": "",
      "description_tooltip": null,
      "layout": "IPY_MODEL_4ad0b61f0ed34d24b80ee732e184c1ab",
      "placeholder": "​",
      "style": "IPY_MODEL_8ec731cfc73c4c72a78f489d59c49fc2",
      "value": "Map: 100%"
     }
    },
    "a6a9ab7540b74234ab04b6169f6423b1": {
     "model_module": "@jupyter-widgets/controls",
     "model_name": "FloatProgressModel",
     "model_module_version": "1.5.0",
     "state": {
      "_dom_classes": [],
      "_model_module": "@jupyter-widgets/controls",
      "_model_module_version": "1.5.0",
      "_model_name": "FloatProgressModel",
      "_view_count": null,
      "_view_module": "@jupyter-widgets/controls",
      "_view_module_version": "1.5.0",
      "_view_name": "ProgressView",
      "bar_style": "success",
      "description": "",
      "description_tooltip": null,
      "layout": "IPY_MODEL_de81be58b979413da5ed47adeddad1a4",
      "max": 38996,
      "min": 0,
      "orientation": "horizontal",
      "style": "IPY_MODEL_7a7386801958478c9649fc9c59a3eb3c",
      "value": 38996
     }
    },
    "17c9256c119e4352a8a55ec3c9523de9": {
     "model_module": "@jupyter-widgets/controls",
     "model_name": "HTMLModel",
     "model_module_version": "1.5.0",
     "state": {
      "_dom_classes": [],
      "_model_module": "@jupyter-widgets/controls",
      "_model_module_version": "1.5.0",
      "_model_name": "HTMLModel",
      "_view_count": null,
      "_view_module": "@jupyter-widgets/controls",
      "_view_module_version": "1.5.0",
      "_view_name": "HTMLView",
      "description": "",
      "description_tooltip": null,
      "layout": "IPY_MODEL_5c2a062c6a334eccb7861be9f47c4c55",
      "placeholder": "​",
      "style": "IPY_MODEL_642e408b0f7c47f7b82222cae51bf0d8",
      "value": " 38996/38996 [00:07&lt;00:00, 6833.27 examples/s]"
     }
    },
    "d262911b013d42dcb54b6b4c404d7b85": {
     "model_module": "@jupyter-widgets/base",
     "model_name": "LayoutModel",
     "model_module_version": "1.2.0",
     "state": {
      "_model_module": "@jupyter-widgets/base",
      "_model_module_version": "1.2.0",
      "_model_name": "LayoutModel",
      "_view_count": null,
      "_view_module": "@jupyter-widgets/base",
      "_view_module_version": "1.2.0",
      "_view_name": "LayoutView",
      "align_content": null,
      "align_items": null,
      "align_self": null,
      "border": null,
      "bottom": null,
      "display": null,
      "flex": null,
      "flex_flow": null,
      "grid_area": null,
      "grid_auto_columns": null,
      "grid_auto_flow": null,
      "grid_auto_rows": null,
      "grid_column": null,
      "grid_gap": null,
      "grid_row": null,
      "grid_template_areas": null,
      "grid_template_columns": null,
      "grid_template_rows": null,
      "height": null,
      "justify_content": null,
      "justify_items": null,
      "left": null,
      "margin": null,
      "max_height": null,
      "max_width": null,
      "min_height": null,
      "min_width": null,
      "object_fit": null,
      "object_position": null,
      "order": null,
      "overflow": null,
      "overflow_x": null,
      "overflow_y": null,
      "padding": null,
      "right": null,
      "top": null,
      "visibility": null,
      "width": null
     }
    },
    "4ad0b61f0ed34d24b80ee732e184c1ab": {
     "model_module": "@jupyter-widgets/base",
     "model_name": "LayoutModel",
     "model_module_version": "1.2.0",
     "state": {
      "_model_module": "@jupyter-widgets/base",
      "_model_module_version": "1.2.0",
      "_model_name": "LayoutModel",
      "_view_count": null,
      "_view_module": "@jupyter-widgets/base",
      "_view_module_version": "1.2.0",
      "_view_name": "LayoutView",
      "align_content": null,
      "align_items": null,
      "align_self": null,
      "border": null,
      "bottom": null,
      "display": null,
      "flex": null,
      "flex_flow": null,
      "grid_area": null,
      "grid_auto_columns": null,
      "grid_auto_flow": null,
      "grid_auto_rows": null,
      "grid_column": null,
      "grid_gap": null,
      "grid_row": null,
      "grid_template_areas": null,
      "grid_template_columns": null,
      "grid_template_rows": null,
      "height": null,
      "justify_content": null,
      "justify_items": null,
      "left": null,
      "margin": null,
      "max_height": null,
      "max_width": null,
      "min_height": null,
      "min_width": null,
      "object_fit": null,
      "object_position": null,
      "order": null,
      "overflow": null,
      "overflow_x": null,
      "overflow_y": null,
      "padding": null,
      "right": null,
      "top": null,
      "visibility": null,
      "width": null
     }
    },
    "8ec731cfc73c4c72a78f489d59c49fc2": {
     "model_module": "@jupyter-widgets/controls",
     "model_name": "DescriptionStyleModel",
     "model_module_version": "1.5.0",
     "state": {
      "_model_module": "@jupyter-widgets/controls",
      "_model_module_version": "1.5.0",
      "_model_name": "DescriptionStyleModel",
      "_view_count": null,
      "_view_module": "@jupyter-widgets/base",
      "_view_module_version": "1.2.0",
      "_view_name": "StyleView",
      "description_width": ""
     }
    },
    "de81be58b979413da5ed47adeddad1a4": {
     "model_module": "@jupyter-widgets/base",
     "model_name": "LayoutModel",
     "model_module_version": "1.2.0",
     "state": {
      "_model_module": "@jupyter-widgets/base",
      "_model_module_version": "1.2.0",
      "_model_name": "LayoutModel",
      "_view_count": null,
      "_view_module": "@jupyter-widgets/base",
      "_view_module_version": "1.2.0",
      "_view_name": "LayoutView",
      "align_content": null,
      "align_items": null,
      "align_self": null,
      "border": null,
      "bottom": null,
      "display": null,
      "flex": null,
      "flex_flow": null,
      "grid_area": null,
      "grid_auto_columns": null,
      "grid_auto_flow": null,
      "grid_auto_rows": null,
      "grid_column": null,
      "grid_gap": null,
      "grid_row": null,
      "grid_template_areas": null,
      "grid_template_columns": null,
      "grid_template_rows": null,
      "height": null,
      "justify_content": null,
      "justify_items": null,
      "left": null,
      "margin": null,
      "max_height": null,
      "max_width": null,
      "min_height": null,
      "min_width": null,
      "object_fit": null,
      "object_position": null,
      "order": null,
      "overflow": null,
      "overflow_x": null,
      "overflow_y": null,
      "padding": null,
      "right": null,
      "top": null,
      "visibility": null,
      "width": null
     }
    },
    "7a7386801958478c9649fc9c59a3eb3c": {
     "model_module": "@jupyter-widgets/controls",
     "model_name": "ProgressStyleModel",
     "model_module_version": "1.5.0",
     "state": {
      "_model_module": "@jupyter-widgets/controls",
      "_model_module_version": "1.5.0",
      "_model_name": "ProgressStyleModel",
      "_view_count": null,
      "_view_module": "@jupyter-widgets/base",
      "_view_module_version": "1.2.0",
      "_view_name": "StyleView",
      "bar_color": null,
      "description_width": ""
     }
    },
    "5c2a062c6a334eccb7861be9f47c4c55": {
     "model_module": "@jupyter-widgets/base",
     "model_name": "LayoutModel",
     "model_module_version": "1.2.0",
     "state": {
      "_model_module": "@jupyter-widgets/base",
      "_model_module_version": "1.2.0",
      "_model_name": "LayoutModel",
      "_view_count": null,
      "_view_module": "@jupyter-widgets/base",
      "_view_module_version": "1.2.0",
      "_view_name": "LayoutView",
      "align_content": null,
      "align_items": null,
      "align_self": null,
      "border": null,
      "bottom": null,
      "display": null,
      "flex": null,
      "flex_flow": null,
      "grid_area": null,
      "grid_auto_columns": null,
      "grid_auto_flow": null,
      "grid_auto_rows": null,
      "grid_column": null,
      "grid_gap": null,
      "grid_row": null,
      "grid_template_areas": null,
      "grid_template_columns": null,
      "grid_template_rows": null,
      "height": null,
      "justify_content": null,
      "justify_items": null,
      "left": null,
      "margin": null,
      "max_height": null,
      "max_width": null,
      "min_height": null,
      "min_width": null,
      "object_fit": null,
      "object_position": null,
      "order": null,
      "overflow": null,
      "overflow_x": null,
      "overflow_y": null,
      "padding": null,
      "right": null,
      "top": null,
      "visibility": null,
      "width": null
     }
    },
    "642e408b0f7c47f7b82222cae51bf0d8": {
     "model_module": "@jupyter-widgets/controls",
     "model_name": "DescriptionStyleModel",
     "model_module_version": "1.5.0",
     "state": {
      "_model_module": "@jupyter-widgets/controls",
      "_model_module_version": "1.5.0",
      "_model_name": "DescriptionStyleModel",
      "_view_count": null,
      "_view_module": "@jupyter-widgets/base",
      "_view_module_version": "1.2.0",
      "_view_name": "StyleView",
      "description_width": ""
     }
    },
    "8c077e51aeeb428f89b8eb54ad3bd64b": {
     "model_module": "@jupyter-widgets/controls",
     "model_name": "HBoxModel",
     "model_module_version": "1.5.0",
     "state": {
      "_dom_classes": [],
      "_model_module": "@jupyter-widgets/controls",
      "_model_module_version": "1.5.0",
      "_model_name": "HBoxModel",
      "_view_count": null,
      "_view_module": "@jupyter-widgets/controls",
      "_view_module_version": "1.5.0",
      "_view_name": "HBoxView",
      "box_style": "",
      "children": [
       "IPY_MODEL_6b3884942c454a129a3d8fa4746d0477",
       "IPY_MODEL_cf68dc762fb543dc89a23f1b4d7ae9d7",
       "IPY_MODEL_58cb8d256c1f4ded92448d5c5b7887bc"
      ],
      "layout": "IPY_MODEL_7b1f8bbc1da54cfb94849494065b7a1e"
     }
    },
    "6b3884942c454a129a3d8fa4746d0477": {
     "model_module": "@jupyter-widgets/controls",
     "model_name": "HTMLModel",
     "model_module_version": "1.5.0",
     "state": {
      "_dom_classes": [],
      "_model_module": "@jupyter-widgets/controls",
      "_model_module_version": "1.5.0",
      "_model_name": "HTMLModel",
      "_view_count": null,
      "_view_module": "@jupyter-widgets/controls",
      "_view_module_version": "1.5.0",
      "_view_name": "HTMLView",
      "description": "",
      "description_tooltip": null,
      "layout": "IPY_MODEL_600e7d57329a4e1492942c289528adfa",
      "placeholder": "​",
      "style": "IPY_MODEL_d6e95b2b98c44d4ea7ddd2d97190f0c0",
      "value": "Map: 100%"
     }
    },
    "cf68dc762fb543dc89a23f1b4d7ae9d7": {
     "model_module": "@jupyter-widgets/controls",
     "model_name": "FloatProgressModel",
     "model_module_version": "1.5.0",
     "state": {
      "_dom_classes": [],
      "_model_module": "@jupyter-widgets/controls",
      "_model_module_version": "1.5.0",
      "_model_name": "FloatProgressModel",
      "_view_count": null,
      "_view_module": "@jupyter-widgets/controls",
      "_view_module_version": "1.5.0",
      "_view_name": "ProgressView",
      "bar_style": "success",
      "description": "",
      "description_tooltip": null,
      "layout": "IPY_MODEL_96d59042942349c9924465a268e3747e",
      "max": 155982,
      "min": 0,
      "orientation": "horizontal",
      "style": "IPY_MODEL_eec0603f3d3b4ebab08e825b8acd8e0d",
      "value": 155982
     }
    },
    "58cb8d256c1f4ded92448d5c5b7887bc": {
     "model_module": "@jupyter-widgets/controls",
     "model_name": "HTMLModel",
     "model_module_version": "1.5.0",
     "state": {
      "_dom_classes": [],
      "_model_module": "@jupyter-widgets/controls",
      "_model_module_version": "1.5.0",
      "_model_name": "HTMLModel",
      "_view_count": null,
      "_view_module": "@jupyter-widgets/controls",
      "_view_module_version": "1.5.0",
      "_view_name": "HTMLView",
      "description": "",
      "description_tooltip": null,
      "layout": "IPY_MODEL_a1879b6628434c03ad6600a178816d1c",
      "placeholder": "​",
      "style": "IPY_MODEL_40fbcc58193e472ea283cb7be0c2978b",
      "value": " 155982/155982 [00:00&lt;00:00, 304211.12 examples/s]"
     }
    },
    "7b1f8bbc1da54cfb94849494065b7a1e": {
     "model_module": "@jupyter-widgets/base",
     "model_name": "LayoutModel",
     "model_module_version": "1.2.0",
     "state": {
      "_model_module": "@jupyter-widgets/base",
      "_model_module_version": "1.2.0",
      "_model_name": "LayoutModel",
      "_view_count": null,
      "_view_module": "@jupyter-widgets/base",
      "_view_module_version": "1.2.0",
      "_view_name": "LayoutView",
      "align_content": null,
      "align_items": null,
      "align_self": null,
      "border": null,
      "bottom": null,
      "display": null,
      "flex": null,
      "flex_flow": null,
      "grid_area": null,
      "grid_auto_columns": null,
      "grid_auto_flow": null,
      "grid_auto_rows": null,
      "grid_column": null,
      "grid_gap": null,
      "grid_row": null,
      "grid_template_areas": null,
      "grid_template_columns": null,
      "grid_template_rows": null,
      "height": null,
      "justify_content": null,
      "justify_items": null,
      "left": null,
      "margin": null,
      "max_height": null,
      "max_width": null,
      "min_height": null,
      "min_width": null,
      "object_fit": null,
      "object_position": null,
      "order": null,
      "overflow": null,
      "overflow_x": null,
      "overflow_y": null,
      "padding": null,
      "right": null,
      "top": null,
      "visibility": null,
      "width": null
     }
    },
    "600e7d57329a4e1492942c289528adfa": {
     "model_module": "@jupyter-widgets/base",
     "model_name": "LayoutModel",
     "model_module_version": "1.2.0",
     "state": {
      "_model_module": "@jupyter-widgets/base",
      "_model_module_version": "1.2.0",
      "_model_name": "LayoutModel",
      "_view_count": null,
      "_view_module": "@jupyter-widgets/base",
      "_view_module_version": "1.2.0",
      "_view_name": "LayoutView",
      "align_content": null,
      "align_items": null,
      "align_self": null,
      "border": null,
      "bottom": null,
      "display": null,
      "flex": null,
      "flex_flow": null,
      "grid_area": null,
      "grid_auto_columns": null,
      "grid_auto_flow": null,
      "grid_auto_rows": null,
      "grid_column": null,
      "grid_gap": null,
      "grid_row": null,
      "grid_template_areas": null,
      "grid_template_columns": null,
      "grid_template_rows": null,
      "height": null,
      "justify_content": null,
      "justify_items": null,
      "left": null,
      "margin": null,
      "max_height": null,
      "max_width": null,
      "min_height": null,
      "min_width": null,
      "object_fit": null,
      "object_position": null,
      "order": null,
      "overflow": null,
      "overflow_x": null,
      "overflow_y": null,
      "padding": null,
      "right": null,
      "top": null,
      "visibility": null,
      "width": null
     }
    },
    "d6e95b2b98c44d4ea7ddd2d97190f0c0": {
     "model_module": "@jupyter-widgets/controls",
     "model_name": "DescriptionStyleModel",
     "model_module_version": "1.5.0",
     "state": {
      "_model_module": "@jupyter-widgets/controls",
      "_model_module_version": "1.5.0",
      "_model_name": "DescriptionStyleModel",
      "_view_count": null,
      "_view_module": "@jupyter-widgets/base",
      "_view_module_version": "1.2.0",
      "_view_name": "StyleView",
      "description_width": ""
     }
    },
    "96d59042942349c9924465a268e3747e": {
     "model_module": "@jupyter-widgets/base",
     "model_name": "LayoutModel",
     "model_module_version": "1.2.0",
     "state": {
      "_model_module": "@jupyter-widgets/base",
      "_model_module_version": "1.2.0",
      "_model_name": "LayoutModel",
      "_view_count": null,
      "_view_module": "@jupyter-widgets/base",
      "_view_module_version": "1.2.0",
      "_view_name": "LayoutView",
      "align_content": null,
      "align_items": null,
      "align_self": null,
      "border": null,
      "bottom": null,
      "display": null,
      "flex": null,
      "flex_flow": null,
      "grid_area": null,
      "grid_auto_columns": null,
      "grid_auto_flow": null,
      "grid_auto_rows": null,
      "grid_column": null,
      "grid_gap": null,
      "grid_row": null,
      "grid_template_areas": null,
      "grid_template_columns": null,
      "grid_template_rows": null,
      "height": null,
      "justify_content": null,
      "justify_items": null,
      "left": null,
      "margin": null,
      "max_height": null,
      "max_width": null,
      "min_height": null,
      "min_width": null,
      "object_fit": null,
      "object_position": null,
      "order": null,
      "overflow": null,
      "overflow_x": null,
      "overflow_y": null,
      "padding": null,
      "right": null,
      "top": null,
      "visibility": null,
      "width": null
     }
    },
    "eec0603f3d3b4ebab08e825b8acd8e0d": {
     "model_module": "@jupyter-widgets/controls",
     "model_name": "ProgressStyleModel",
     "model_module_version": "1.5.0",
     "state": {
      "_model_module": "@jupyter-widgets/controls",
      "_model_module_version": "1.5.0",
      "_model_name": "ProgressStyleModel",
      "_view_count": null,
      "_view_module": "@jupyter-widgets/base",
      "_view_module_version": "1.2.0",
      "_view_name": "StyleView",
      "bar_color": null,
      "description_width": ""
     }
    },
    "a1879b6628434c03ad6600a178816d1c": {
     "model_module": "@jupyter-widgets/base",
     "model_name": "LayoutModel",
     "model_module_version": "1.2.0",
     "state": {
      "_model_module": "@jupyter-widgets/base",
      "_model_module_version": "1.2.0",
      "_model_name": "LayoutModel",
      "_view_count": null,
      "_view_module": "@jupyter-widgets/base",
      "_view_module_version": "1.2.0",
      "_view_name": "LayoutView",
      "align_content": null,
      "align_items": null,
      "align_self": null,
      "border": null,
      "bottom": null,
      "display": null,
      "flex": null,
      "flex_flow": null,
      "grid_area": null,
      "grid_auto_columns": null,
      "grid_auto_flow": null,
      "grid_auto_rows": null,
      "grid_column": null,
      "grid_gap": null,
      "grid_row": null,
      "grid_template_areas": null,
      "grid_template_columns": null,
      "grid_template_rows": null,
      "height": null,
      "justify_content": null,
      "justify_items": null,
      "left": null,
      "margin": null,
      "max_height": null,
      "max_width": null,
      "min_height": null,
      "min_width": null,
      "object_fit": null,
      "object_position": null,
      "order": null,
      "overflow": null,
      "overflow_x": null,
      "overflow_y": null,
      "padding": null,
      "right": null,
      "top": null,
      "visibility": null,
      "width": null
     }
    },
    "40fbcc58193e472ea283cb7be0c2978b": {
     "model_module": "@jupyter-widgets/controls",
     "model_name": "DescriptionStyleModel",
     "model_module_version": "1.5.0",
     "state": {
      "_model_module": "@jupyter-widgets/controls",
      "_model_module_version": "1.5.0",
      "_model_name": "DescriptionStyleModel",
      "_view_count": null,
      "_view_module": "@jupyter-widgets/base",
      "_view_module_version": "1.2.0",
      "_view_name": "StyleView",
      "description_width": ""
     }
    },
    "20c4d43159314854baec720dc1098785": {
     "model_module": "@jupyter-widgets/controls",
     "model_name": "HBoxModel",
     "model_module_version": "1.5.0",
     "state": {
      "_dom_classes": [],
      "_model_module": "@jupyter-widgets/controls",
      "_model_module_version": "1.5.0",
      "_model_name": "HBoxModel",
      "_view_count": null,
      "_view_module": "@jupyter-widgets/controls",
      "_view_module_version": "1.5.0",
      "_view_name": "HBoxView",
      "box_style": "",
      "children": [
       "IPY_MODEL_1aec3e29c0b0465f991c200ac9cad373",
       "IPY_MODEL_efdce64d36e44a6a8d18505fcff729a8",
       "IPY_MODEL_11f5cdaacb7e4b86b9a1207acd21c740"
      ],
      "layout": "IPY_MODEL_9858f2c3d9c74c2a98bdba2c6204b6d2"
     }
    },
    "1aec3e29c0b0465f991c200ac9cad373": {
     "model_module": "@jupyter-widgets/controls",
     "model_name": "HTMLModel",
     "model_module_version": "1.5.0",
     "state": {
      "_dom_classes": [],
      "_model_module": "@jupyter-widgets/controls",
      "_model_module_version": "1.5.0",
      "_model_name": "HTMLModel",
      "_view_count": null,
      "_view_module": "@jupyter-widgets/controls",
      "_view_module_version": "1.5.0",
      "_view_name": "HTMLView",
      "description": "",
      "description_tooltip": null,
      "layout": "IPY_MODEL_9dea1e3918374607832277204aa758cd",
      "placeholder": "​",
      "style": "IPY_MODEL_58ccc1e5230c4dde976d6afa35cdace4",
      "value": "Map: 100%"
     }
    },
    "efdce64d36e44a6a8d18505fcff729a8": {
     "model_module": "@jupyter-widgets/controls",
     "model_name": "FloatProgressModel",
     "model_module_version": "1.5.0",
     "state": {
      "_dom_classes": [],
      "_model_module": "@jupyter-widgets/controls",
      "_model_module_version": "1.5.0",
      "_model_name": "FloatProgressModel",
      "_view_count": null,
      "_view_module": "@jupyter-widgets/controls",
      "_view_module_version": "1.5.0",
      "_view_name": "ProgressView",
      "bar_style": "success",
      "description": "",
      "description_tooltip": null,
      "layout": "IPY_MODEL_4400627b9a0249c5bd2a2da3a64f5be0",
      "max": 38996,
      "min": 0,
      "orientation": "horizontal",
      "style": "IPY_MODEL_3ed13fb366b9480196d6c7737b7028e6",
      "value": 38996
     }
    },
    "11f5cdaacb7e4b86b9a1207acd21c740": {
     "model_module": "@jupyter-widgets/controls",
     "model_name": "HTMLModel",
     "model_module_version": "1.5.0",
     "state": {
      "_dom_classes": [],
      "_model_module": "@jupyter-widgets/controls",
      "_model_module_version": "1.5.0",
      "_model_name": "HTMLModel",
      "_view_count": null,
      "_view_module": "@jupyter-widgets/controls",
      "_view_module_version": "1.5.0",
      "_view_name": "HTMLView",
      "description": "",
      "description_tooltip": null,
      "layout": "IPY_MODEL_fb62c31f04d240f5b5c4d839136d0b88",
      "placeholder": "​",
      "style": "IPY_MODEL_e9b1e1b9b82c45e1b760e3e41bcf2f47",
      "value": " 38996/38996 [00:00&lt;00:00, 384892.16 examples/s]"
     }
    },
    "9858f2c3d9c74c2a98bdba2c6204b6d2": {
     "model_module": "@jupyter-widgets/base",
     "model_name": "LayoutModel",
     "model_module_version": "1.2.0",
     "state": {
      "_model_module": "@jupyter-widgets/base",
      "_model_module_version": "1.2.0",
      "_model_name": "LayoutModel",
      "_view_count": null,
      "_view_module": "@jupyter-widgets/base",
      "_view_module_version": "1.2.0",
      "_view_name": "LayoutView",
      "align_content": null,
      "align_items": null,
      "align_self": null,
      "border": null,
      "bottom": null,
      "display": null,
      "flex": null,
      "flex_flow": null,
      "grid_area": null,
      "grid_auto_columns": null,
      "grid_auto_flow": null,
      "grid_auto_rows": null,
      "grid_column": null,
      "grid_gap": null,
      "grid_row": null,
      "grid_template_areas": null,
      "grid_template_columns": null,
      "grid_template_rows": null,
      "height": null,
      "justify_content": null,
      "justify_items": null,
      "left": null,
      "margin": null,
      "max_height": null,
      "max_width": null,
      "min_height": null,
      "min_width": null,
      "object_fit": null,
      "object_position": null,
      "order": null,
      "overflow": null,
      "overflow_x": null,
      "overflow_y": null,
      "padding": null,
      "right": null,
      "top": null,
      "visibility": null,
      "width": null
     }
    },
    "9dea1e3918374607832277204aa758cd": {
     "model_module": "@jupyter-widgets/base",
     "model_name": "LayoutModel",
     "model_module_version": "1.2.0",
     "state": {
      "_model_module": "@jupyter-widgets/base",
      "_model_module_version": "1.2.0",
      "_model_name": "LayoutModel",
      "_view_count": null,
      "_view_module": "@jupyter-widgets/base",
      "_view_module_version": "1.2.0",
      "_view_name": "LayoutView",
      "align_content": null,
      "align_items": null,
      "align_self": null,
      "border": null,
      "bottom": null,
      "display": null,
      "flex": null,
      "flex_flow": null,
      "grid_area": null,
      "grid_auto_columns": null,
      "grid_auto_flow": null,
      "grid_auto_rows": null,
      "grid_column": null,
      "grid_gap": null,
      "grid_row": null,
      "grid_template_areas": null,
      "grid_template_columns": null,
      "grid_template_rows": null,
      "height": null,
      "justify_content": null,
      "justify_items": null,
      "left": null,
      "margin": null,
      "max_height": null,
      "max_width": null,
      "min_height": null,
      "min_width": null,
      "object_fit": null,
      "object_position": null,
      "order": null,
      "overflow": null,
      "overflow_x": null,
      "overflow_y": null,
      "padding": null,
      "right": null,
      "top": null,
      "visibility": null,
      "width": null
     }
    },
    "58ccc1e5230c4dde976d6afa35cdace4": {
     "model_module": "@jupyter-widgets/controls",
     "model_name": "DescriptionStyleModel",
     "model_module_version": "1.5.0",
     "state": {
      "_model_module": "@jupyter-widgets/controls",
      "_model_module_version": "1.5.0",
      "_model_name": "DescriptionStyleModel",
      "_view_count": null,
      "_view_module": "@jupyter-widgets/base",
      "_view_module_version": "1.2.0",
      "_view_name": "StyleView",
      "description_width": ""
     }
    },
    "4400627b9a0249c5bd2a2da3a64f5be0": {
     "model_module": "@jupyter-widgets/base",
     "model_name": "LayoutModel",
     "model_module_version": "1.2.0",
     "state": {
      "_model_module": "@jupyter-widgets/base",
      "_model_module_version": "1.2.0",
      "_model_name": "LayoutModel",
      "_view_count": null,
      "_view_module": "@jupyter-widgets/base",
      "_view_module_version": "1.2.0",
      "_view_name": "LayoutView",
      "align_content": null,
      "align_items": null,
      "align_self": null,
      "border": null,
      "bottom": null,
      "display": null,
      "flex": null,
      "flex_flow": null,
      "grid_area": null,
      "grid_auto_columns": null,
      "grid_auto_flow": null,
      "grid_auto_rows": null,
      "grid_column": null,
      "grid_gap": null,
      "grid_row": null,
      "grid_template_areas": null,
      "grid_template_columns": null,
      "grid_template_rows": null,
      "height": null,
      "justify_content": null,
      "justify_items": null,
      "left": null,
      "margin": null,
      "max_height": null,
      "max_width": null,
      "min_height": null,
      "min_width": null,
      "object_fit": null,
      "object_position": null,
      "order": null,
      "overflow": null,
      "overflow_x": null,
      "overflow_y": null,
      "padding": null,
      "right": null,
      "top": null,
      "visibility": null,
      "width": null
     }
    },
    "3ed13fb366b9480196d6c7737b7028e6": {
     "model_module": "@jupyter-widgets/controls",
     "model_name": "ProgressStyleModel",
     "model_module_version": "1.5.0",
     "state": {
      "_model_module": "@jupyter-widgets/controls",
      "_model_module_version": "1.5.0",
      "_model_name": "ProgressStyleModel",
      "_view_count": null,
      "_view_module": "@jupyter-widgets/base",
      "_view_module_version": "1.2.0",
      "_view_name": "StyleView",
      "bar_color": null,
      "description_width": ""
     }
    },
    "fb62c31f04d240f5b5c4d839136d0b88": {
     "model_module": "@jupyter-widgets/base",
     "model_name": "LayoutModel",
     "model_module_version": "1.2.0",
     "state": {
      "_model_module": "@jupyter-widgets/base",
      "_model_module_version": "1.2.0",
      "_model_name": "LayoutModel",
      "_view_count": null,
      "_view_module": "@jupyter-widgets/base",
      "_view_module_version": "1.2.0",
      "_view_name": "LayoutView",
      "align_content": null,
      "align_items": null,
      "align_self": null,
      "border": null,
      "bottom": null,
      "display": null,
      "flex": null,
      "flex_flow": null,
      "grid_area": null,
      "grid_auto_columns": null,
      "grid_auto_flow": null,
      "grid_auto_rows": null,
      "grid_column": null,
      "grid_gap": null,
      "grid_row": null,
      "grid_template_areas": null,
      "grid_template_columns": null,
      "grid_template_rows": null,
      "height": null,
      "justify_content": null,
      "justify_items": null,
      "left": null,
      "margin": null,
      "max_height": null,
      "max_width": null,
      "min_height": null,
      "min_width": null,
      "object_fit": null,
      "object_position": null,
      "order": null,
      "overflow": null,
      "overflow_x": null,
      "overflow_y": null,
      "padding": null,
      "right": null,
      "top": null,
      "visibility": null,
      "width": null
     }
    },
    "e9b1e1b9b82c45e1b760e3e41bcf2f47": {
     "model_module": "@jupyter-widgets/controls",
     "model_name": "DescriptionStyleModel",
     "model_module_version": "1.5.0",
     "state": {
      "_model_module": "@jupyter-widgets/controls",
      "_model_module_version": "1.5.0",
      "_model_name": "DescriptionStyleModel",
      "_view_count": null,
      "_view_module": "@jupyter-widgets/base",
      "_view_module_version": "1.2.0",
      "_view_name": "StyleView",
      "description_width": ""
     }
    },
    "eaf47804ce5c4619adad39e26e0e038c": {
     "model_module": "@jupyter-widgets/controls",
     "model_name": "HBoxModel",
     "model_module_version": "1.5.0",
     "state": {
      "_dom_classes": [],
      "_model_module": "@jupyter-widgets/controls",
      "_model_module_version": "1.5.0",
      "_model_name": "HBoxModel",
      "_view_count": null,
      "_view_module": "@jupyter-widgets/controls",
      "_view_module_version": "1.5.0",
      "_view_name": "HBoxView",
      "box_style": "",
      "children": [
       "IPY_MODEL_20e67dd24e0e4d6e869c6a7d1fa4f28e",
       "IPY_MODEL_c750f8fb3b544565b8d6ad8f31463436",
       "IPY_MODEL_1658bc8920814d4889e2fe9dcf44376d"
      ],
      "layout": "IPY_MODEL_69d6ffcc739d4e33a25d3c7a88145fd5"
     }
    },
    "20e67dd24e0e4d6e869c6a7d1fa4f28e": {
     "model_module": "@jupyter-widgets/controls",
     "model_name": "HTMLModel",
     "model_module_version": "1.5.0",
     "state": {
      "_dom_classes": [],
      "_model_module": "@jupyter-widgets/controls",
      "_model_module_version": "1.5.0",
      "_model_name": "HTMLModel",
      "_view_count": null,
      "_view_module": "@jupyter-widgets/controls",
      "_view_module_version": "1.5.0",
      "_view_name": "HTMLView",
      "description": "",
      "description_tooltip": null,
      "layout": "IPY_MODEL_f65918c6c35e4fd1bb4f293c411780fb",
      "placeholder": "​",
      "style": "IPY_MODEL_dc48fa59d04a4afbb0fbf73aa3209555",
      "value": "model.safetensors: 100%"
     }
    },
    "c750f8fb3b544565b8d6ad8f31463436": {
     "model_module": "@jupyter-widgets/controls",
     "model_name": "FloatProgressModel",
     "model_module_version": "1.5.0",
     "state": {
      "_dom_classes": [],
      "_model_module": "@jupyter-widgets/controls",
      "_model_module_version": "1.5.0",
      "_model_name": "FloatProgressModel",
      "_view_count": null,
      "_view_module": "@jupyter-widgets/controls",
      "_view_module_version": "1.5.0",
      "_view_name": "ProgressView",
      "bar_style": "success",
      "description": "",
      "description_tooltip": null,
      "layout": "IPY_MODEL_853f08b37dde44fcb2ea3870761b2a23",
      "max": 1115567652,
      "min": 0,
      "orientation": "horizontal",
      "style": "IPY_MODEL_1d6107183cb9483a938aecece410340b",
      "value": 1115567652
     }
    },
    "1658bc8920814d4889e2fe9dcf44376d": {
     "model_module": "@jupyter-widgets/controls",
     "model_name": "HTMLModel",
     "model_module_version": "1.5.0",
     "state": {
      "_dom_classes": [],
      "_model_module": "@jupyter-widgets/controls",
      "_model_module_version": "1.5.0",
      "_model_name": "HTMLModel",
      "_view_count": null,
      "_view_module": "@jupyter-widgets/controls",
      "_view_module_version": "1.5.0",
      "_view_name": "HTMLView",
      "description": "",
      "description_tooltip": null,
      "layout": "IPY_MODEL_22b9388b2d814ac3994c7c7d6ab6a2c0",
      "placeholder": "​",
      "style": "IPY_MODEL_a6c859630ef24103837d33975c55b3b4",
      "value": " 1.12G/1.12G [00:32&lt;00:00, 44.3MB/s]"
     }
    },
    "69d6ffcc739d4e33a25d3c7a88145fd5": {
     "model_module": "@jupyter-widgets/base",
     "model_name": "LayoutModel",
     "model_module_version": "1.2.0",
     "state": {
      "_model_module": "@jupyter-widgets/base",
      "_model_module_version": "1.2.0",
      "_model_name": "LayoutModel",
      "_view_count": null,
      "_view_module": "@jupyter-widgets/base",
      "_view_module_version": "1.2.0",
      "_view_name": "LayoutView",
      "align_content": null,
      "align_items": null,
      "align_self": null,
      "border": null,
      "bottom": null,
      "display": null,
      "flex": null,
      "flex_flow": null,
      "grid_area": null,
      "grid_auto_columns": null,
      "grid_auto_flow": null,
      "grid_auto_rows": null,
      "grid_column": null,
      "grid_gap": null,
      "grid_row": null,
      "grid_template_areas": null,
      "grid_template_columns": null,
      "grid_template_rows": null,
      "height": null,
      "justify_content": null,
      "justify_items": null,
      "left": null,
      "margin": null,
      "max_height": null,
      "max_width": null,
      "min_height": null,
      "min_width": null,
      "object_fit": null,
      "object_position": null,
      "order": null,
      "overflow": null,
      "overflow_x": null,
      "overflow_y": null,
      "padding": null,
      "right": null,
      "top": null,
      "visibility": null,
      "width": null
     }
    },
    "f65918c6c35e4fd1bb4f293c411780fb": {
     "model_module": "@jupyter-widgets/base",
     "model_name": "LayoutModel",
     "model_module_version": "1.2.0",
     "state": {
      "_model_module": "@jupyter-widgets/base",
      "_model_module_version": "1.2.0",
      "_model_name": "LayoutModel",
      "_view_count": null,
      "_view_module": "@jupyter-widgets/base",
      "_view_module_version": "1.2.0",
      "_view_name": "LayoutView",
      "align_content": null,
      "align_items": null,
      "align_self": null,
      "border": null,
      "bottom": null,
      "display": null,
      "flex": null,
      "flex_flow": null,
      "grid_area": null,
      "grid_auto_columns": null,
      "grid_auto_flow": null,
      "grid_auto_rows": null,
      "grid_column": null,
      "grid_gap": null,
      "grid_row": null,
      "grid_template_areas": null,
      "grid_template_columns": null,
      "grid_template_rows": null,
      "height": null,
      "justify_content": null,
      "justify_items": null,
      "left": null,
      "margin": null,
      "max_height": null,
      "max_width": null,
      "min_height": null,
      "min_width": null,
      "object_fit": null,
      "object_position": null,
      "order": null,
      "overflow": null,
      "overflow_x": null,
      "overflow_y": null,
      "padding": null,
      "right": null,
      "top": null,
      "visibility": null,
      "width": null
     }
    },
    "dc48fa59d04a4afbb0fbf73aa3209555": {
     "model_module": "@jupyter-widgets/controls",
     "model_name": "DescriptionStyleModel",
     "model_module_version": "1.5.0",
     "state": {
      "_model_module": "@jupyter-widgets/controls",
      "_model_module_version": "1.5.0",
      "_model_name": "DescriptionStyleModel",
      "_view_count": null,
      "_view_module": "@jupyter-widgets/base",
      "_view_module_version": "1.2.0",
      "_view_name": "StyleView",
      "description_width": ""
     }
    },
    "853f08b37dde44fcb2ea3870761b2a23": {
     "model_module": "@jupyter-widgets/base",
     "model_name": "LayoutModel",
     "model_module_version": "1.2.0",
     "state": {
      "_model_module": "@jupyter-widgets/base",
      "_model_module_version": "1.2.0",
      "_model_name": "LayoutModel",
      "_view_count": null,
      "_view_module": "@jupyter-widgets/base",
      "_view_module_version": "1.2.0",
      "_view_name": "LayoutView",
      "align_content": null,
      "align_items": null,
      "align_self": null,
      "border": null,
      "bottom": null,
      "display": null,
      "flex": null,
      "flex_flow": null,
      "grid_area": null,
      "grid_auto_columns": null,
      "grid_auto_flow": null,
      "grid_auto_rows": null,
      "grid_column": null,
      "grid_gap": null,
      "grid_row": null,
      "grid_template_areas": null,
      "grid_template_columns": null,
      "grid_template_rows": null,
      "height": null,
      "justify_content": null,
      "justify_items": null,
      "left": null,
      "margin": null,
      "max_height": null,
      "max_width": null,
      "min_height": null,
      "min_width": null,
      "object_fit": null,
      "object_position": null,
      "order": null,
      "overflow": null,
      "overflow_x": null,
      "overflow_y": null,
      "padding": null,
      "right": null,
      "top": null,
      "visibility": null,
      "width": null
     }
    },
    "1d6107183cb9483a938aecece410340b": {
     "model_module": "@jupyter-widgets/controls",
     "model_name": "ProgressStyleModel",
     "model_module_version": "1.5.0",
     "state": {
      "_model_module": "@jupyter-widgets/controls",
      "_model_module_version": "1.5.0",
      "_model_name": "ProgressStyleModel",
      "_view_count": null,
      "_view_module": "@jupyter-widgets/base",
      "_view_module_version": "1.2.0",
      "_view_name": "StyleView",
      "bar_color": null,
      "description_width": ""
     }
    },
    "22b9388b2d814ac3994c7c7d6ab6a2c0": {
     "model_module": "@jupyter-widgets/base",
     "model_name": "LayoutModel",
     "model_module_version": "1.2.0",
     "state": {
      "_model_module": "@jupyter-widgets/base",
      "_model_module_version": "1.2.0",
      "_model_name": "LayoutModel",
      "_view_count": null,
      "_view_module": "@jupyter-widgets/base",
      "_view_module_version": "1.2.0",
      "_view_name": "LayoutView",
      "align_content": null,
      "align_items": null,
      "align_self": null,
      "border": null,
      "bottom": null,
      "display": null,
      "flex": null,
      "flex_flow": null,
      "grid_area": null,
      "grid_auto_columns": null,
      "grid_auto_flow": null,
      "grid_auto_rows": null,
      "grid_column": null,
      "grid_gap": null,
      "grid_row": null,
      "grid_template_areas": null,
      "grid_template_columns": null,
      "grid_template_rows": null,
      "height": null,
      "justify_content": null,
      "justify_items": null,
      "left": null,
      "margin": null,
      "max_height": null,
      "max_width": null,
      "min_height": null,
      "min_width": null,
      "object_fit": null,
      "object_position": null,
      "order": null,
      "overflow": null,
      "overflow_x": null,
      "overflow_y": null,
      "padding": null,
      "right": null,
      "top": null,
      "visibility": null,
      "width": null
     }
    },
    "a6c859630ef24103837d33975c55b3b4": {
     "model_module": "@jupyter-widgets/controls",
     "model_name": "DescriptionStyleModel",
     "model_module_version": "1.5.0",
     "state": {
      "_model_module": "@jupyter-widgets/controls",
      "_model_module_version": "1.5.0",
      "_model_name": "DescriptionStyleModel",
      "_view_count": null,
      "_view_module": "@jupyter-widgets/base",
      "_view_module_version": "1.2.0",
      "_view_name": "StyleView",
      "description_width": ""
     }
    }
   }
  }
 },
 "cells": [
  {
   "metadata": {},
   "cell_type": "markdown",
   "source": "# Dependency Imports"
  },
  {
   "cell_type": "code",
   "source": [
    "import pandas as pd\n",
    "import numpy as np\n",
    "import re\n",
    "import string\n",
    "import seaborn as sns\n",
    "import matplotlib.pyplot as plt\n",
    "from sklearn.model_selection import train_test_split\n",
    "from sklearn.preprocessing import LabelEncoder\n",
    "from sklearn.feature_extraction.text import TfidfVectorizer\n",
    "from sklearn.linear_model import LogisticRegression\n",
    "from sklearn.ensemble import RandomForestClassifier\n",
    "from sklearn.metrics import classification_report, confusion_matrix\n",
    "from tensorflow.keras.preprocessing.text import Tokenizer\n",
    "from tensorflow.keras.preprocessing.sequence import pad_sequences\n",
    "from tensorflow.keras.models import Sequential\n",
    "from tensorflow.keras.layers import Embedding, LSTM, Dense, Dropout\n",
    "from collections import Counter\n",
    "from wordcloud import WordCloud\n",
    "import nltk\n",
    "import torch\n",
    "from datasets import Dataset\n",
    "from transformers import (\n",
    "    AutoTokenizer,\n",
    "    AutoModelForSequenceClassification,\n",
    "    TrainingArguments,\n",
    "    Trainer,\n",
    ")\n",
    "from peft import LoraConfig, get_peft_model\n",
    "from evaluate import load as load_metric"
   ],
   "metadata": {
    "id": "rUCKAlecDm4I",
    "ExecuteTime": {
     "end_time": "2025-06-22T06:40:28.566443Z",
     "start_time": "2025-06-22T06:40:15.497379Z"
    }
   },
   "outputs": [],
   "execution_count": 1
  },
  {
   "metadata": {},
   "cell_type": "markdown",
   "source": "# Checking if `Hardware Acceleration` is available"
  },
  {
   "cell_type": "code",
   "source": [
    "try:\n",
    "    import torch_xla\n",
    "    import torch_xla.core.xla_model as xm\n",
    "    tpu_available = True\n",
    "except ImportError:\n",
    "    tpu_available = False\n",
    "\n",
    "if torch.cuda.is_available():\n",
    "    device = torch.device(\"cuda\")\n",
    "    print(\"Using NVIDIA GPU (CUDA) for computations.\")\n",
    "elif torch.backends.mps.is_available():\n",
    "    device = torch.device(\"mps\")\n",
    "    print(\"Using Apple Silicon GPU (MPS) for computations.\")\n",
    "elif tpu_available:\n",
    "    device = xm.xla_device()\n",
    "    print(\"Using TPU (XLA) for computations.\")\n",
    "else:\n",
    "    device = torch.device(\"cpu\")\n",
    "    print(\"Neither CUDA, MPS, nor TPU available. Using CPU for computations.\")"
   ],
   "metadata": {
    "colab": {
     "base_uri": "https://localhost:8080/",
     "height": 0
    },
    "id": "97B6Y82VD8jM",
    "outputId": "53235381-bdaa-4d23-ab5b-607216c6e6df",
    "ExecuteTime": {
     "end_time": "2025-06-22T06:40:28.585146Z",
     "start_time": "2025-06-22T06:40:28.581461Z"
    }
   },
   "outputs": [
    {
     "name": "stdout",
     "output_type": "stream",
     "text": [
      "Using Apple Silicon GPU (MPS) for computations.\n"
     ]
    }
   ],
   "execution_count": 2
  },
  {
   "metadata": {},
   "cell_type": "markdown",
   "source": "# Loading the Dataset"
  },
  {
   "cell_type": "code",
   "source": "DATASET_PATH = 'Datasets/processed_final_195k.parquet'",
   "metadata": {
    "id": "fCuXvcD_ECpK",
    "ExecuteTime": {
     "end_time": "2025-06-22T06:40:36.761558Z",
     "start_time": "2025-06-22T06:40:36.759415Z"
    }
   },
   "outputs": [],
   "execution_count": 3
  },
  {
   "cell_type": "code",
   "source": [
    "df = pd.read_parquet(DATASET_PATH)\n",
    "df.head()"
   ],
   "metadata": {
    "colab": {
     "base_uri": "https://localhost:8080/",
     "height": 206
    },
    "id": "yaxV_qeEEM7p",
    "outputId": "11c1ab63-3240-4719-a749-2c54258e2a1f",
    "ExecuteTime": {
     "end_time": "2025-06-22T06:40:37.924028Z",
     "start_time": "2025-06-22T06:40:37.851563Z"
    }
   },
   "outputs": [
    {
     "data": {
      "text/plain": [
       "                                          text_clean     label  \\\n",
       "0         que daora acho que meu ttulo foi cancelado  positive   \n",
       "1  ok je ferai cela aussi jaurai une lecture de l...  positive   \n",
       "2  mes cheveux sont loquents je me sens comme un ...  positive   \n",
       "3  yaaaa eu amo demais ver o seok se alimentando ...  negative   \n",
       "4  pourquoi pensezvous que vous avez vcu en austr...  negative   \n",
       "\n",
       "   text_clean_length  word_count_cleaned  \n",
       "0                 42                   8  \n",
       "1                 76                  18  \n",
       "2                 91                  18  \n",
       "3                149                  25  \n",
       "4                107                  18  "
      ],
      "text/html": [
       "<div>\n",
       "<style scoped>\n",
       "    .dataframe tbody tr th:only-of-type {\n",
       "        vertical-align: middle;\n",
       "    }\n",
       "\n",
       "    .dataframe tbody tr th {\n",
       "        vertical-align: top;\n",
       "    }\n",
       "\n",
       "    .dataframe thead th {\n",
       "        text-align: right;\n",
       "    }\n",
       "</style>\n",
       "<table border=\"1\" class=\"dataframe\">\n",
       "  <thead>\n",
       "    <tr style=\"text-align: right;\">\n",
       "      <th></th>\n",
       "      <th>text_clean</th>\n",
       "      <th>label</th>\n",
       "      <th>text_clean_length</th>\n",
       "      <th>word_count_cleaned</th>\n",
       "    </tr>\n",
       "  </thead>\n",
       "  <tbody>\n",
       "    <tr>\n",
       "      <th>0</th>\n",
       "      <td>que daora acho que meu ttulo foi cancelado</td>\n",
       "      <td>positive</td>\n",
       "      <td>42</td>\n",
       "      <td>8</td>\n",
       "    </tr>\n",
       "    <tr>\n",
       "      <th>1</th>\n",
       "      <td>ok je ferai cela aussi jaurai une lecture de l...</td>\n",
       "      <td>positive</td>\n",
       "      <td>76</td>\n",
       "      <td>18</td>\n",
       "    </tr>\n",
       "    <tr>\n",
       "      <th>2</th>\n",
       "      <td>mes cheveux sont loquents je me sens comme un ...</td>\n",
       "      <td>positive</td>\n",
       "      <td>91</td>\n",
       "      <td>18</td>\n",
       "    </tr>\n",
       "    <tr>\n",
       "      <th>3</th>\n",
       "      <td>yaaaa eu amo demais ver o seok se alimentando ...</td>\n",
       "      <td>negative</td>\n",
       "      <td>149</td>\n",
       "      <td>25</td>\n",
       "    </tr>\n",
       "    <tr>\n",
       "      <th>4</th>\n",
       "      <td>pourquoi pensezvous que vous avez vcu en austr...</td>\n",
       "      <td>negative</td>\n",
       "      <td>107</td>\n",
       "      <td>18</td>\n",
       "    </tr>\n",
       "  </tbody>\n",
       "</table>\n",
       "</div>"
      ]
     },
     "execution_count": 4,
     "metadata": {},
     "output_type": "execute_result"
    }
   ],
   "execution_count": 4
  },
  {
   "cell_type": "code",
   "source": [
    "print(\"Dataset Shape:\", df.shape)\n",
    "print(\"\\nFirst 5 rows:\")\n",
    "print(df.head())\n",
    "print(\"\\nNull values:\")\n",
    "print(df.isnull().sum())"
   ],
   "metadata": {
    "colab": {
     "base_uri": "https://localhost:8080/",
     "height": 0
    },
    "id": "iK89voFB6Ic1",
    "outputId": "76000ef4-56bd-40bc-c154-b20fd045f07a",
    "ExecuteTime": {
     "end_time": "2025-06-22T06:40:40.014901Z",
     "start_time": "2025-06-22T06:40:40.000634Z"
    }
   },
   "outputs": [
    {
     "name": "stdout",
     "output_type": "stream",
     "text": [
      "Dataset Shape: (194978, 4)\n",
      "\n",
      "First 5 rows:\n",
      "                                          text_clean     label  \\\n",
      "0         que daora acho que meu ttulo foi cancelado  positive   \n",
      "1  ok je ferai cela aussi jaurai une lecture de l...  positive   \n",
      "2  mes cheveux sont loquents je me sens comme un ...  positive   \n",
      "3  yaaaa eu amo demais ver o seok se alimentando ...  negative   \n",
      "4  pourquoi pensezvous que vous avez vcu en austr...  negative   \n",
      "\n",
      "   text_clean_length  word_count_cleaned  \n",
      "0                 42                   8  \n",
      "1                 76                  18  \n",
      "2                 91                  18  \n",
      "3                149                  25  \n",
      "4                107                  18  \n",
      "\n",
      "Null values:\n",
      "text_clean            0\n",
      "label                 0\n",
      "text_clean_length     0\n",
      "word_count_cleaned    0\n",
      "dtype: int64\n"
     ]
    }
   ],
   "execution_count": 5
  },
  {
   "cell_type": "code",
   "source": [
    "nltk.download('stopwords')\n",
    "nltk.download('punkt')"
   ],
   "metadata": {
    "colab": {
     "base_uri": "https://localhost:8080/",
     "height": 0
    },
    "id": "wJu_hw_zfwC5",
    "outputId": "ed2c476f-f4ee-4c62-c014-86997c837ca7",
    "ExecuteTime": {
     "end_time": "2025-06-22T06:40:41.608594Z",
     "start_time": "2025-06-22T06:40:41.406888Z"
    }
   },
   "outputs": [
    {
     "name": "stderr",
     "output_type": "stream",
     "text": [
      "[nltk_data] Downloading package stopwords to\n",
      "[nltk_data]     /Users/chyavanshenoy/nltk_data...\n",
      "[nltk_data]   Package stopwords is already up-to-date!\n",
      "[nltk_data] Downloading package punkt to\n",
      "[nltk_data]     /Users/chyavanshenoy/nltk_data...\n",
      "[nltk_data]   Package punkt is already up-to-date!\n"
     ]
    },
    {
     "data": {
      "text/plain": [
       "True"
      ]
     },
     "execution_count": 6,
     "metadata": {},
     "output_type": "execute_result"
    }
   ],
   "execution_count": 6
  },
  {
   "metadata": {},
   "cell_type": "markdown",
   "source": "# Data Cleanup"
  },
  {
   "cell_type": "code",
   "source": [
    "def clean_text_initial(text):\n",
    "    if not isinstance(text, str):\n",
    "        return \"\"\n",
    "    text = text.lower()\n",
    "    text = re.sub(r'http\\S+|www\\S+|https\\S+', '', text, flags=re.MULTILINE)\n",
    "    text = re.sub(r'\\@\\w+', '', text)\n",
    "    text = re.sub(r'#', '', text)\n",
    "    text = text.translate(str.maketrans('', '', string.punctuation))\n",
    "    text = re.sub(r'\\n', '', text)\n",
    "    text = re.sub(r'\\s+', ' ', text).strip()\n",
    "    return text"
   ],
   "metadata": {
    "id": "CIC8u4Ag6IQN",
    "ExecuteTime": {
     "end_time": "2025-06-22T06:40:42.418714Z",
     "start_time": "2025-06-22T06:40:42.415366Z"
    }
   },
   "outputs": [],
   "execution_count": 7
  },
  {
   "cell_type": "code",
   "source": [
    "df['text'] = df['text_clean'].fillna('').apply(clean_text_initial)"
   ],
   "metadata": {
    "id": "6rJNChqMgLsS",
    "ExecuteTime": {
     "end_time": "2025-06-22T06:40:45.026517Z",
     "start_time": "2025-06-22T06:40:43.794180Z"
    }
   },
   "outputs": [],
   "execution_count": 8
  },
  {
   "metadata": {},
   "cell_type": "markdown",
   "source": "# Data Viz"
  },
  {
   "cell_type": "code",
   "source": [
    "plt.figure(figsize=(8, 6))\n",
    "sns.countplot(x='label', data=df)\n",
    "plt.title('Sentiment Label Distribution')\n",
    "plt.show()"
   ],
   "metadata": {
    "colab": {
     "base_uri": "https://localhost:8080/",
     "height": 564
    },
    "id": "TbHVz_rQgLqd",
    "outputId": "e0f1a184-6b06-4df5-95b9-c7beec596fc6",
    "ExecuteTime": {
     "end_time": "2025-06-22T06:40:46.970771Z",
     "start_time": "2025-06-22T06:40:46.731291Z"
    }
   },
   "outputs": [
    {
     "data": {
      "text/plain": [
       "<Figure size 800x600 with 1 Axes>"
      ],
      "image/png": "[encoded data removed]"
     },
     "metadata": {},
     "output_type": "display_data"
    }
   ],
   "execution_count": 9
  },
  {
   "cell_type": "code",
   "source": [
    "df['text_length'] = df['text'].apply(lambda x: len(x.split()))\n",
    "plt.figure(figsize=(10, 6))\n",
    "sns.histplot(df['text_length'], bins=50, kde=True)\n",
    "plt.title('Distribution of Text Lengths')\n",
    "plt.xlabel('Number of Words')\n",
    "plt.ylabel('Frequency')\n",
    "plt.show()"
   ],
   "metadata": {
    "colab": {
     "base_uri": "https://localhost:8080/",
     "height": 564
    },
    "id": "k6vj0E_BgLoW",
    "outputId": "518868df-e6f0-45df-949a-2e754e4e3aa3",
    "ExecuteTime": {
     "end_time": "2025-06-22T06:40:48.133175Z",
     "start_time": "2025-06-22T06:40:47.750650Z"
    }
   },
   "outputs": [
    {
     "data": {
      "text/plain": [
       "<Figure size 1000x600 with 1 Axes>"
      ],
      "image/png": "[encoded data removed]"
     },
     "metadata": {},
     "output_type": "display_data"
    }
   ],
   "execution_count": 10
  },
  {
   "cell_type": "code",
   "source": [
    "for label in df['label'].unique():\n",
    "    subset = df[df['label'] == label]\n",
    "    words = ' '.join(subset['text']).split()\n",
    "    most_common = Counter(words).most_common(50)\n",
    "    wc = WordCloud(width=800, height=400, background_color='white').generate_from_frequencies(dict(most_common))\n",
    "    plt.figure(figsize=(12, 6))\n",
    "    plt.imshow(wc, interpolation='bilinear')\n",
    "    plt.axis('off')\n",
    "    plt.title(f'Most Common Words - Label {label}')\n",
    "    plt.show()"
   ],
   "metadata": {
    "colab": {
     "base_uri": "https://localhost:8080/",
     "height": 1000
    },
    "id": "ZRgcakVYgLk1",
    "outputId": "763f0b3f-2d85-456f-dc01-b35800ee8473",
    "ExecuteTime": {
     "end_time": "2025-06-22T06:40:49.858865Z",
     "start_time": "2025-06-22T06:40:48.844008Z"
    }
   },
   "outputs": [
    {
     "data": {
      "text/plain": [
       "<Figure size 1200x600 with 1 Axes>"
      ],
      "image/png": "[encoded data removed]"
     },
     "metadata": {},
     "output_type": "display_data"
    },
    {
     "data": {
      "text/plain": [
       "<Figure size 1200x600 with 1 Axes>"
      ],
      "image/png": "[encoded data removed]"
     },
     "metadata": {},
     "output_type": "display_data"
    }
   ],
   "execution_count": 11
  },
  {
   "metadata": {},
   "cell_type": "markdown",
   "source": "# Model Training"
  },
  {
   "cell_type": "code",
   "source": [
    "results = []"
   ],
   "metadata": {
    "id": "A4hBVoR1ilmx",
    "ExecuteTime": {
     "end_time": "2025-06-22T06:40:50.885018Z",
     "start_time": "2025-06-22T06:40:50.882951Z"
    }
   },
   "outputs": [],
   "execution_count": 12
  },
  {
   "cell_type": "code",
   "source": [
    "le = LabelEncoder()\n",
    "df['label_encoded'] = le.fit_transform(df['label'])"
   ],
   "metadata": {
    "id": "hhfveSG8gLiQ",
    "ExecuteTime": {
     "end_time": "2025-06-22T06:40:51.856627Z",
     "start_time": "2025-06-22T06:40:51.840708Z"
    }
   },
   "outputs": [],
   "execution_count": 13
  },
  {
   "cell_type": "code",
   "source": [
    "X_train, X_test, y_train, y_test = train_test_split(df['text'], df['label_encoded'], test_size=0.2, random_state=42, stratify=df['label_encoded'])\n"
   ],
   "metadata": {
    "id": "X_6m3_fagLgD",
    "ExecuteTime": {
     "end_time": "2025-06-22T06:40:52.541825Z",
     "start_time": "2025-06-22T06:40:52.503903Z"
    }
   },
   "outputs": [],
   "execution_count": 14
  },
  {
   "cell_type": "code",
   "source": [
    "df.columns"
   ],
   "metadata": {
    "colab": {
     "base_uri": "https://localhost:8080/",
     "height": 0
    },
    "id": "JWNyPyqCgtPB",
    "outputId": "97074467-b459-4524-f1ec-d1feb2ec8c84",
    "ExecuteTime": {
     "end_time": "2025-06-22T06:40:53.303271Z",
     "start_time": "2025-06-22T06:40:53.300281Z"
    }
   },
   "outputs": [
    {
     "data": {
      "text/plain": [
       "Index(['text_clean', 'label', 'text_clean_length', 'word_count_cleaned',\n",
       "       'text', 'text_length', 'label_encoded'],\n",
       "      dtype='object')"
      ]
     },
     "execution_count": 15,
     "metadata": {},
     "output_type": "execute_result"
    }
   ],
   "execution_count": 15
  },
  {
   "metadata": {},
   "cell_type": "markdown",
   "source": "### Logistic Regression with TF-IDF"
  },
  {
   "cell_type": "code",
   "source": [
    "vectorizer = TfidfVectorizer(max_features=5000)\n",
    "X_train_vec = vectorizer.fit_transform(X_train)\n",
    "X_test_vec = vectorizer.transform(X_test)"
   ],
   "metadata": {
    "id": "ciFF1yiEgLd6",
    "ExecuteTime": {
     "end_time": "2025-06-22T06:40:55.618189Z",
     "start_time": "2025-06-22T06:40:54.227744Z"
    }
   },
   "outputs": [],
   "execution_count": 16
  },
  {
   "cell_type": "code",
   "source": [
    "print(\"Training Logistic Regression...\")\n",
    "log_reg = LogisticRegression(max_iter=3000)\n",
    "log_reg.fit(X_train_vec, y_train)\n",
    "y_pred_lr = log_reg.predict(X_test_vec)\n",
    "report_lr = classification_report(y_test, y_pred_lr, target_names=le.classes_, output_dict=True)\n",
    "results.append({\n",
    "    'Model': 'Logistic Regression',\n",
    "    'Accuracy': report_lr['accuracy'],\n",
    "    'Precision': report_lr['weighted avg']['precision'],\n",
    "    'Recall': report_lr['weighted avg']['recall'],\n",
    "    'F1-Score': report_lr['weighted avg']['f1-score']\n",
    "})\n",
    "print(\"Logistic Regression Report:\")\n",
    "print(classification_report(y_test, y_pred_lr, target_names=le.classes_))"
   ],
   "metadata": {
    "colab": {
     "base_uri": "https://localhost:8080/",
     "height": 0
    },
    "id": "0-wxinoOgLbl",
    "outputId": "4571dc8e-b1ad-4c23-a539-7d8c09d8ec01",
    "ExecuteTime": {
     "end_time": "2025-06-22T06:41:51.309850Z",
     "start_time": "2025-06-22T06:41:50.831642Z"
    }
   },
   "outputs": [
    {
     "name": "stdout",
     "output_type": "stream",
     "text": [
      "Training Logistic Regression...\n"
     ]
    },
    {
     "name": "stderr",
     "output_type": "stream",
     "text": [
      "/Users/chyavanshenoy/Desktop/UniProjectGithub/AAI-510-Project/.venv/lib/python3.12/site-packages/sklearn/linear_model/_linear_loss.py:209: RuntimeWarning: divide by zero encountered in matmul\n",
      "  norm2_w = weights @ weights if weights.ndim == 1 else squared_norm(weights)\n",
      "/Users/chyavanshenoy/Desktop/UniProjectGithub/AAI-510-Project/.venv/lib/python3.12/site-packages/sklearn/linear_model/_linear_loss.py:209: RuntimeWarning: overflow encountered in matmul\n",
      "  norm2_w = weights @ weights if weights.ndim == 1 else squared_norm(weights)\n",
      "/Users/chyavanshenoy/Desktop/UniProjectGithub/AAI-510-Project/.venv/lib/python3.12/site-packages/sklearn/linear_model/_linear_loss.py:209: RuntimeWarning: invalid value encountered in matmul\n",
      "  norm2_w = weights @ weights if weights.ndim == 1 else squared_norm(weights)\n"
     ]
    },
    {
     "name": "stdout",
     "output_type": "stream",
     "text": [
      "Logistic Regression Report:\n",
      "              precision    recall  f1-score   support\n",
      "\n",
      "    negative       0.83      0.81      0.82     19516\n",
      "    positive       0.82      0.84      0.83     19480\n",
      "\n",
      "    accuracy                           0.82     38996\n",
      "   macro avg       0.82      0.82      0.82     38996\n",
      "weighted avg       0.82      0.82      0.82     38996\n",
      "\n"
     ]
    }
   ],
   "execution_count": 20
  },
  {
   "metadata": {},
   "cell_type": "markdown",
   "source": "### Random Forest"
  },
  {
   "cell_type": "code",
   "source": [
    "print(\"\\nTraining Random Forest...\")\n",
    "rf = RandomForestClassifier(n_estimators=200, random_state=42) # Using 100 estimators\n",
    "rf.fit(X_train_vec, y_train)\n",
    "y_pred_rf = rf.predict(X_test_vec)\n",
    "report_rf = classification_report(y_test, y_pred_rf, target_names=le.classes_, output_dict=True)\n",
    "results.append({\n",
    "    'Model': 'Random Forest',\n",
    "    'Accuracy': report_rf['accuracy'],\n",
    "    'Precision': report_rf['weighted avg']['precision'],\n",
    "    'Recall': report_rf['weighted avg']['recall'],\n",
    "    'F1-Score': report_rf['weighted avg']['f1-score']\n",
    "})\n",
    "print(\"Random Forest Report:\")\n",
    "print(classification_report(y_test, y_pred_rf, target_names=le.classes_))"
   ],
   "metadata": {
    "colab": {
     "base_uri": "https://localhost:8080/",
     "height": 0
    },
    "id": "voXk4-otgLZP",
    "outputId": "c263d5f6-190e-4239-d168-9754e4119adf",
    "ExecuteTime": {
     "end_time": "2025-06-22T06:45:45.545699Z",
     "start_time": "2025-06-22T06:42:02.171341Z"
    }
   },
   "outputs": [
    {
     "name": "stdout",
     "output_type": "stream",
     "text": [
      "\n",
      "Training Random Forest...\n",
      "Random Forest Report:\n",
      "              precision    recall  f1-score   support\n",
      "\n",
      "    negative       0.81      0.82      0.82     19516\n",
      "    positive       0.82      0.81      0.81     19480\n",
      "\n",
      "    accuracy                           0.82     38996\n",
      "   macro avg       0.82      0.82      0.82     38996\n",
      "weighted avg       0.82      0.82      0.82     38996\n",
      "\n"
     ]
    }
   ],
   "execution_count": 21
  },
  {
   "metadata": {},
   "cell_type": "markdown",
   "source": "### LSTM"
  },
  {
   "cell_type": "code",
   "source": [
    "print(\"\\nPreparing data for LSTM...\")\n",
    "MAX_NUM_WORDS = 10000\n",
    "MAX_SEQUENCE_LENGTH = 100"
   ],
   "metadata": {
    "colab": {
     "base_uri": "https://localhost:8080/",
     "height": 0
    },
    "id": "-6lt8Lp8gLW7",
    "outputId": "57fc327d-2c13-43e3-b32d-795f54aadb98",
    "ExecuteTime": {
     "end_time": "2025-06-22T06:45:45.568178Z",
     "start_time": "2025-06-22T06:45:45.566676Z"
    }
   },
   "outputs": [
    {
     "name": "stdout",
     "output_type": "stream",
     "text": [
      "\n",
      "Preparing data for LSTM...\n"
     ]
    }
   ],
   "execution_count": 22
  },
  {
   "cell_type": "code",
   "source": [
    "tokenizer_lstm = Tokenizer(num_words=MAX_NUM_WORDS)\n",
    "tokenizer_lstm.fit_on_texts(X_train)\n",
    "X_train_seq = tokenizer_lstm.texts_to_sequences(X_train)\n",
    "X_test_seq = tokenizer_lstm.texts_to_sequences(X_test)\n",
    "\n",
    "X_train_pad = pad_sequences(X_train_seq, maxlen=MAX_SEQUENCE_LENGTH) # Padding sequences\n",
    "X_test_pad = pad_sequences(X_test_seq, maxlen=MAX_SEQUENCE_LENGTH)"
   ],
   "metadata": {
    "id": "FHKanQQ6gLUl",
    "ExecuteTime": {
     "end_time": "2025-06-22T06:45:47.603949Z",
     "start_time": "2025-06-22T06:45:45.598717Z"
    }
   },
   "outputs": [],
   "execution_count": 23
  },
  {
   "cell_type": "code",
   "source": [
    "print(\"Building and Training LSTM model...\")\n",
    "model_lstm = Sequential([\n",
    "    Embedding(MAX_NUM_WORDS, 128), # Embedding layer\n",
    "    LSTM(128), # LSTM layer\n",
    "    Dropout(0.5), # Dropout for regularization\n",
    "    Dense(len(le.classes_), activation='softmax') # Output layer\n",
    "])\n",
    "\n",
    "model_lstm.compile(loss='sparse_categorical_crossentropy', optimizer='adam', metrics=['accuracy'])\n",
    "model_lstm.fit(X_train_pad, y_train, validation_data=(X_test_pad, y_test), epochs=10, verbose=2) # Training for 5 epochs"
   ],
   "metadata": {
    "colab": {
     "base_uri": "https://localhost:8080/",
     "height": 0
    },
    "id": "G9UU-duIgLSL",
    "outputId": "38719450-0e8e-468d-90b8-d1c9a7cc613b",
    "ExecuteTime": {
     "end_time": "2025-06-22T07:01:50.357424Z",
     "start_time": "2025-06-22T06:50:16.667970Z"
    }
   },
   "outputs": [
    {
     "name": "stdout",
     "output_type": "stream",
     "text": [
      "Building and Training LSTM model...\n",
      "Epoch 1/10\n",
      "4875/4875 - 68s - 14ms/step - accuracy: 0.8190 - loss: 0.3696 - val_accuracy: 0.8379 - val_loss: 0.3424\n",
      "Epoch 2/10\n",
      "4875/4875 - 69s - 14ms/step - accuracy: 0.8551 - loss: 0.3076 - val_accuracy: 0.8445 - val_loss: 0.3294\n",
      "Epoch 3/10\n",
      "4875/4875 - 70s - 14ms/step - accuracy: 0.8691 - loss: 0.2788 - val_accuracy: 0.8439 - val_loss: 0.3457\n",
      "Epoch 4/10\n",
      "4875/4875 - 68s - 14ms/step - accuracy: 0.8834 - loss: 0.2515 - val_accuracy: 0.8413 - val_loss: 0.3629\n",
      "Epoch 5/10\n",
      "4875/4875 - 69s - 14ms/step - accuracy: 0.8970 - loss: 0.2244 - val_accuracy: 0.8378 - val_loss: 0.3939\n",
      "Epoch 6/10\n",
      "4875/4875 - 71s - 15ms/step - accuracy: 0.9103 - loss: 0.1981 - val_accuracy: 0.8311 - val_loss: 0.4330\n",
      "Epoch 7/10\n",
      "4875/4875 - 70s - 14ms/step - accuracy: 0.9220 - loss: 0.1746 - val_accuracy: 0.8306 - val_loss: 0.4910\n",
      "Epoch 8/10\n",
      "4875/4875 - 69s - 14ms/step - accuracy: 0.9326 - loss: 0.1510 - val_accuracy: 0.8284 - val_loss: 0.5206\n",
      "Epoch 9/10\n",
      "4875/4875 - 69s - 14ms/step - accuracy: 0.9420 - loss: 0.1323 - val_accuracy: 0.8261 - val_loss: 0.6291\n",
      "Epoch 10/10\n",
      "4875/4875 - 70s - 14ms/step - accuracy: 0.9488 - loss: 0.1172 - val_accuracy: 0.8222 - val_loss: 0.6789\n"
     ]
    },
    {
     "data": {
      "text/plain": [
       "<keras.src.callbacks.history.History at 0x424bf0170>"
      ]
     },
     "execution_count": 25,
     "metadata": {},
     "output_type": "execute_result"
    }
   ],
   "execution_count": 25
  },
  {
   "cell_type": "code",
   "source": [
    "y_pred_lstm_prob = model_lstm.predict(X_test_pad)\n",
    "y_pred_lstm = np.argmax(y_pred_lstm_prob, axis=1)\n",
    "report_lstm = classification_report(y_test, y_pred_lstm, target_names=le.classes_, output_dict=True)\n",
    "results.append({\n",
    "    'Model': 'LSTM',\n",
    "    'Accuracy': report_lstm['accuracy'],\n",
    "    'Precision': report_lstm['weighted avg']['precision'],\n",
    "    'Recall': report_lstm['weighted avg']['recall'],\n",
    "    'F1-Score': report_lstm['weighted avg']['f1-score']\n",
    "})\n",
    "print(\"\\nLSTM Report:\")\n",
    "print(classification_report(y_test, y_pred_lstm, target_names=le.classes_))"
   ],
   "metadata": {
    "colab": {
     "base_uri": "https://localhost:8080/",
     "height": 0
    },
    "id": "Q9w_WZ3PgLQA",
    "outputId": "f43eb32b-9f99-472c-af2c-fcaf41039c63",
    "ExecuteTime": {
     "end_time": "2025-06-22T07:02:34.814714Z",
     "start_time": "2025-06-22T07:02:30.864356Z"
    }
   },
   "outputs": [
    {
     "name": "stdout",
     "output_type": "stream",
     "text": [
      "\u001B[1m1219/1219\u001B[0m \u001B[32m━━━━━━━━━━━━━━━━━━━━\u001B[0m\u001B[37m\u001B[0m \u001B[1m4s\u001B[0m 3ms/step\n",
      "\n",
      "LSTM Report:\n",
      "              precision    recall  f1-score   support\n",
      "\n",
      "    negative       0.83      0.82      0.82     19516\n",
      "    positive       0.82      0.83      0.82     19480\n",
      "\n",
      "    accuracy                           0.82     38996\n",
      "   macro avg       0.82      0.82      0.82     38996\n",
      "weighted avg       0.82      0.82      0.82     38996\n",
      "\n"
     ]
    }
   ],
   "execution_count": 26
  },
  {
   "metadata": {},
   "cell_type": "markdown",
   "source": "### XLM RoBERTa"
  },
  {
   "cell_type": "code",
   "source": [
    "print(\"\\nPreparing data for XLM-RoBERTa...\")\n",
    "# For XLM-R, we'll use the original labels as it handles strings\n",
    "train_df, test_df = train_test_split(df, test_size=0.2, random_state=42, stratify=df['label'])"
   ],
   "metadata": {
    "colab": {
     "base_uri": "https://localhost:8080/",
     "height": 0
    },
    "id": "c3enGPUlgLN5",
    "outputId": "ddaf4b45-defb-480f-a725-be820cd6c7b5",
    "ExecuteTime": {
     "end_time": "2025-06-22T07:02:39.156387Z",
     "start_time": "2025-06-22T07:02:39.082808Z"
    }
   },
   "outputs": [
    {
     "name": "stdout",
     "output_type": "stream",
     "text": [
      "\n",
      "Preparing data for XLM-RoBERTa...\n"
     ]
    }
   ],
   "execution_count": 27
  },
  {
   "cell_type": "code",
   "source": [
    "train_dataset = Dataset.from_pandas(train_df)\n",
    "test_dataset = Dataset.from_pandas(test_df)\n",
    "\n",
    "# Define model ID and label mappings\n",
    "MODEL_ID = \"xlm-roberta-base\"\n",
    "LABEL2ID = {'negative': 0, 'positive': 1}\n",
    "ID2LABEL = {v: k for k, v in LABEL2ID.items()}"
   ],
   "metadata": {
    "id": "1KLR11lQgLLm",
    "ExecuteTime": {
     "end_time": "2025-06-22T07:02:43.395734Z",
     "start_time": "2025-06-22T07:02:43.327671Z"
    }
   },
   "outputs": [],
   "execution_count": 28
  },
  {
   "cell_type": "code",
   "source": [
    "tokenizer_xlm = AutoTokenizer.from_pretrained(MODEL_ID)"
   ],
   "metadata": {
    "colab": {
     "base_uri": "https://localhost:8080/",
     "height": 272,
     "referenced_widgets": [
      "c3fda8b2bb174a2f8e036fdcfacb42eb",
      "13dbb357667b4da09faa9a51e0f8b7da",
      "abaac10a35fb4ac4af2a05d4c36bfc33",
      "31e308b223ff45049a520166495376ae",
      "4af2c3978dc14c8aabf1d348b2ce0a36",
      "29a3882a021e408f8793755a6e22c305",
      "e16a5788f4244aa89aff072bab469497",
      "fc8525a837f748d9ad80358ce999581d",
      "602e1efc5e0d4bea9ad961485e769f59",
      "c169d6e13a42439b940ff3a6dfcd7713",
      "0bac48a1d98c4eb1ae07cae77b7775cf",
      "9e4a9bfa860f468faa1912e7fec2fd44",
      "e2ac6d8c891249a1ad6db049cbd0af74",
      "1451f996baa74d6c81cd00eab4f47997",
      "2eec1766883043f6a464f5cda1280b73",
      "9920823f93484dd6a93b735ce68d95e7",
      "0107bc56f73c45df941ac74052efaed0",
      "61ddc6d488ef40ec8a25df3b972ad22c",
      "7070f844b00b4bee9914bebced14702f",
      "22b223344ef6431ba0797427bada282d",
      "694d9e3dda5f4c9ab2963482d3647781",
      "66572d3d95eb466db8cb48de2fbfa25b",
      "9098118a5c0145daa39d3f0a741c3944",
      "da068b2082fd485e87f8ea636e50f2ec",
      "9637b6dd40684267ab12c9a627402db2",
      "64d3488f2ab74fefaf440eb9042b8a47",
      "cdfcdb095a8744f68660c9b12128ab99",
      "555106f3e9614808abc12bf2d38f4961",
      "8953110273764620adec547f14bc90c9",
      "a115f591c5cd48afa98452256d0e0290",
      "a571227e572e49fea4bf0afbc59a69d4",
      "107b116493484e8b8c1b0acfbfe32161",
      "08c70f8f673e4b7b976511de132e621e",
      "b7f3f381b25f4f0e86ae18cc88ac9125",
      "d9dfdee397984db3bfadbe9a2d8e5a0f",
      "27b16f1a13f44901a3666578a04521fe",
      "3f74933df1fc4e068b2f6784b2de65db",
      "90c23460844649a0bb8a13b17840ef09",
      "a10bfa30f0ad47abbdad40798485ded3",
      "067384e49c584fcdafcbd8e97484e889",
      "1f145fb0007d4c95ac03e7a40b871bdb",
      "6e1fd54ed2d84d6e8cbcdb09fdcd807e",
      "46ece30d1b014d8d85c722e22653a925",
      "426d315e79b04db1b7907e7bdca3db68"
     ]
    },
    "id": "GjPwuFSkjf3j",
    "outputId": "91039260-28de-4747-88df-63b284c5bb6b",
    "ExecuteTime": {
     "end_time": "2025-06-22T07:02:45.556665Z",
     "start_time": "2025-06-22T07:02:44.360752Z"
    }
   },
   "outputs": [],
   "execution_count": 29
  },
  {
   "cell_type": "code",
   "source": [
    "def tokenize_function(examples):\n",
    "    # The tokenizer will handle converting labels to IDs\n",
    "    return tokenizer_xlm(examples[\"text\"], padding=\"max_length\", truncation=True, max_length=128)"
   ],
   "metadata": {
    "id": "M8dGRqeQjilM",
    "ExecuteTime": {
     "end_time": "2025-06-22T07:02:46.335649Z",
     "start_time": "2025-06-22T07:02:46.333311Z"
    }
   },
   "outputs": [],
   "execution_count": 30
  },
  {
   "cell_type": "code",
   "source": [
    "print(\"Tokenizing datasets...\")\n",
    "tokenized_train_dataset = train_dataset.map(tokenize_function, batched=True)\n",
    "tokenized_test_dataset = test_dataset.map(tokenize_function, batched=True)"
   ],
   "metadata": {
    "colab": {
     "base_uri": "https://localhost:8080/",
     "height": 81,
     "referenced_widgets": [
      "0e21dcc64e7d4993b3f08f3b7fe0be08",
      "7174420b8956409fb80fca8678235da8",
      "bb3e996068354fa18cc7fc8696e8a8e6",
      "b4d927072bf7464aa25268d00913269a",
      "f4d75391c4a540ca8984b9b83e0606fa",
      "b28eeee0b76e4c40b53431fbafbbdfb7",
      "6be8d53b2beb426d9fcff05339ca6d94",
      "6a98734d5c0347b0b1182a8083523c6f",
      "8b171f03a48940cabc3fd0cc74772ddd",
      "d6e5742a838c4515945ec1d12dd5d87f",
      "b9f866d8352440d387ff8270dc51145a",
      "fa4649331bdd4214bd39b556d8f330a9",
      "b432853f56ed4671bc7d8299a4bc8032",
      "a6a9ab7540b74234ab04b6169f6423b1",
      "17c9256c119e4352a8a55ec3c9523de9",
      "d262911b013d42dcb54b6b4c404d7b85",
      "4ad0b61f0ed34d24b80ee732e184c1ab",
      "8ec731cfc73c4c72a78f489d59c49fc2",
      "de81be58b979413da5ed47adeddad1a4",
      "7a7386801958478c9649fc9c59a3eb3c",
      "5c2a062c6a334eccb7861be9f47c4c55",
      "642e408b0f7c47f7b82222cae51bf0d8"
     ]
    },
    "id": "CEe8PqwBjlao",
    "outputId": "cee4265d-df9e-4aac-831e-5295db167d10",
    "ExecuteTime": {
     "end_time": "2025-06-22T07:02:52.780149Z",
     "start_time": "2025-06-22T07:02:47.736151Z"
    }
   },
   "outputs": [
    {
     "name": "stdout",
     "output_type": "stream",
     "text": [
      "Tokenizing datasets...\n"
     ]
    },
    {
     "data": {
      "text/plain": [
       "Map:   0%|          | 0/155982 [00:00<?, ? examples/s]"
      ],
      "application/vnd.jupyter.widget-view+json": {
       "version_major": 2,
       "version_minor": 0,
       "model_id": "516e1c0835054e82a03667524b02e5c0"
      }
     },
     "metadata": {},
     "output_type": "display_data"
    },
    {
     "data": {
      "text/plain": [
       "Map:   0%|          | 0/38996 [00:00<?, ? examples/s]"
      ],
      "application/vnd.jupyter.widget-view+json": {
       "version_major": 2,
       "version_minor": 0,
       "model_id": "fbba7348937e4d2389b0b7a62dd1186a"
      }
     },
     "metadata": {},
     "output_type": "display_data"
    }
   ],
   "execution_count": 31
  },
  {
   "cell_type": "code",
   "source": [
    "def map_labels(examples):\n",
    "    examples['label'] = [LABEL2ID[lbl] for lbl in examples['label']]\n",
    "    return examples"
   ],
   "metadata": {
    "id": "fsUPDkw_jnWC",
    "ExecuteTime": {
     "end_time": "2025-06-22T07:02:53.623899Z",
     "start_time": "2025-06-22T07:02:53.621548Z"
    }
   },
   "outputs": [],
   "execution_count": 32
  },
  {
   "cell_type": "code",
   "source": [
    "tokenized_train_dataset"
   ],
   "metadata": {
    "colab": {
     "base_uri": "https://localhost:8080/",
     "height": 0
    },
    "id": "h249qqXjm7ET",
    "outputId": "08812031-1940-45dc-991d-b54d19d190ba",
    "ExecuteTime": {
     "end_time": "2025-06-22T07:02:54.864912Z",
     "start_time": "2025-06-22T07:02:54.862108Z"
    }
   },
   "outputs": [
    {
     "data": {
      "text/plain": [
       "Dataset({\n",
       "    features: ['text_clean', 'label', 'text_clean_length', 'word_count_cleaned', 'text', 'text_length', 'label_encoded', '__index_level_0__', 'input_ids', 'attention_mask'],\n",
       "    num_rows: 155982\n",
       "})"
      ]
     },
     "execution_count": 33,
     "metadata": {},
     "output_type": "execute_result"
    }
   ],
   "execution_count": 33
  },
  {
   "cell_type": "code",
   "source": [
    "tokenized_test_dataset"
   ],
   "metadata": {
    "colab": {
     "base_uri": "https://localhost:8080/",
     "height": 0
    },
    "id": "O5xYDyDCnAro",
    "outputId": "037d86d4-f588-4580-d157-ae2ae70ac334",
    "ExecuteTime": {
     "end_time": "2025-06-22T07:02:55.968536Z",
     "start_time": "2025-06-22T07:02:55.965606Z"
    }
   },
   "outputs": [
    {
     "data": {
      "text/plain": [
       "Dataset({\n",
       "    features: ['text_clean', 'label', 'text_clean_length', 'word_count_cleaned', 'text', 'text_length', 'label_encoded', '__index_level_0__', 'input_ids', 'attention_mask'],\n",
       "    num_rows: 38996\n",
       "})"
      ]
     },
     "execution_count": 34,
     "metadata": {},
     "output_type": "execute_result"
    }
   ],
   "execution_count": 34
  },
  {
   "metadata": {
    "ExecuteTime": {
     "end_time": "2025-06-22T07:02:57.176636Z",
     "start_time": "2025-06-22T07:02:57.025454Z"
    }
   },
   "cell_type": "code",
   "source": [
    "print(\"Mapping labels...\")\n",
    "tokenized_train_dataset = tokenized_train_dataset.map(map_labels, batched=True)\n",
    "tokenized_test_dataset = tokenized_test_dataset.map(map_labels, batched=True) # <-- This is the corrected line"
   ],
   "outputs": [
    {
     "name": "stdout",
     "output_type": "stream",
     "text": [
      "Mapping labels...\n"
     ]
    },
    {
     "data": {
      "text/plain": [
       "Map:   0%|          | 0/155982 [00:00<?, ? examples/s]"
      ],
      "application/vnd.jupyter.widget-view+json": {
       "version_major": 2,
       "version_minor": 0,
       "model_id": "cbef9f8cbd854eb39a0dd090b9e5a29f"
      }
     },
     "metadata": {},
     "output_type": "display_data"
    },
    {
     "data": {
      "text/plain": [
       "Map:   0%|          | 0/38996 [00:00<?, ? examples/s]"
      ],
      "application/vnd.jupyter.widget-view+json": {
       "version_major": 2,
       "version_minor": 0,
       "model_id": "4a2462f762f04715b224199b1c5944ad"
      }
     },
     "metadata": {},
     "output_type": "display_data"
    }
   ],
   "execution_count": 35
  },
  {
   "cell_type": "code",
   "source": [
    "columns_to_remove = [\n",
    "    'text_clean', 'text_clean_length', 'word_count_cleaned',\n",
    "    'text', 'text_length', 'label_encoded', '__index_level_0__'\n",
    "]"
   ],
   "metadata": {
    "id": "YHQY4SNToMMd",
    "ExecuteTime": {
     "end_time": "2025-06-22T07:03:04.767880Z",
     "start_time": "2025-06-22T07:03:04.766013Z"
    }
   },
   "outputs": [],
   "execution_count": 36
  },
  {
   "cell_type": "code",
   "source": [
    "print(\"Removing unnecessary columns...\")\n",
    "tokenized_train_dataset = tokenized_train_dataset.remove_columns(\n",
    "    [col for col in columns_to_remove if col in tokenized_train_dataset.column_names]\n",
    ")\n",
    "tokenized_test_dataset = tokenized_test_dataset.remove_columns(\n",
    "    [col for col in columns_to_remove if col in tokenized_test_dataset.column_names]\n",
    ")\n"
   ],
   "metadata": {
    "id": "qav5eBnyoHCx",
    "ExecuteTime": {
     "end_time": "2025-06-22T07:03:05.607959Z",
     "start_time": "2025-06-22T07:03:05.602132Z"
    }
   },
   "outputs": [
    {
     "name": "stdout",
     "output_type": "stream",
     "text": [
      "Removing unnecessary columns...\n"
     ]
    }
   ],
   "execution_count": 37
  },
  {
   "cell_type": "code",
   "source": [
    "tokenized_train_dataset.set_format(\"torch\")\n",
    "tokenized_test_dataset.set_format(\"torch\")"
   ],
   "metadata": {
    "colab": {
     "base_uri": "https://localhost:8080/",
     "height": 81,
     "referenced_widgets": [
      "8c077e51aeeb428f89b8eb54ad3bd64b",
      "6b3884942c454a129a3d8fa4746d0477",
      "cf68dc762fb543dc89a23f1b4d7ae9d7",
      "58cb8d256c1f4ded92448d5c5b7887bc",
      "7b1f8bbc1da54cfb94849494065b7a1e",
      "600e7d57329a4e1492942c289528adfa",
      "d6e95b2b98c44d4ea7ddd2d97190f0c0",
      "96d59042942349c9924465a268e3747e",
      "eec0603f3d3b4ebab08e825b8acd8e0d",
      "a1879b6628434c03ad6600a178816d1c",
      "40fbcc58193e472ea283cb7be0c2978b",
      "20c4d43159314854baec720dc1098785",
      "1aec3e29c0b0465f991c200ac9cad373",
      "efdce64d36e44a6a8d18505fcff729a8",
      "11f5cdaacb7e4b86b9a1207acd21c740",
      "9858f2c3d9c74c2a98bdba2c6204b6d2",
      "9dea1e3918374607832277204aa758cd",
      "58ccc1e5230c4dde976d6afa35cdace4",
      "4400627b9a0249c5bd2a2da3a64f5be0",
      "3ed13fb366b9480196d6c7737b7028e6",
      "fb62c31f04d240f5b5c4d839136d0b88",
      "e9b1e1b9b82c45e1b760e3e41bcf2f47"
     ]
    },
    "id": "1yOoJ304jpaw",
    "outputId": "962d8106-0bdc-4c7b-9946-6eb64d8c894c",
    "ExecuteTime": {
     "end_time": "2025-06-22T07:03:07.357902Z",
     "start_time": "2025-06-22T07:03:07.354516Z"
    }
   },
   "outputs": [],
   "execution_count": 38
  },
  {
   "cell_type": "code",
   "source": [
    "device = torch.device(\"cuda\" if torch.cuda.is_available() else \"cpu\")\n",
    "device = torch.device(\"mps\" if torch.backends.mps.is_available() else device)\n",
    "print(f\"Using device: {device}\")"
   ],
   "metadata": {
    "colab": {
     "base_uri": "https://localhost:8080/",
     "height": 0
    },
    "id": "wSgC_WmHjvbj",
    "outputId": "44911013-5c57-4348-bdbb-12d7feb7805e",
    "ExecuteTime": {
     "end_time": "2025-06-22T07:03:10.599364Z",
     "start_time": "2025-06-22T07:03:10.596769Z"
    }
   },
   "outputs": [
    {
     "name": "stdout",
     "output_type": "stream",
     "text": [
      "Using device: mps\n"
     ]
    }
   ],
   "execution_count": 39
  },
  {
   "cell_type": "code",
   "source": [
    "model_xlm = AutoModelForSequenceClassification.from_pretrained(\n",
    "    MODEL_ID,\n",
    "    num_labels=len(ID2LABEL),\n",
    "    id2label=ID2LABEL,\n",
    "    label2id=LABEL2ID,\n",
    ").to(device)"
   ],
   "metadata": {
    "colab": {
     "base_uri": "https://localhost:8080/",
     "height": 105,
     "referenced_widgets": [
      "eaf47804ce5c4619adad39e26e0e038c",
      "20e67dd24e0e4d6e869c6a7d1fa4f28e",
      "c750f8fb3b544565b8d6ad8f31463436",
      "1658bc8920814d4889e2fe9dcf44376d",
      "69d6ffcc739d4e33a25d3c7a88145fd5",
      "f65918c6c35e4fd1bb4f293c411780fb",
      "dc48fa59d04a4afbb0fbf73aa3209555",
      "853f08b37dde44fcb2ea3870761b2a23",
      "1d6107183cb9483a938aecece410340b",
      "22b9388b2d814ac3994c7c7d6ab6a2c0",
      "a6c859630ef24103837d33975c55b3b4"
     ]
    },
    "id": "volxoOMQjx1U",
    "outputId": "f34f1a75-2b0a-47b5-ffa5-800b61624c67",
    "ExecuteTime": {
     "end_time": "2025-06-22T07:03:26.152009Z",
     "start_time": "2025-06-22T07:03:24.815472Z"
    }
   },
   "outputs": [
    {
     "name": "stderr",
     "output_type": "stream",
     "text": [
      "Some weights of XLMRobertaForSequenceClassification were not initialized from the model checkpoint at xlm-roberta-base and are newly initialized: ['classifier.dense.bias', 'classifier.dense.weight', 'classifier.out_proj.bias', 'classifier.out_proj.weight']\n",
      "You should probably TRAIN this model on a down-stream task to be able to use it for predictions and inference.\n"
     ]
    }
   ],
   "execution_count": 40
  },
  {
   "cell_type": "code",
   "source": [
    "peft_config = LoraConfig(\n",
    "    r=16,\n",
    "    lora_alpha=32,\n",
    "    target_modules=[\"query\", \"value\"],\n",
    "    lora_dropout=0.05,\n",
    "    bias=\"none\",\n",
    "    task_type=\"SEQ_CLS\",\n",
    ")"
   ],
   "metadata": {
    "id": "cBLytoYHj0Ii",
    "ExecuteTime": {
     "end_time": "2025-06-22T07:03:29.738977Z",
     "start_time": "2025-06-22T07:03:29.736594Z"
    }
   },
   "outputs": [],
   "execution_count": 41
  },
  {
   "cell_type": "code",
   "source": [
    "model_peft = get_peft_model(model_xlm, peft_config)\n",
    "model_peft.print_trainable_parameters()"
   ],
   "metadata": {
    "colab": {
     "base_uri": "https://localhost:8080/",
     "height": 0
    },
    "id": "MdV6BgfSj2jr",
    "outputId": "9fdc57d3-9c28-4229-d029-748867a16c78",
    "ExecuteTime": {
     "end_time": "2025-06-22T07:03:30.708581Z",
     "start_time": "2025-06-22T07:03:30.648997Z"
    }
   },
   "outputs": [
    {
     "name": "stdout",
     "output_type": "stream",
     "text": [
      "'NoneType' object has no attribute 'cadam32bit_grad_fp32'\n",
      "trainable params: 1,181,954 || all params: 279,227,140 || trainable%: 0.4233\n"
     ]
    },
    {
     "name": "stderr",
     "output_type": "stream",
     "text": [
      "/Users/chyavanshenoy/Desktop/UniProjectGithub/AAI-510-Project/.venv/lib/python3.12/site-packages/bitsandbytes/cextension.py:34: UserWarning: The installed version of bitsandbytes was compiled without GPU support. 8-bit optimizers, 8-bit multiplication, and GPU quantization are unavailable.\n",
      "  warn(\"The installed version of bitsandbytes was compiled without GPU support. \"\n"
     ]
    }
   ],
   "execution_count": 42
  },
  {
   "cell_type": "code",
   "source": [
    "def compute_metrics(eval_pred):\n",
    "    accuracy_metric = load_metric(\"accuracy\")\n",
    "    precision_metric = load_metric(\"precision\")\n",
    "    recall_metric = load_metric(\"recall\")\n",
    "    f1_metric = load_metric(\"f1\")\n",
    "\n",
    "    logits, labels = eval_pred\n",
    "    predictions = np.argmax(logits, axis=-1)\n",
    "\n",
    "    accuracy = accuracy_metric.compute(predictions=predictions, references=labels)\n",
    "    precision = precision_metric.compute(predictions=predictions, references=labels, average='weighted')\n",
    "    recall = recall_metric.compute(predictions=predictions, references=labels, average='weighted')\n",
    "    f1 = f1_metric.compute(predictions=predictions, references=labels, average='weighted')\n",
    "\n",
    "    return {\n",
    "        \"accuracy\": accuracy['accuracy'],\n",
    "        \"precision\": precision['precision'],\n",
    "        \"recall\": recall['recall'],\n",
    "        \"f1\": f1['f1']\n",
    "    }"
   ],
   "metadata": {
    "id": "e4xpt9CAj4e8",
    "ExecuteTime": {
     "end_time": "2025-06-22T07:03:49.339938Z",
     "start_time": "2025-06-22T07:03:49.336528Z"
    }
   },
   "outputs": [],
   "execution_count": 43
  },
  {
   "cell_type": "code",
   "source": [
    "training_args = TrainingArguments(\n",
    "    output_dir=\"./xml_roberta_model\",\n",
    "    per_device_train_batch_size=16,\n",
    "    per_device_eval_batch_size=16,\n",
    "    gradient_accumulation_steps=2,\n",
    "    learning_rate=2e-5,\n",
    "    num_train_epochs=3,\n",
    "    logging_dir=\"./logs\",\n",
    "    logging_steps=250,\n",
    "    eval_strategy=\"steps\",\n",
    "    eval_steps=500,\n",
    "    save_strategy=\"steps\",\n",
    "    save_steps=500,\n",
    "    load_best_model_at_end=True,\n",
    "    metric_for_best_model=\"accuracy\",\n",
    "    fp16=True if torch.cuda.is_available() else False,\n",
    "    report_to=\"none\",\n",
    ")"
   ],
   "metadata": {
    "id": "nZ3RsDWxj8cR",
    "ExecuteTime": {
     "end_time": "2025-06-22T07:03:57.781824Z",
     "start_time": "2025-06-22T07:03:57.779010Z"
    }
   },
   "outputs": [],
   "execution_count": 44
  },
  {
   "cell_type": "code",
   "source": [
    "trainer = Trainer(\n",
    "    model=model_peft,\n",
    "    args=training_args,\n",
    "    train_dataset=tokenized_train_dataset,\n",
    "    eval_dataset=tokenized_test_dataset,\n",
    "    tokenizer=tokenizer_xlm,\n",
    "    compute_metrics=compute_metrics,\n",
    ")"
   ],
   "metadata": {
    "colab": {
     "base_uri": "https://localhost:8080/",
     "height": 0
    },
    "id": "Ba8WBwcwkAas",
    "outputId": "c2de0f81-bdf7-4887-ce37-b68ca6397146",
    "ExecuteTime": {
     "end_time": "2025-06-22T07:03:58.780428Z",
     "start_time": "2025-06-22T07:03:58.640131Z"
    }
   },
   "outputs": [
    {
     "name": "stderr",
     "output_type": "stream",
     "text": [
      "/var/folders/d9/34q0n1js31x765w00t009x6c0000gn/T/ipykernel_2990/3365558244.py:1: FutureWarning: `tokenizer` is deprecated and will be removed in version 5.0.0 for `Trainer.__init__`. Use `processing_class` instead.\n",
      "  trainer = Trainer(\n",
      "No label_names provided for model class `PeftModelForSequenceClassification`. Since `PeftModel` hides base models input arguments, if label_names is not given, label_names can't be set automatically within `Trainer`. Note that empty label_names list will be used instead.\n"
     ]
    }
   ],
   "execution_count": 45
  },
  {
   "cell_type": "code",
   "source": [
    "print(\"\\nTraining XLM-RoBERTa with QLoRA...\")\n",
    "trainer.train()"
   ],
   "metadata": {
    "colab": {
     "base_uri": "https://localhost:8080/",
     "height": 459
    },
    "id": "hiLnjoEqkC5f",
    "outputId": "60b84a7c-dd62-4e0a-a257-fd2b2ebb10b3",
    "ExecuteTime": {
     "end_time": "2025-06-22T08:55:01.800003Z",
     "start_time": "2025-06-22T07:03:59.780964Z"
    }
   },
   "outputs": [
    {
     "name": "stdout",
     "output_type": "stream",
     "text": [
      "\n",
      "Training XLM-RoBERTa with QLoRA...\n"
     ]
    },
    {
     "data": {
      "text/plain": [
       "<IPython.core.display.HTML object>"
      ],
      "text/html": [
       "\n",
       "    <div>\n",
       "      \n",
       "      <progress value='14625' max='14625' style='width:300px; height:20px; vertical-align: middle;'></progress>\n",
       "      [14625/14625 1:51:01, Epoch 3/3]\n",
       "    </div>\n",
       "    <table border=\"1\" class=\"dataframe\">\n",
       "  <thead>\n",
       " <tr style=\"text-align: left;\">\n",
       "      <th>Step</th>\n",
       "      <th>Training Loss</th>\n",
       "      <th>Validation Loss</th>\n",
       "      <th>Accuracy</th>\n",
       "      <th>Precision</th>\n",
       "      <th>Recall</th>\n",
       "      <th>F1</th>\n",
       "    </tr>\n",
       "  </thead>\n",
       "  <tbody>\n",
       "    <tr>\n",
       "      <td>500</td>\n",
       "      <td>0.656200</td>\n",
       "      <td>0.566825</td>\n",
       "      <td>0.712996</td>\n",
       "      <td>0.715444</td>\n",
       "      <td>0.712996</td>\n",
       "      <td>0.712155</td>\n",
       "    </tr>\n",
       "    <tr>\n",
       "      <td>1000</td>\n",
       "      <td>0.560400</td>\n",
       "      <td>0.516954</td>\n",
       "      <td>0.739127</td>\n",
       "      <td>0.739234</td>\n",
       "      <td>0.739127</td>\n",
       "      <td>0.739102</td>\n",
       "    </tr>\n",
       "    <tr>\n",
       "      <td>1500</td>\n",
       "      <td>0.528000</td>\n",
       "      <td>0.498109</td>\n",
       "      <td>0.753231</td>\n",
       "      <td>0.754197</td>\n",
       "      <td>0.753231</td>\n",
       "      <td>0.753007</td>\n",
       "    </tr>\n",
       "    <tr>\n",
       "      <td>2000</td>\n",
       "      <td>0.514200</td>\n",
       "      <td>0.482075</td>\n",
       "      <td>0.765643</td>\n",
       "      <td>0.766018</td>\n",
       "      <td>0.765643</td>\n",
       "      <td>0.765566</td>\n",
       "    </tr>\n",
       "    <tr>\n",
       "      <td>2500</td>\n",
       "      <td>0.497200</td>\n",
       "      <td>0.466602</td>\n",
       "      <td>0.774592</td>\n",
       "      <td>0.774606</td>\n",
       "      <td>0.774592</td>\n",
       "      <td>0.774590</td>\n",
       "    </tr>\n",
       "    <tr>\n",
       "      <td>3000</td>\n",
       "      <td>0.482600</td>\n",
       "      <td>0.461084</td>\n",
       "      <td>0.777285</td>\n",
       "      <td>0.780558</td>\n",
       "      <td>0.777285</td>\n",
       "      <td>0.776618</td>\n",
       "    </tr>\n",
       "    <tr>\n",
       "      <td>3500</td>\n",
       "      <td>0.466000</td>\n",
       "      <td>0.440472</td>\n",
       "      <td>0.787953</td>\n",
       "      <td>0.788055</td>\n",
       "      <td>0.787953</td>\n",
       "      <td>0.787936</td>\n",
       "    </tr>\n",
       "    <tr>\n",
       "      <td>4000</td>\n",
       "      <td>0.457900</td>\n",
       "      <td>0.433641</td>\n",
       "      <td>0.789235</td>\n",
       "      <td>0.791232</td>\n",
       "      <td>0.789235</td>\n",
       "      <td>0.788862</td>\n",
       "    </tr>\n",
       "    <tr>\n",
       "      <td>4500</td>\n",
       "      <td>0.451800</td>\n",
       "      <td>0.423119</td>\n",
       "      <td>0.794235</td>\n",
       "      <td>0.794424</td>\n",
       "      <td>0.794235</td>\n",
       "      <td>0.794199</td>\n",
       "    </tr>\n",
       "    <tr>\n",
       "      <td>5000</td>\n",
       "      <td>0.445200</td>\n",
       "      <td>0.417239</td>\n",
       "      <td>0.799569</td>\n",
       "      <td>0.800353</td>\n",
       "      <td>0.799569</td>\n",
       "      <td>0.799432</td>\n",
       "    </tr>\n",
       "    <tr>\n",
       "      <td>5500</td>\n",
       "      <td>0.443300</td>\n",
       "      <td>0.414658</td>\n",
       "      <td>0.799723</td>\n",
       "      <td>0.800427</td>\n",
       "      <td>0.799723</td>\n",
       "      <td>0.799600</td>\n",
       "    </tr>\n",
       "    <tr>\n",
       "      <td>6000</td>\n",
       "      <td>0.438000</td>\n",
       "      <td>0.401452</td>\n",
       "      <td>0.804416</td>\n",
       "      <td>0.804612</td>\n",
       "      <td>0.804416</td>\n",
       "      <td>0.804381</td>\n",
       "    </tr>\n",
       "    <tr>\n",
       "      <td>6500</td>\n",
       "      <td>0.435600</td>\n",
       "      <td>0.396841</td>\n",
       "      <td>0.806929</td>\n",
       "      <td>0.806936</td>\n",
       "      <td>0.806929</td>\n",
       "      <td>0.806928</td>\n",
       "    </tr>\n",
       "    <tr>\n",
       "      <td>7000</td>\n",
       "      <td>0.433600</td>\n",
       "      <td>0.402189</td>\n",
       "      <td>0.804980</td>\n",
       "      <td>0.810243</td>\n",
       "      <td>0.804980</td>\n",
       "      <td>0.804134</td>\n",
       "    </tr>\n",
       "    <tr>\n",
       "      <td>7500</td>\n",
       "      <td>0.420400</td>\n",
       "      <td>0.394079</td>\n",
       "      <td>0.810852</td>\n",
       "      <td>0.811660</td>\n",
       "      <td>0.810852</td>\n",
       "      <td>0.810724</td>\n",
       "    </tr>\n",
       "    <tr>\n",
       "      <td>8000</td>\n",
       "      <td>0.421100</td>\n",
       "      <td>0.394493</td>\n",
       "      <td>0.810801</td>\n",
       "      <td>0.812821</td>\n",
       "      <td>0.810801</td>\n",
       "      <td>0.810486</td>\n",
       "    </tr>\n",
       "    <tr>\n",
       "      <td>8500</td>\n",
       "      <td>0.419800</td>\n",
       "      <td>0.388451</td>\n",
       "      <td>0.814186</td>\n",
       "      <td>0.815026</td>\n",
       "      <td>0.814186</td>\n",
       "      <td>0.814056</td>\n",
       "    </tr>\n",
       "    <tr>\n",
       "      <td>9000</td>\n",
       "      <td>0.410800</td>\n",
       "      <td>0.384185</td>\n",
       "      <td>0.817571</td>\n",
       "      <td>0.817867</td>\n",
       "      <td>0.817571</td>\n",
       "      <td>0.817525</td>\n",
       "    </tr>\n",
       "    <tr>\n",
       "      <td>9500</td>\n",
       "      <td>0.410400</td>\n",
       "      <td>0.395395</td>\n",
       "      <td>0.809288</td>\n",
       "      <td>0.815829</td>\n",
       "      <td>0.809288</td>\n",
       "      <td>0.808279</td>\n",
       "    </tr>\n",
       "    <tr>\n",
       "      <td>10000</td>\n",
       "      <td>0.395600</td>\n",
       "      <td>0.387902</td>\n",
       "      <td>0.816263</td>\n",
       "      <td>0.818407</td>\n",
       "      <td>0.816263</td>\n",
       "      <td>0.815944</td>\n",
       "    </tr>\n",
       "    <tr>\n",
       "      <td>10500</td>\n",
       "      <td>0.395800</td>\n",
       "      <td>0.386836</td>\n",
       "      <td>0.816674</td>\n",
       "      <td>0.818930</td>\n",
       "      <td>0.816674</td>\n",
       "      <td>0.816340</td>\n",
       "    </tr>\n",
       "    <tr>\n",
       "      <td>11000</td>\n",
       "      <td>0.395600</td>\n",
       "      <td>0.384425</td>\n",
       "      <td>0.818930</td>\n",
       "      <td>0.820293</td>\n",
       "      <td>0.818930</td>\n",
       "      <td>0.818730</td>\n",
       "    </tr>\n",
       "    <tr>\n",
       "      <td>11500</td>\n",
       "      <td>0.400000</td>\n",
       "      <td>0.379439</td>\n",
       "      <td>0.819725</td>\n",
       "      <td>0.820530</td>\n",
       "      <td>0.819725</td>\n",
       "      <td>0.819607</td>\n",
       "    </tr>\n",
       "    <tr>\n",
       "      <td>12000</td>\n",
       "      <td>0.402100</td>\n",
       "      <td>0.376227</td>\n",
       "      <td>0.820776</td>\n",
       "      <td>0.820921</td>\n",
       "      <td>0.820776</td>\n",
       "      <td>0.820754</td>\n",
       "    </tr>\n",
       "    <tr>\n",
       "      <td>12500</td>\n",
       "      <td>0.403000</td>\n",
       "      <td>0.377612</td>\n",
       "      <td>0.819982</td>\n",
       "      <td>0.821462</td>\n",
       "      <td>0.819982</td>\n",
       "      <td>0.819767</td>\n",
       "    </tr>\n",
       "    <tr>\n",
       "      <td>13000</td>\n",
       "      <td>0.404000</td>\n",
       "      <td>0.376103</td>\n",
       "      <td>0.820776</td>\n",
       "      <td>0.821288</td>\n",
       "      <td>0.820776</td>\n",
       "      <td>0.820701</td>\n",
       "    </tr>\n",
       "    <tr>\n",
       "      <td>13500</td>\n",
       "      <td>0.402600</td>\n",
       "      <td>0.374912</td>\n",
       "      <td>0.821315</td>\n",
       "      <td>0.821821</td>\n",
       "      <td>0.821315</td>\n",
       "      <td>0.821241</td>\n",
       "    </tr>\n",
       "    <tr>\n",
       "      <td>14000</td>\n",
       "      <td>0.394400</td>\n",
       "      <td>0.376248</td>\n",
       "      <td>0.821571</td>\n",
       "      <td>0.822368</td>\n",
       "      <td>0.821571</td>\n",
       "      <td>0.821456</td>\n",
       "    </tr>\n",
       "    <tr>\n",
       "      <td>14500</td>\n",
       "      <td>0.401900</td>\n",
       "      <td>0.377031</td>\n",
       "      <td>0.820725</td>\n",
       "      <td>0.821973</td>\n",
       "      <td>0.820725</td>\n",
       "      <td>0.820545</td>\n",
       "    </tr>\n",
       "  </tbody>\n",
       "</table><p>"
      ]
     },
     "metadata": {},
     "output_type": "display_data"
    },
    {
     "data": {
      "text/plain": [
       "TrainOutput(global_step=14625, training_loss=0.44540218177208535, metrics={'train_runtime': 6661.8523, 'train_samples_per_second': 70.243, 'train_steps_per_second': 2.195, 'total_flos': 3.120521509437235e+16, 'train_loss': 0.44540218177208535, 'epoch': 3.0})"
      ]
     },
     "execution_count": 46,
     "metadata": {},
     "output_type": "execute_result"
    }
   ],
   "execution_count": 46
  },
  {
   "cell_type": "code",
   "source": [
    "print(\"\\nEvaluating XLM-RoBERTa...\")\n",
    "eval_results = trainer.evaluate()\n",
    "results.append({\n",
    "    'Model': 'XLM-RoBERTa (QLoRA)',\n",
    "    'Accuracy': eval_results['eval_accuracy'],\n",
    "    'Precision': eval_results['eval_precision'],\n",
    "    'Recall': eval_results['eval_recall'],\n",
    "    'F1-Score': eval_results['eval_f1']\n",
    "})"
   ],
   "metadata": {
    "id": "WFui58RekHfd",
    "ExecuteTime": {
     "end_time": "2025-06-22T08:57:40.964199Z",
     "start_time": "2025-06-22T08:55:45.165587Z"
    }
   },
   "outputs": [
    {
     "name": "stdout",
     "output_type": "stream",
     "text": [
      "\n",
      "Evaluating XLM-RoBERTa...\n"
     ]
    },
    {
     "data": {
      "text/plain": [
       "<IPython.core.display.HTML object>"
      ],
      "text/html": [
       "\n",
       "    <div>\n",
       "      \n",
       "      <progress value='2438' max='2438' style='width:300px; height:20px; vertical-align: middle;'></progress>\n",
       "      [2438/2438 01:49]\n",
       "    </div>\n",
       "    "
      ]
     },
     "metadata": {},
     "output_type": "display_data"
    }
   ],
   "execution_count": 47
  },
  {
   "metadata": {},
   "cell_type": "markdown",
   "source": "### Lightweight BERT"
  },
  {
   "metadata": {
    "ExecuteTime": {
     "end_time": "2025-06-22T08:59:14.651858Z",
     "start_time": "2025-06-22T08:59:14.648922Z"
    }
   },
   "cell_type": "code",
   "source": [
    "from transformers import DataCollatorWithPadding\n",
    "from sklearn.metrics import accuracy_score, precision_recall_fscore_support"
   ],
   "outputs": [],
   "execution_count": 60
  },
  {
   "cell_type": "code",
   "source": "model_name =\"google/bert_uncased_L-4_H-256_A-4\"",
   "metadata": {
    "id": "rjaNZ7oTkKKV",
    "ExecuteTime": {
     "end_time": "2025-06-22T08:59:15.094492Z",
     "start_time": "2025-06-22T08:59:15.091889Z"
    }
   },
   "outputs": [],
   "execution_count": 61
  },
  {
   "metadata": {
    "ExecuteTime": {
     "end_time": "2025-06-22T08:59:16.748150Z",
     "start_time": "2025-06-22T08:59:15.471367Z"
    }
   },
   "cell_type": "code",
   "source": "tokenizer_bert = AutoTokenizer.from_pretrained(model_name)",
   "outputs": [],
   "execution_count": 62
  },
  {
   "metadata": {
    "ExecuteTime": {
     "end_time": "2025-06-22T09:00:41.821301Z",
     "start_time": "2025-06-22T09:00:41.769411Z"
    }
   },
   "cell_type": "code",
   "source": [
    "train_ds_bert = Dataset.from_pandas(train_df[['text', 'label_encoded']].rename(columns={'label_encoded': 'labels'}))\n",
    "test_ds_bert = Dataset.from_pandas(test_df[['text', 'label_encoded']].rename(columns={'label_encoded': 'labels'}))\n"
   ],
   "outputs": [],
   "execution_count": 67
  },
  {
   "metadata": {
    "ExecuteTime": {
     "end_time": "2025-06-22T09:00:41.934509Z",
     "start_time": "2025-06-22T09:00:41.932874Z"
    }
   },
   "cell_type": "code",
   "source": [
    "def tokenize_bert(batch):\n",
    "    return tokenizer_bert(batch[\"text\"], truncation=True, padding=\"max_length\", max_length=128)"
   ],
   "outputs": [],
   "execution_count": 68
  },
  {
   "metadata": {
    "ExecuteTime": {
     "end_time": "2025-06-22T09:00:47.660628Z",
     "start_time": "2025-06-22T09:00:42.701697Z"
    }
   },
   "cell_type": "code",
   "source": [
    "print(\"Tokenizing datasets for BERT...\")\n",
    "train_ds_bert = train_ds_bert.map(tokenize_bert, batched=True, remove_columns=['text'])\n",
    "test_ds_bert = test_ds_bert.map(tokenize_bert, batched=True, remove_columns=['text'])"
   ],
   "outputs": [
    {
     "name": "stdout",
     "output_type": "stream",
     "text": [
      "Tokenizing datasets for BERT...\n"
     ]
    },
    {
     "data": {
      "text/plain": [
       "Map:   0%|          | 0/155982 [00:00<?, ? examples/s]"
      ],
      "application/vnd.jupyter.widget-view+json": {
       "version_major": 2,
       "version_minor": 0,
       "model_id": "2ada6dcb57f345ea9a5e51cf32b79995"
      }
     },
     "metadata": {},
     "output_type": "display_data"
    },
    {
     "data": {
      "text/plain": [
       "Map:   0%|          | 0/38996 [00:00<?, ? examples/s]"
      ],
      "application/vnd.jupyter.widget-view+json": {
       "version_major": 2,
       "version_minor": 0,
       "model_id": "547b835952ff4dd4bd6cac79a6159579"
      }
     },
     "metadata": {},
     "output_type": "display_data"
    }
   ],
   "execution_count": 69
  },
  {
   "metadata": {
    "ExecuteTime": {
     "end_time": "2025-06-22T09:00:48.871250Z",
     "start_time": "2025-06-22T09:00:48.326529Z"
    }
   },
   "cell_type": "code",
   "source": [
    "num_labels = len(df['label'].unique())\n",
    "model_bert = AutoModelForSequenceClassification.from_pretrained(model_name, num_labels=num_labels)"
   ],
   "outputs": [
    {
     "name": "stderr",
     "output_type": "stream",
     "text": [
      "Some weights of BertForSequenceClassification were not initialized from the model checkpoint at google/bert_uncased_L-4_H-256_A-4 and are newly initialized: ['classifier.bias', 'classifier.weight']\n",
      "You should probably TRAIN this model on a down-stream task to be able to use it for predictions and inference.\n"
     ]
    }
   ],
   "execution_count": 70
  },
  {
   "metadata": {
    "ExecuteTime": {
     "end_time": "2025-06-22T09:00:49.914037Z",
     "start_time": "2025-06-22T09:00:49.912016Z"
    }
   },
   "cell_type": "code",
   "source": [
    "def compute_metrics_bert(eval_pred):\n",
    "    predictions, labels = eval_pred\n",
    "    predictions = np.argmax(predictions, axis=1)\n",
    "    precision, recall, f1, _ = precision_recall_fscore_support(labels, predictions, average='weighted')\n",
    "    acc = accuracy_score(labels, predictions)\n",
    "    return {'accuracy': acc, 'f1': f1, 'precision': precision, 'recall': recall}\n"
   ],
   "outputs": [],
   "execution_count": 71
  },
  {
   "metadata": {
    "ExecuteTime": {
     "end_time": "2025-06-22T09:12:23.709023Z",
     "start_time": "2025-06-22T09:12:23.706538Z"
    }
   },
   "cell_type": "code",
   "source": [
    "training_args_bert = TrainingArguments( #\n",
    "    output_dir='./results_bert', #\n",
    "    num_train_epochs=3, #\n",
    "    per_device_train_batch_size=128, #\n",
    "    per_device_eval_batch_size=128, #\n",
    "    warmup_steps=500, #\n",
    "    weight_decay=0.01, #\n",
    "    logging_dir='./logs_bert', #\n",
    "    logging_steps=500, #\n",
    "    eval_strategy=\"epoch\", #\n",
    "    save_strategy=\"epoch\", #\n",
    "    load_best_model_at_end=True, #\n",
    "    metric_for_best_model=\"accuracy\", #\n",
    "    fp16=True if torch.cuda.is_available() else False, #\n",
    "    report_to=\"none\", #\n",
    ")"
   ],
   "outputs": [],
   "execution_count": 90
  },
  {
   "metadata": {
    "ExecuteTime": {
     "end_time": "2025-06-22T09:12:24.384745Z",
     "start_time": "2025-06-22T09:12:24.373080Z"
    }
   },
   "cell_type": "code",
   "source": [
    "trainer_bert = Trainer(\n",
    "    model=model_bert,\n",
    "    args=training_args_bert,\n",
    "    train_dataset=train_ds_bert,\n",
    "    eval_dataset=test_ds_bert,\n",
    "    tokenizer=tokenizer_bert,\n",
    "    data_collator=DataCollatorWithPadding(tokenizer=tokenizer_bert),\n",
    "    compute_metrics=compute_metrics_bert,\n",
    ")"
   ],
   "outputs": [
    {
     "name": "stderr",
     "output_type": "stream",
     "text": [
      "/var/folders/d9/34q0n1js31x765w00t009x6c0000gn/T/ipykernel_2990/4018880783.py:1: FutureWarning: `tokenizer` is deprecated and will be removed in version 5.0.0 for `Trainer.__init__`. Use `processing_class` instead.\n",
      "  trainer_bert = Trainer(\n"
     ]
    }
   ],
   "execution_count": 91
  },
  {
   "metadata": {
    "ExecuteTime": {
     "end_time": "2025-06-22T09:18:21.440308Z",
     "start_time": "2025-06-22T09:12:24.966540Z"
    }
   },
   "cell_type": "code",
   "source": [
    "print(\"\\nTraining Lightweight BERT...\")\n",
    "trainer_bert.train()"
   ],
   "outputs": [
    {
     "name": "stdout",
     "output_type": "stream",
     "text": [
      "\n",
      "Training Lightweight BERT...\n"
     ]
    },
    {
     "data": {
      "text/plain": [
       "<IPython.core.display.HTML object>"
      ],
      "text/html": [
       "\n",
       "    <div>\n",
       "      \n",
       "      <progress value='3657' max='3657' style='width:300px; height:20px; vertical-align: middle;'></progress>\n",
       "      [3657/3657 05:55, Epoch 3/3]\n",
       "    </div>\n",
       "    <table border=\"1\" class=\"dataframe\">\n",
       "  <thead>\n",
       " <tr style=\"text-align: left;\">\n",
       "      <th>Epoch</th>\n",
       "      <th>Training Loss</th>\n",
       "      <th>Validation Loss</th>\n",
       "      <th>Accuracy</th>\n",
       "      <th>F1</th>\n",
       "      <th>Precision</th>\n",
       "      <th>Recall</th>\n",
       "    </tr>\n",
       "  </thead>\n",
       "  <tbody>\n",
       "    <tr>\n",
       "      <td>1</td>\n",
       "      <td>0.352800</td>\n",
       "      <td>0.339956</td>\n",
       "      <td>0.836317</td>\n",
       "      <td>0.836282</td>\n",
       "      <td>0.836626</td>\n",
       "      <td>0.836317</td>\n",
       "    </tr>\n",
       "    <tr>\n",
       "      <td>2</td>\n",
       "      <td>0.327600</td>\n",
       "      <td>0.330129</td>\n",
       "      <td>0.841830</td>\n",
       "      <td>0.841819</td>\n",
       "      <td>0.841911</td>\n",
       "      <td>0.841830</td>\n",
       "    </tr>\n",
       "    <tr>\n",
       "      <td>3</td>\n",
       "      <td>0.308300</td>\n",
       "      <td>0.330674</td>\n",
       "      <td>0.841830</td>\n",
       "      <td>0.841681</td>\n",
       "      <td>0.843074</td>\n",
       "      <td>0.841830</td>\n",
       "    </tr>\n",
       "  </tbody>\n",
       "</table><p>"
      ]
     },
     "metadata": {},
     "output_type": "display_data"
    },
    {
     "data": {
      "text/plain": [
       "TrainOutput(global_step=3657, training_loss=0.32930989065944805, metrics={'train_runtime': 356.1854, 'train_samples_per_second': 1313.771, 'train_steps_per_second': 10.267, 'total_flos': 1159317003009024.0, 'train_loss': 0.32930989065944805, 'epoch': 3.0})"
      ]
     },
     "execution_count": 92,
     "metadata": {},
     "output_type": "execute_result"
    }
   ],
   "execution_count": 92
  },
  {
   "metadata": {
    "ExecuteTime": {
     "end_time": "2025-06-22T09:24:07.525914Z",
     "start_time": "2025-06-22T09:23:57.566597Z"
    }
   },
   "cell_type": "code",
   "source": [
    "print(\"\\nEvaluating Lightweight BERT...\")\n",
    "eval_results_bert = trainer_bert.evaluate() #\n",
    "results.append({\n",
    "    'Model': 'Lightweight BERT',\n",
    "    'Accuracy': eval_results_bert['eval_accuracy'],\n",
    "    'Precision': eval_results_bert['eval_precision'],\n",
    "    'Recall': eval_results_bert['eval_recall'],\n",
    "    'F1-Score': eval_results_bert['eval_f1']\n",
    "})\n",
    "print(f\"Evaluation results: {eval_results_bert}\")"
   ],
   "outputs": [
    {
     "name": "stdout",
     "output_type": "stream",
     "text": [
      "\n",
      "Evaluating Lightweight BERT...\n",
      "Evaluation results: {'eval_loss': 0.3301292657852173, 'eval_accuracy': 0.8418299312750026, 'eval_f1': 0.8418191797592368, 'eval_precision': 0.8419107721309642, 'eval_recall': 0.8418299312750026, 'eval_runtime': 9.9553, 'eval_samples_per_second': 3917.096, 'eval_steps_per_second': 30.637, 'epoch': 3.0}\n"
     ]
    }
   ],
   "execution_count": 110
  },
  {
   "metadata": {},
   "cell_type": "markdown",
   "source": "# Visualizing the Results"
  },
  {
   "metadata": {
    "ExecuteTime": {
     "end_time": "2025-06-22T09:24:10.124386Z",
     "start_time": "2025-06-22T09:24:10.121012Z"
    }
   },
   "cell_type": "code",
   "source": "results_df = pd.DataFrame(results)",
   "outputs": [],
   "execution_count": 111
  },
  {
   "metadata": {
    "ExecuteTime": {
     "end_time": "2025-06-22T09:24:12.629341Z",
     "start_time": "2025-06-22T09:24:12.623231Z"
    }
   },
   "cell_type": "code",
   "source": "results_df",
   "outputs": [
    {
     "data": {
      "text/plain": [
       "                 Model  Accuracy  Precision    Recall  F1-Score\n",
       "0  Logistic Regression  0.824854   0.824995  0.824854  0.824837\n",
       "1  Logistic Regression  0.824854   0.824995  0.824854  0.824837\n",
       "2  Logistic Regression  0.824854   0.824995  0.824854  0.824837\n",
       "3        Random Forest  0.815058   0.815061  0.815058  0.815057\n",
       "4                 LSTM  0.822187   0.822219  0.822187  0.822183\n",
       "5  XLM-RoBERTa (QLoRA)  0.821571   0.822368  0.821571  0.821456\n",
       "6     Lightweight BERT  0.822315   0.825862  0.822315  0.821819\n",
       "7     Lightweight BERT  0.841830   0.841911  0.841830  0.841819\n",
       "8     Lightweight BERT  0.841830   0.841911  0.841830  0.841819"
      ],
      "text/html": [
       "<div>\n",
       "<style scoped>\n",
       "    .dataframe tbody tr th:only-of-type {\n",
       "        vertical-align: middle;\n",
       "    }\n",
       "\n",
       "    .dataframe tbody tr th {\n",
       "        vertical-align: top;\n",
       "    }\n",
       "\n",
       "    .dataframe thead th {\n",
       "        text-align: right;\n",
       "    }\n",
       "</style>\n",
       "<table border=\"1\" class=\"dataframe\">\n",
       "  <thead>\n",
       "    <tr style=\"text-align: right;\">\n",
       "      <th></th>\n",
       "      <th>Model</th>\n",
       "      <th>Accuracy</th>\n",
       "      <th>Precision</th>\n",
       "      <th>Recall</th>\n",
       "      <th>F1-Score</th>\n",
       "    </tr>\n",
       "  </thead>\n",
       "  <tbody>\n",
       "    <tr>\n",
       "      <th>0</th>\n",
       "      <td>Logistic Regression</td>\n",
       "      <td>0.824854</td>\n",
       "      <td>0.824995</td>\n",
       "      <td>0.824854</td>\n",
       "      <td>0.824837</td>\n",
       "    </tr>\n",
       "    <tr>\n",
       "      <th>1</th>\n",
       "      <td>Logistic Regression</td>\n",
       "      <td>0.824854</td>\n",
       "      <td>0.824995</td>\n",
       "      <td>0.824854</td>\n",
       "      <td>0.824837</td>\n",
       "    </tr>\n",
       "    <tr>\n",
       "      <th>2</th>\n",
       "      <td>Logistic Regression</td>\n",
       "      <td>0.824854</td>\n",
       "      <td>0.824995</td>\n",
       "      <td>0.824854</td>\n",
       "      <td>0.824837</td>\n",
       "    </tr>\n",
       "    <tr>\n",
       "      <th>3</th>\n",
       "      <td>Random Forest</td>\n",
       "      <td>0.815058</td>\n",
       "      <td>0.815061</td>\n",
       "      <td>0.815058</td>\n",
       "      <td>0.815057</td>\n",
       "    </tr>\n",
       "    <tr>\n",
       "      <th>4</th>\n",
       "      <td>LSTM</td>\n",
       "      <td>0.822187</td>\n",
       "      <td>0.822219</td>\n",
       "      <td>0.822187</td>\n",
       "      <td>0.822183</td>\n",
       "    </tr>\n",
       "    <tr>\n",
       "      <th>5</th>\n",
       "      <td>XLM-RoBERTa (QLoRA)</td>\n",
       "      <td>0.821571</td>\n",
       "      <td>0.822368</td>\n",
       "      <td>0.821571</td>\n",
       "      <td>0.821456</td>\n",
       "    </tr>\n",
       "    <tr>\n",
       "      <th>6</th>\n",
       "      <td>Lightweight BERT</td>\n",
       "      <td>0.822315</td>\n",
       "      <td>0.825862</td>\n",
       "      <td>0.822315</td>\n",
       "      <td>0.821819</td>\n",
       "    </tr>\n",
       "    <tr>\n",
       "      <th>7</th>\n",
       "      <td>Lightweight BERT</td>\n",
       "      <td>0.841830</td>\n",
       "      <td>0.841911</td>\n",
       "      <td>0.841830</td>\n",
       "      <td>0.841819</td>\n",
       "    </tr>\n",
       "    <tr>\n",
       "      <th>8</th>\n",
       "      <td>Lightweight BERT</td>\n",
       "      <td>0.841830</td>\n",
       "      <td>0.841911</td>\n",
       "      <td>0.841830</td>\n",
       "      <td>0.841819</td>\n",
       "    </tr>\n",
       "  </tbody>\n",
       "</table>\n",
       "</div>"
      ]
     },
     "execution_count": 112,
     "metadata": {},
     "output_type": "execute_result"
    }
   ],
   "execution_count": 112
  },
  {
   "metadata": {
    "ExecuteTime": {
     "end_time": "2025-06-22T09:25:28.471367Z",
     "start_time": "2025-06-22T09:25:28.467870Z"
    }
   },
   "cell_type": "code",
   "source": [
    "print(\"--- Model Performance Summary ---\")\n",
    "print(results_df.to_string(index=False))"
   ],
   "outputs": [
    {
     "name": "stdout",
     "output_type": "stream",
     "text": [
      "--- Model Performance Summary ---\n",
      "              Model  Accuracy  Precision   Recall  F1-Score\n",
      "Logistic Regression  0.824854   0.824995 0.824854  0.824837\n",
      "      Random Forest  0.815058   0.815061 0.815058  0.815057\n",
      "               LSTM  0.822187   0.822219 0.822187  0.822183\n",
      "XLM-RoBERTa (QLoRA)  0.821571   0.822368 0.821571  0.821456\n",
      "   Lightweight BERT  0.841830   0.841911 0.841830  0.841819\n"
     ]
    }
   ],
   "execution_count": 119
  },
  {
   "metadata": {
    "ExecuteTime": {
     "end_time": "2025-06-22T09:25:29.103918Z",
     "start_time": "2025-06-22T09:25:29.101682Z"
    }
   },
   "cell_type": "code",
   "source": "plot_df = results_df.set_index('Model')",
   "outputs": [],
   "execution_count": 120
  },
  {
   "metadata": {
    "ExecuteTime": {
     "end_time": "2025-06-22T09:25:29.919863Z",
     "start_time": "2025-06-22T09:25:29.852285Z"
    }
   },
   "cell_type": "code",
   "source": [
    "plt.style.use('seaborn-v0_8-whitegrid')\n",
    "ax = plot_df.plot(\n",
    "    kind='bar',\n",
    "    figsize=(14, 8),\n",
    "    width=0.8,\n",
    "    colormap='viridis'\n",
    ")"
   ],
   "outputs": [
    {
     "data": {
      "text/plain": [
       "<Figure size 1400x800 with 1 Axes>"
      ],
      "image/png": "[encoded data removed]"
     },
     "metadata": {},
     "output_type": "display_data"
    }
   ],
   "execution_count": 121
  },
  {
   "metadata": {},
   "cell_type": "markdown",
   "source": "# Testing"
  },
  {
   "metadata": {
    "ExecuteTime": {
     "end_time": "2025-06-22T09:25:31.995363Z",
     "start_time": "2025-06-22T09:25:31.993679Z"
    }
   },
   "cell_type": "code",
   "source": [
    "import json\n",
    "import numpy as np\n",
    "import torch\n",
    "from transformers import pipeline\n",
    "from tensorflow.keras.preprocessing.sequence import pad_sequences"
   ],
   "outputs": [],
   "execution_count": 122
  },
  {
   "metadata": {
    "ExecuteTime": {
     "end_time": "2025-06-22T09:25:32.652317Z",
     "start_time": "2025-06-22T09:25:32.649009Z"
    }
   },
   "cell_type": "code",
   "source": [
    "test_samples_json = \"\"\"\n",
    "[\n",
    "  {\"text\": \"I love this product, it works perfectly!\", \"expected_label\": \"positive\"},\n",
    "  {\"text\": \"Worst experience ever. Totally disappointed.\", \"expected_label\": \"negative\"},\n",
    "  {\"text\": \"Ce produit est incroyable, je l'adore!\", \"expected_label\": \"positive\"},\n",
    "  {\"text\": \"Très mauvaise qualité, je suis déçu.\", \"expected_label\": \"negative\"},\n",
    "  {\"text\": \"Adorei este produto, funciona perfeitamente!\", \"expected_label\": \"positive\"},\n",
    "  {\"text\": \"Não recomendo, péssima qualidade.\", \"expected_label\": \"negative\"}\n",
    "]\n",
    "\"\"\""
   ],
   "outputs": [],
   "execution_count": 123
  },
  {
   "metadata": {
    "ExecuteTime": {
     "end_time": "2025-06-22T09:25:33.271676Z",
     "start_time": "2025-06-22T09:25:33.270095Z"
    }
   },
   "cell_type": "code",
   "source": "test_samples = json.loads(test_samples_json)",
   "outputs": [],
   "execution_count": 124
  },
  {
   "metadata": {
    "ExecuteTime": {
     "end_time": "2025-06-22T09:25:34.335929Z",
     "start_time": "2025-06-22T09:25:34.333443Z"
    }
   },
   "cell_type": "code",
   "source": [
    "bert_classifier = pipeline(\n",
    "    \"text-classification\",\n",
    "    model=trainer_bert.model,\n",
    "    tokenizer=tokenizer_bert,\n",
    "    device=device\n",
    ")"
   ],
   "outputs": [
    {
     "name": "stderr",
     "output_type": "stream",
     "text": [
      "Device set to use mps\n"
     ]
    }
   ],
   "execution_count": 125
  },
  {
   "metadata": {
    "ExecuteTime": {
     "end_time": "2025-06-22T09:25:34.836956Z",
     "start_time": "2025-06-22T09:25:34.835041Z"
    }
   },
   "cell_type": "code",
   "source": "bert_label_map = {\"LABEL_0\": \"negative\", \"LABEL_1\": \"positive\"}",
   "outputs": [],
   "execution_count": 126
  },
  {
   "metadata": {
    "ExecuteTime": {
     "end_time": "2025-06-22T09:25:35.330562Z",
     "start_time": "2025-06-22T09:25:35.324923Z"
    }
   },
   "cell_type": "code",
   "source": [
    "xlmr_classifier = pipeline(\n",
    "    \"text-classification\",\n",
    "    model=trainer.model, # This is the PEFT model from the XLM-R training cell\n",
    "    tokenizer=tokenizer_xlm,\n",
    "    device=device\n",
    ")"
   ],
   "outputs": [
    {
     "name": "stderr",
     "output_type": "stream",
     "text": [
      "Device set to use mps\n"
     ]
    }
   ],
   "execution_count": 127
  },
  {
   "metadata": {
    "ExecuteTime": {
     "end_time": "2025-06-22T09:25:36.167325Z",
     "start_time": "2025-06-22T09:25:35.866630Z"
    }
   },
   "cell_type": "code",
   "source": [
    "for i, sample in enumerate(test_samples):\n",
    "    text = sample[\"text\"]\n",
    "    true_label = sample[\"expected_label\"]\n",
    "\n",
    "    print(f\"\\n--- Sample #{i+1} ---\")\n",
    "    print(f\"Text: '{text}'\")\n",
    "    print(f\"Expected Label: {true_label}\")\n",
    "    print(\"-\" * 20)\n",
    "\n",
    "    # --- a) Logistic Regression Prediction ---\n",
    "    log_reg_vec = vectorizer.transform([text])\n",
    "    log_reg_pred_prob = log_reg.predict_proba(log_reg_vec)[0]\n",
    "    log_reg_pred_index = np.argmax(log_reg_pred_prob)\n",
    "    log_reg_pred_label = le.inverse_transform([log_reg_pred_index])[0]\n",
    "    log_reg_confidence = np.max(log_reg_pred_prob) * 100\n",
    "    print(f\"Logistic Regression -> Predicted: {log_reg_pred_label.capitalize()} ({log_reg_confidence:.2f}%)\")\n",
    "\n",
    "    # --- b) Random Forest Prediction ---\n",
    "    rf_vec = vectorizer.transform([text])\n",
    "    rf_pred_prob = rf.predict_proba(rf_vec)[0]\n",
    "    rf_pred_index = np.argmax(rf_pred_prob)\n",
    "    rf_pred_label = le.inverse_transform([rf_pred_index])[0]\n",
    "    rf_confidence = np.max(rf_pred_prob) * 100\n",
    "    print(f\"Random Forest       -> Predicted: {rf_pred_label.capitalize()} ({rf_confidence:.2f}%)\")\n",
    "\n",
    "    # --- c) LSTM Prediction ---\n",
    "    # Note: MAX_SEQUENCE_LENGTH should be the same as used in training (e.g., 100)\n",
    "    lstm_seq = tokenizer_lstm.texts_to_sequences([text])\n",
    "    lstm_padded_seq = pad_sequences(lstm_seq, maxlen=MAX_SEQUENCE_LENGTH)\n",
    "    lstm_pred_prob = model_lstm.predict(lstm_padded_seq, verbose=0)[0]\n",
    "    lstm_pred_index = np.argmax(lstm_pred_prob)\n",
    "    lstm_pred_label = le.inverse_transform([lstm_pred_index])[0]\n",
    "    lstm_confidence = np.max(lstm_pred_prob) * 100\n",
    "    print(f\"LSTM                -> Predicted: {lstm_pred_label.capitalize()} ({lstm_confidence:.2f}%)\")\n",
    "\n",
    "    # --- d) Lightweight BERT Prediction ---\n",
    "    bert_prediction = bert_classifier(text)[0]\n",
    "    bert_pred_label = bert_label_map.get(bert_prediction['label'], bert_prediction['label'])\n",
    "    bert_confidence = bert_prediction['score'] * 100\n",
    "    print(f\"Lightweight BERT    -> Predicted: {bert_pred_label.capitalize()} ({bert_confidence:.2f}%)\")\n",
    "\n",
    "    # --- e) XLM-ROBERTa Prediction ---\n",
    "    xlmr_prediction = xlmr_classifier(text)[0]\n",
    "    xlmr_pred_label = xlmr_prediction['label']\n",
    "    xlmr_confidence = xlmr_prediction['score'] * 100\n",
    "    print(f\"XLM-ROBERTa (QLORA) -> Predicted: {xlmr_pred_label.capitalize()} ({xlmr_confidence:.2f}%)\")\n",
    "\n"
   ],
   "outputs": [
    {
     "name": "stdout",
     "output_type": "stream",
     "text": [
      "\n",
      "--- Sample #1 ---\n",
      "Text: 'I love this product, it works perfectly!'\n",
      "Expected Label: positive\n",
      "--------------------\n",
      "Logistic Regression -> Predicted: Positive (80.93%)\n",
      "Random Forest       -> Predicted: Positive (75.70%)\n",
      "LSTM                -> Predicted: Positive (99.67%)\n",
      "Lightweight BERT    -> Predicted: Positive (98.58%)\n",
      "XLM-ROBERTa (QLORA) -> Predicted: Positive (99.76%)\n",
      "\n",
      "--- Sample #2 ---\n",
      "Text: 'Worst experience ever. Totally disappointed.'\n",
      "Expected Label: negative\n",
      "--------------------\n",
      "Logistic Regression -> Predicted: Positive (71.15%)\n",
      "Random Forest       -> Predicted: Positive (65.14%)\n",
      "LSTM                -> Predicted: Negative (100.00%)\n",
      "Lightweight BERT    -> Predicted: Positive (83.34%)\n",
      "XLM-ROBERTa (QLORA) -> Predicted: Negative (98.87%)\n",
      "\n",
      "--- Sample #3 ---\n",
      "Text: 'Ce produit est incroyable, je l'adore!'\n",
      "Expected Label: positive\n",
      "--------------------\n",
      "Logistic Regression -> Predicted: Positive (90.13%)\n",
      "Random Forest       -> Predicted: Positive (77.88%)\n",
      "LSTM                -> Predicted: Positive (97.36%)\n",
      "Lightweight BERT    -> Predicted: Positive (94.08%)\n",
      "XLM-ROBERTa (QLORA) -> Predicted: Positive (96.51%)\n",
      "\n",
      "--- Sample #4 ---\n",
      "Text: 'Très mauvaise qualité, je suis déçu.'\n",
      "Expected Label: negative\n",
      "--------------------\n",
      "Logistic Regression -> Predicted: Negative (94.51%)\n",
      "Random Forest       -> Predicted: Negative (67.97%)\n",
      "LSTM                -> Predicted: Negative (88.13%)\n",
      "Lightweight BERT    -> Predicted: Negative (96.29%)\n",
      "XLM-ROBERTa (QLORA) -> Predicted: Negative (97.75%)\n",
      "\n",
      "--- Sample #5 ---\n",
      "Text: 'Adorei este produto, funciona perfeitamente!'\n",
      "Expected Label: positive\n",
      "--------------------\n",
      "Logistic Regression -> Predicted: Positive (87.02%)\n",
      "Random Forest       -> Predicted: Positive (85.85%)\n",
      "LSTM                -> Predicted: Positive (69.93%)\n",
      "Lightweight BERT    -> Predicted: Positive (89.40%)\n",
      "XLM-ROBERTa (QLORA) -> Predicted: Positive (97.57%)\n",
      "\n",
      "--- Sample #6 ---\n",
      "Text: 'Não recomendo, péssima qualidade.'\n",
      "Expected Label: negative\n",
      "--------------------\n",
      "Logistic Regression -> Predicted: Positive (65.85%)\n",
      "Random Forest       -> Predicted: Positive (59.14%)\n",
      "LSTM                -> Predicted: Positive (99.99%)\n",
      "Lightweight BERT    -> Predicted: Negative (50.17%)\n",
      "XLM-ROBERTa (QLORA) -> Predicted: Negative (91.48%)\n"
     ]
    }
   ],
   "execution_count": 128
  },
  {
   "metadata": {},
   "cell_type": "code",
   "outputs": [],
   "execution_count": null,
   "source": ""
  }
 ]
}
