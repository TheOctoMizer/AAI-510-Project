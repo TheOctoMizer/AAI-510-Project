{
 "cells": [
  {
   "cell_type": "code",
   "execution_count": 2,
   "id": "initial_id",
   "metadata": {
    "ExecuteTime": {
     "end_time": "2025-06-04T14:25:42.731291Z",
     "start_time": "2025-06-04T14:25:42.726662Z"
    },
    "collapsed": true
   },
   "outputs": [],
   "source": [
    "import pandas as pd\n",
    "import numpy as np"
   ]
  },
  {
   "cell_type": "markdown",
   "id": "20d85556",
   "metadata": {},
   "source": [
    "# Twitter Game Dataset"
   ]
  },
  {
   "cell_type": "code",
   "execution_count": 5,
   "id": "9d37d04364b5caa2",
   "metadata": {
    "ExecuteTime": {
     "end_time": "2025-06-04T14:30:22.950745Z",
     "start_time": "2025-06-04T14:30:22.630465Z"
    }
   },
   "outputs": [
    {
     "data": {
      "text/plain": [
       "Index(['2401', 'Borderlands', 'Positive',\n",
       "       'im getting on borderlands and i will murder you all ,'],\n",
       "      dtype='object')"
      ]
     },
     "execution_count": 5,
     "metadata": {},
     "output_type": "execute_result"
    }
   ],
   "source": [
    "twitter_dataset = pd.read_csv('Datasets/twitter_training.csv')\n",
    "twitter_dataset.columns"
   ]
  },
  {
   "cell_type": "code",
   "execution_count": 6,
   "id": "38321ff3bac31d5a",
   "metadata": {},
   "outputs": [
    {
     "data": {
      "text/plain": [
       "Index(['Positive', 'im getting on borderlands and i will murder you all ,'], dtype='object')"
      ]
     },
     "execution_count": 6,
     "metadata": {},
     "output_type": "execute_result"
    }
   ],
   "source": [
    "twitter_dataset = twitter_dataset.drop(twitter_dataset.columns[0:2], axis=1)\n",
    "twitter_dataset.columns"
   ]
  },
  {
   "cell_type": "code",
   "execution_count": 7,
   "id": "5d561030",
   "metadata": {},
   "outputs": [
    {
     "data": {
      "text/html": [
       "<div>\n",
       "<style scoped>\n",
       "    .dataframe tbody tr th:only-of-type {\n",
       "        vertical-align: middle;\n",
       "    }\n",
       "\n",
       "    .dataframe tbody tr th {\n",
       "        vertical-align: top;\n",
       "    }\n",
       "\n",
       "    .dataframe thead th {\n",
       "        text-align: right;\n",
       "    }\n",
       "</style>\n",
       "<table border=\"1\" class=\"dataframe\">\n",
       "  <thead>\n",
       "    <tr style=\"text-align: right;\">\n",
       "      <th></th>\n",
       "      <th>label</th>\n",
       "      <th>text</th>\n",
       "    </tr>\n",
       "  </thead>\n",
       "  <tbody>\n",
       "    <tr>\n",
       "      <th>0</th>\n",
       "      <td>Positive</td>\n",
       "      <td>I am coming to the borders and I will kill you...</td>\n",
       "    </tr>\n",
       "    <tr>\n",
       "      <th>1</th>\n",
       "      <td>Positive</td>\n",
       "      <td>im getting on borderlands and i will kill you ...</td>\n",
       "    </tr>\n",
       "    <tr>\n",
       "      <th>2</th>\n",
       "      <td>Positive</td>\n",
       "      <td>im coming on borderlands and i will murder you...</td>\n",
       "    </tr>\n",
       "    <tr>\n",
       "      <th>3</th>\n",
       "      <td>Positive</td>\n",
       "      <td>im getting on borderlands 2 and i will murder ...</td>\n",
       "    </tr>\n",
       "    <tr>\n",
       "      <th>4</th>\n",
       "      <td>Positive</td>\n",
       "      <td>im getting into borderlands and i can murder y...</td>\n",
       "    </tr>\n",
       "  </tbody>\n",
       "</table>\n",
       "</div>"
      ],
      "text/plain": [
       "      label                                               text\n",
       "0  Positive  I am coming to the borders and I will kill you...\n",
       "1  Positive  im getting on borderlands and i will kill you ...\n",
       "2  Positive  im coming on borderlands and i will murder you...\n",
       "3  Positive  im getting on borderlands 2 and i will murder ...\n",
       "4  Positive  im getting into borderlands and i can murder y..."
      ]
     },
     "execution_count": 7,
     "metadata": {},
     "output_type": "execute_result"
    }
   ],
   "source": [
    "twitter_dataset.columns = ['label', 'text']\n",
    "twitter_dataset.head()"
   ]
  },
  {
   "cell_type": "code",
   "execution_count": 8,
   "id": "1219a15d",
   "metadata": {},
   "outputs": [
    {
     "name": "stdout",
     "output_type": "stream",
     "text": [
      "['Positive' 'Neutral' 'Negative' 'Irrelevant']\n"
     ]
    }
   ],
   "source": [
    "print(twitter_dataset['label'].unique())"
   ]
  },
  {
   "cell_type": "code",
   "execution_count": 10,
   "id": "5641866f",
   "metadata": {},
   "outputs": [
    {
     "name": "stdout",
     "output_type": "stream",
     "text": [
      "['Positive' 'Neutral' 'Negative']\n"
     ]
    }
   ],
   "source": [
    "twitter_dataset = twitter_dataset[twitter_dataset['label'] != 'Irrelevant']\n",
    "print(twitter_dataset['label'].unique())"
   ]
  },
  {
   "cell_type": "code",
   "execution_count": 11,
   "id": "c6f728f3",
   "metadata": {},
   "outputs": [
    {
     "name": "stdout",
     "output_type": "stream",
     "text": [
      "[1 2 0]\n"
     ]
    }
   ],
   "source": [
    "# Create a mapping dictionary for label conversion\n",
    "label_mapping = {\n",
    "    'Positive': 1,\n",
    "    'Negative': 0,\n",
    "    'Neutral': 2\n",
    "}\n",
    "\n",
    "# Convert labels using the mapping\n",
    "twitter_dataset['label'] = twitter_dataset['label'].map(label_mapping)\n",
    "print(twitter_dataset['label'].unique())"
   ]
  },
  {
   "cell_type": "code",
   "execution_count": 22,
   "id": "d7d1c9c3",
   "metadata": {},
   "outputs": [
    {
     "data": {
      "text/plain": [
       "label      0\n",
       "text     571\n",
       "dtype: int64"
      ]
     },
     "execution_count": 22,
     "metadata": {},
     "output_type": "execute_result"
    }
   ],
   "source": [
    "twitter_dataset.isnull().sum()"
   ]
  },
  {
   "cell_type": "code",
   "execution_count": 23,
   "id": "2e75c32c",
   "metadata": {},
   "outputs": [
    {
     "name": "stdout",
     "output_type": "stream",
     "text": [
      "(61120, 2)\n"
     ]
    }
   ],
   "source": [
    "twitter_dataset.dropna(inplace=True)\n",
    "print(twitter_dataset.shape)"
   ]
  },
  {
   "cell_type": "code",
   "execution_count": 24,
   "id": "85a10baa",
   "metadata": {},
   "outputs": [
    {
     "name": "stdout",
     "output_type": "stream",
     "text": [
      "Final dataset shape: (61120, 2)\n"
     ]
    }
   ],
   "source": [
    "# Save the processed dataset\n",
    "twitter_dataset.to_csv('Datasets/processed_twitter_dataset.csv', index=False)\n",
    "\n",
    "# Display the shape of the final dataset\n",
    "print(\"Final dataset shape:\", twitter_dataset.shape)"
   ]
  },
  {
   "cell_type": "markdown",
   "id": "914b9f9c",
   "metadata": {},
   "source": [
    "# Tweet Sentiment Analysis"
   ]
  },
  {
   "cell_type": "code",
   "execution_count": 14,
   "id": "07ae3a57",
   "metadata": {},
   "outputs": [
    {
     "data": {
      "text/plain": [
       "Index(['Text', 'Label'], dtype='object')"
      ]
     },
     "execution_count": 14,
     "metadata": {},
     "output_type": "execute_result"
    }
   ],
   "source": [
    "tweet_dataset = pd.read_csv('Datasets/TSA.csv')\n",
    "tweet_dataset.columns"
   ]
  },
  {
   "cell_type": "code",
   "execution_count": 17,
   "id": "c6acc621",
   "metadata": {},
   "outputs": [
    {
     "name": "stdout",
     "output_type": "stream",
     "text": [
      "['positive' 'negative' 'neutral']\n"
     ]
    }
   ],
   "source": [
    "print(tweet_dataset['Label'].unique())"
   ]
  },
  {
   "cell_type": "code",
   "execution_count": 19,
   "id": "03653c87",
   "metadata": {},
   "outputs": [
    {
     "name": "stdout",
     "output_type": "stream",
     "text": [
      "[1 0 2]\n"
     ]
    }
   ],
   "source": [
    "label_mapping = {\n",
    "    'positive': 1,\n",
    "    'negative': 0,\n",
    "    'neutral': 2\n",
    "}\n",
    "\n",
    "tweet_dataset['Label'] = tweet_dataset['Label'].map(label_mapping)\n",
    "print(tweet_dataset['Label'].unique())"
   ]
  },
  {
   "cell_type": "code",
   "execution_count": 20,
   "id": "30562db3",
   "metadata": {},
   "outputs": [
    {
     "name": "stdout",
     "output_type": "stream",
     "text": [
      "Index(['text', 'label'], dtype='object')\n"
     ]
    }
   ],
   "source": [
    "# Rename columns to match the format of twitter_dataset\n",
    "tweet_dataset = tweet_dataset.rename(columns={'Label': 'label', 'Text': 'text'})\n",
    "print(tweet_dataset.columns)"
   ]
  },
  {
   "cell_type": "code",
   "execution_count": 25,
   "id": "3887ce0f",
   "metadata": {},
   "outputs": [
    {
     "data": {
      "text/plain": [
       "text     4\n",
       "label    0\n",
       "dtype: int64"
      ]
     },
     "execution_count": 25,
     "metadata": {},
     "output_type": "execute_result"
    }
   ],
   "source": [
    "tweet_dataset.isnull().sum()"
   ]
  },
  {
   "cell_type": "code",
   "execution_count": 26,
   "id": "9cdc3c82",
   "metadata": {},
   "outputs": [
    {
     "name": "stdout",
     "output_type": "stream",
     "text": [
      "(691244, 2)\n"
     ]
    }
   ],
   "source": [
    "tweet_dataset.dropna(inplace=True)\n",
    "print(tweet_dataset.shape)"
   ]
  },
  {
   "cell_type": "code",
   "execution_count": 27,
   "id": "5a4912e5",
   "metadata": {},
   "outputs": [
    {
     "name": "stdout",
     "output_type": "stream",
     "text": [
      "Final tweet dataset shape: (691244, 2)\n"
     ]
    }
   ],
   "source": [
    "# Save the processed tweet dataset\n",
    "tweet_dataset.to_csv('Datasets/processed_tweet_dataset.csv', index=False)\n",
    "\n",
    "# Display the shape of the final dataset\n",
    "print(\"Final tweet dataset shape:\", tweet_dataset.shape)\n"
   ]
  },
  {
   "cell_type": "markdown",
   "id": "b18bc8b9",
   "metadata": {},
   "source": [
    "# French Tweets"
   ]
  },
  {
   "cell_type": "code",
   "execution_count": 28,
   "id": "b6437752",
   "metadata": {},
   "outputs": [
    {
     "data": {
      "text/plain": [
       "Index(['label', 'text'], dtype='object')"
      ]
     },
     "execution_count": 28,
     "metadata": {},
     "output_type": "execute_result"
    }
   ],
   "source": [
    "french_dataset = pd.read_csv('Datasets/french_tweets.csv')\n",
    "french_dataset.columns"
   ]
  },
  {
   "cell_type": "code",
   "execution_count": 29,
   "id": "19ff7050",
   "metadata": {},
   "outputs": [
    {
     "data": {
      "text/plain": [
       "label    0\n",
       "text     0\n",
       "dtype: int64"
      ]
     },
     "execution_count": 29,
     "metadata": {},
     "output_type": "execute_result"
    }
   ],
   "source": [
    "french_dataset.isna().sum()"
   ]
  },
  {
   "cell_type": "code",
   "execution_count": 30,
   "id": "f36a4043",
   "metadata": {},
   "outputs": [
    {
     "name": "stdout",
     "output_type": "stream",
     "text": [
      "Final French dataset shape: (1526724, 2)\n"
     ]
    }
   ],
   "source": [
    "# Save the processed French dataset\n",
    "french_dataset.to_csv('Datasets/processed_french_dataset.csv', index=False)\n",
    "\n",
    "# Display the shape of the final dataset\n",
    "print(\"Final French dataset shape:\", french_dataset.shape)\n"
   ]
  },
  {
   "cell_type": "markdown",
   "id": "c6583f8c",
   "metadata": {},
   "source": [
    "# Portuguese Tweets"
   ]
  },
  {
   "cell_type": "code",
   "execution_count": 33,
   "id": "69931124",
   "metadata": {},
   "outputs": [],
   "source": [
    "p_notheme_tweets = pd.read_csv('C:/Users/chyav/Uni/AAI-510/AAI-510-Project/Datasets/portuguese/NoThemeTweets.csv')\n",
    "p_tweets_neutral_hash = pd.read_csv('C:/Users/chyav/Uni/AAI-510/AAI-510-Project/Datasets/portuguese/TweetsNeutralHash.csv')\n",
    "p_tweets_neutral_news = pd.read_csv('C:/Users/chyav/Uni/AAI-510/AAI-510-Project/Datasets/portuguese/TweetsNeutralNews.csv')\n",
    "p_tweets_theme = pd.read_csv('C:/Users/chyav/Uni/AAI-510/AAI-510-Project/Datasets/portuguese/TweetsWithTheme.csv')"
   ]
  },
  {
   "cell_type": "code",
   "execution_count": 36,
   "id": "08406fe1",
   "metadata": {},
   "outputs": [
    {
     "data": {
      "text/html": [
       "<div>\n",
       "<style scoped>\n",
       "    .dataframe tbody tr th:only-of-type {\n",
       "        vertical-align: middle;\n",
       "    }\n",
       "\n",
       "    .dataframe tbody tr th {\n",
       "        vertical-align: top;\n",
       "    }\n",
       "\n",
       "    .dataframe thead th {\n",
       "        text-align: right;\n",
       "    }\n",
       "</style>\n",
       "<table border=\"1\" class=\"dataframe\">\n",
       "  <thead>\n",
       "    <tr style=\"text-align: right;\">\n",
       "      <th></th>\n",
       "      <th>id</th>\n",
       "      <th>tweet_text</th>\n",
       "      <th>tweet_date</th>\n",
       "      <th>sentiment</th>\n",
       "      <th>query_used</th>\n",
       "    </tr>\n",
       "  </thead>\n",
       "  <tbody>\n",
       "    <tr>\n",
       "      <th>0</th>\n",
       "      <td>1031761728445530112</td>\n",
       "      <td>@Tixaa23 14 para eu ir :)</td>\n",
       "      <td>Tue Aug 21 04:35:39 +0000 2018</td>\n",
       "      <td>Positivo</td>\n",
       "      <td>:)</td>\n",
       "    </tr>\n",
       "    <tr>\n",
       "      <th>1</th>\n",
       "      <td>1031761040462278656</td>\n",
       "      <td>@drexalvarez O meu like eu já dei na época :)</td>\n",
       "      <td>Tue Aug 21 04:32:55 +0000 2018</td>\n",
       "      <td>Positivo</td>\n",
       "      <td>:)</td>\n",
       "    </tr>\n",
       "    <tr>\n",
       "      <th>2</th>\n",
       "      <td>1031760962372689920</td>\n",
       "      <td>Eu só queria conseguir comer alguma coisa pra ...</td>\n",
       "      <td>Tue Aug 21 04:32:37 +0000 2018</td>\n",
       "      <td>Positivo</td>\n",
       "      <td>:)</td>\n",
       "    </tr>\n",
       "    <tr>\n",
       "      <th>3</th>\n",
       "      <td>1031760948250456066</td>\n",
       "      <td>:D que lindo dia !</td>\n",
       "      <td>Tue Aug 21 04:32:33 +0000 2018</td>\n",
       "      <td>Positivo</td>\n",
       "      <td>:)</td>\n",
       "    </tr>\n",
       "    <tr>\n",
       "      <th>4</th>\n",
       "      <td>1031760895985246208</td>\n",
       "      <td>@Primo_Resmungao Pq da pr jeito!!é uma \"oferta...</td>\n",
       "      <td>Tue Aug 21 04:32:21 +0000 2018</td>\n",
       "      <td>Positivo</td>\n",
       "      <td>:)</td>\n",
       "    </tr>\n",
       "  </tbody>\n",
       "</table>\n",
       "</div>"
      ],
      "text/plain": [
       "                    id                                         tweet_text  \\\n",
       "0  1031761728445530112                          @Tixaa23 14 para eu ir :)   \n",
       "1  1031761040462278656      @drexalvarez O meu like eu já dei na época :)   \n",
       "2  1031760962372689920  Eu só queria conseguir comer alguma coisa pra ...   \n",
       "3  1031760948250456066                                 :D que lindo dia !   \n",
       "4  1031760895985246208  @Primo_Resmungao Pq da pr jeito!!é uma \"oferta...   \n",
       "\n",
       "                       tweet_date sentiment query_used  \n",
       "0  Tue Aug 21 04:35:39 +0000 2018  Positivo         :)  \n",
       "1  Tue Aug 21 04:32:55 +0000 2018  Positivo         :)  \n",
       "2  Tue Aug 21 04:32:37 +0000 2018  Positivo         :)  \n",
       "3  Tue Aug 21 04:32:33 +0000 2018  Positivo         :)  \n",
       "4  Tue Aug 21 04:32:21 +0000 2018  Positivo         :)  "
      ]
     },
     "execution_count": 36,
     "metadata": {},
     "output_type": "execute_result"
    }
   ],
   "source": [
    "combined_portuguese_tweet_dataset = pd.concat([p_notheme_tweets, p_tweets_neutral_hash, p_tweets_neutral_news, p_tweets_theme])\n",
    "combined_portuguese_tweet_dataset.head()"
   ]
  },
  {
   "cell_type": "code",
   "execution_count": 38,
   "id": "8262c0d5",
   "metadata": {},
   "outputs": [
    {
     "data": {
      "text/plain": [
       "Index(['tweet_text', 'sentiment'], dtype='object')"
      ]
     },
     "execution_count": 38,
     "metadata": {},
     "output_type": "execute_result"
    }
   ],
   "source": [
    "combined_portuguese_tweet_dataset.drop(columns=['id', 'tweet_date', 'query_used'], inplace=True)\n",
    "combined_portuguese_tweet_dataset.columns"
   ]
  },
  {
   "cell_type": "code",
   "execution_count": 39,
   "id": "036296c1",
   "metadata": {},
   "outputs": [
    {
     "name": "stdout",
     "output_type": "stream",
     "text": [
      "['Positivo' 'Negativo' 'Neutro']\n"
     ]
    }
   ],
   "source": [
    "print(combined_portuguese_tweet_dataset['sentiment'].unique())"
   ]
  },
  {
   "cell_type": "code",
   "execution_count": 40,
   "id": "2dbc53a4",
   "metadata": {},
   "outputs": [
    {
     "name": "stdout",
     "output_type": "stream",
     "text": [
      "[1 0 2]\n"
     ]
    }
   ],
   "source": [
    "label_mapping = {\n",
    "    'Positivo': 1,\n",
    "    'Negativo': 0,\n",
    "    'Neutro': 2\n",
    "}\n",
    "\n",
    "combined_portuguese_tweet_dataset['sentiment'] = combined_portuguese_tweet_dataset['sentiment'].map(label_mapping)\n",
    "print(combined_portuguese_tweet_dataset['sentiment'].unique())"
   ]
  },
  {
   "cell_type": "code",
   "execution_count": 43,
   "id": "7a665ddb",
   "metadata": {},
   "outputs": [
    {
     "name": "stdout",
     "output_type": "stream",
     "text": [
      "Index(['text', 'label'], dtype='object')\n"
     ]
    }
   ],
   "source": [
    "combined_portuguese_tweet_dataset = combined_portuguese_tweet_dataset.rename(columns={'sentiment': 'label', 'tweet_text': 'text'})\n",
    "print(combined_portuguese_tweet_dataset.columns)"
   ]
  },
  {
   "cell_type": "code",
   "execution_count": 44,
   "id": "1ae9fdcc",
   "metadata": {},
   "outputs": [
    {
     "data": {
      "text/plain": [
       "text     0\n",
       "label    0\n",
       "dtype: int64"
      ]
     },
     "execution_count": 44,
     "metadata": {},
     "output_type": "execute_result"
    }
   ],
   "source": [
    "combined_portuguese_tweet_dataset.isnull().sum()"
   ]
  },
  {
   "cell_type": "code",
   "execution_count": 45,
   "id": "f816e87a",
   "metadata": {},
   "outputs": [
    {
     "name": "stdout",
     "output_type": "stream",
     "text": [
      "Dataset shape: (900688, 2)\n",
      "\n",
      "Label distribution:\n",
      "label\n",
      "0    551554\n",
      "1    295851\n",
      "2     53283\n",
      "Name: count, dtype: int64\n"
     ]
    }
   ],
   "source": [
    "# Save the combined Portuguese tweet dataset\n",
    "combined_portuguese_tweet_dataset.to_csv('C:/Users/chyav/Uni/AAI-510/AAI-510-Project/Datasets/portuguese/combined_portuguese_tweets.csv', index=False)\n",
    "\n",
    "# Print dataset info\n",
    "print(\"Dataset shape:\", combined_portuguese_tweet_dataset.shape)\n",
    "print(\"\\nLabel distribution:\")\n",
    "print(combined_portuguese_tweet_dataset['label'].value_counts())\n"
   ]
  },
  {
   "cell_type": "markdown",
   "id": "c3f86a65",
   "metadata": {},
   "source": [
    "# Portuguese Regular Dataset"
   ]
  },
  {
   "cell_type": "code",
   "execution_count": 51,
   "id": "1549f515",
   "metadata": {},
   "outputs": [],
   "source": [
    "regular_dataset_path = 'C:/Users/chyav/Uni/AAI-510/AAI-510-Project/Datasets/portuguese/regular'"
   ]
  },
  {
   "cell_type": "code",
   "execution_count": 54,
   "id": "a11de624",
   "metadata": {},
   "outputs": [],
   "source": [
    "import os"
   ]
  },
  {
   "cell_type": "code",
   "execution_count": 53,
   "id": "b35aac81",
   "metadata": {},
   "outputs": [],
   "source": [
    "regular_csv_files = [f for f in os.listdir(regular_dataset_path) if f.endswith('.csv')]"
   ]
  },
  {
   "cell_type": "code",
   "execution_count": 56,
   "id": "0d21c0c8",
   "metadata": {},
   "outputs": [
    {
     "name": "stdout",
     "output_type": "stream",
     "text": [
      "Loaded Train100.csv into variable 'Train100'\n",
      "Loaded Train200.csv into variable 'Train200'\n",
      "Loaded Train300.csv into variable 'Train300'\n",
      "Loaded Train3Classes.csv into variable 'Train3Classes'\n",
      "Loaded Train400.csv into variable 'Train400'\n",
      "Loaded Train50.csv into variable 'Train50'\n",
      "Loaded Train500.csv into variable 'Train500'\n",
      "Loaded TrainTema.csv into variable 'TrainTema'\n"
     ]
    }
   ],
   "source": [
    "for csv_file in regular_csv_files:\n",
    "    try:\n",
    "        # Create variable name from filename (remove .csv extension)\n",
    "        var_name = csv_file.replace('.csv', '')\n",
    "        # Load the CSV file with error handling for delimiter issues\n",
    "        globals()[var_name] = pd.read_csv(\n",
    "            os.path.join(regular_dataset_path, csv_file),\n",
    "            sep=None,  # Let pandas detect the separator\n",
    "            engine='python'  # Use python engine which is more flexible\n",
    "        )\n",
    "        print(f\"Loaded {csv_file} into variable '{var_name}'\")\n",
    "    except Exception as e:\n",
    "        print(f\"Error loading {csv_file}: {str(e)}\")"
   ]
  },
  {
   "cell_type": "code",
   "execution_count": 59,
   "id": "b0bf0f95",
   "metadata": {},
   "outputs": [
    {
     "name": "stdout",
     "output_type": "stream",
     "text": [
      "Combined regular dataset shape: (1700000, 5)\n"
     ]
    }
   ],
   "source": [
    "regular_datasets = [globals()[var_name] for var_name in [f.replace('.csv', '') for f in regular_csv_files]]\n"
   ]
  },
  {
   "cell_type": "code",
   "execution_count": 68,
   "id": "bade5a72",
   "metadata": {},
   "outputs": [],
   "source": [
    "combined_regular_dataset = pd.concat(regular_datasets, ignore_index=True)"
   ]
  },
  {
   "cell_type": "code",
   "execution_count": 69,
   "id": "4ed813e6",
   "metadata": {},
   "outputs": [
    {
     "name": "stdout",
     "output_type": "stream",
     "text": [
      "Combined regular dataset shape: (1700000, 5)\n"
     ]
    }
   ],
   "source": [
    "print(\"Combined regular dataset shape:\", combined_regular_dataset.shape)"
   ]
  },
  {
   "cell_type": "code",
   "execution_count": 70,
   "id": "b9af29bb",
   "metadata": {},
   "outputs": [
    {
     "data": {
      "text/plain": [
       "Index(['id', 'tweet_text', 'tweet_date', 'sentiment', 'query_used'], dtype='object')"
      ]
     },
     "execution_count": 70,
     "metadata": {},
     "output_type": "execute_result"
    }
   ],
   "source": [
    "combined_regular_dataset.columns"
   ]
  },
  {
   "cell_type": "code",
   "execution_count": 71,
   "id": "55ca82aa",
   "metadata": {},
   "outputs": [
    {
     "name": "stdout",
     "output_type": "stream",
     "text": [
      "sentiment\n",
      "1    833334\n",
      "0    833333\n",
      "2     33333\n",
      "Name: count, dtype: int64\n"
     ]
    }
   ],
   "source": [
    "print(combined_regular_dataset['sentiment'].value_counts())"
   ]
  },
  {
   "cell_type": "code",
   "execution_count": 73,
   "id": "8dadcc62",
   "metadata": {},
   "outputs": [
    {
     "data": {
      "text/plain": [
       "Index(['tweet_text', 'sentiment'], dtype='object')"
      ]
     },
     "execution_count": 73,
     "metadata": {},
     "output_type": "execute_result"
    }
   ],
   "source": [
    "combined_regular_dataset.drop(columns=['id', 'tweet_date', 'query_used'], inplace=True)\n",
    "combined_regular_dataset.columns"
   ]
  },
  {
   "cell_type": "code",
   "execution_count": 77,
   "id": "68cbfac4",
   "metadata": {},
   "outputs": [
    {
     "name": "stdout",
     "output_type": "stream",
     "text": [
      "Index(['text', 'label'], dtype='object')\n"
     ]
    }
   ],
   "source": [
    "combined_regular_dataset = combined_regular_dataset.rename(columns={'sentiment': 'label', 'tweet_text': 'text'})\n",
    "print(combined_regular_dataset.columns)"
   ]
  },
  {
   "cell_type": "code",
   "execution_count": 78,
   "id": "db166dd2",
   "metadata": {},
   "outputs": [
    {
     "data": {
      "text/plain": [
       "text     0\n",
       "label    0\n",
       "dtype: int64"
      ]
     },
     "execution_count": 78,
     "metadata": {},
     "output_type": "execute_result"
    }
   ],
   "source": [
    "combined_regular_dataset.isna().sum()"
   ]
  },
  {
   "cell_type": "code",
   "execution_count": 79,
   "id": "c72cfe76",
   "metadata": {},
   "outputs": [],
   "source": [
    "combined_regular_dataset.to_csv('C:/Users/chyav/Uni/AAI-510/AAI-510-Project/Datasets/portuguese/combined_regular_dataset.csv', index=False)"
   ]
  },
  {
   "cell_type": "code",
   "execution_count": 111,
   "id": "db404e16",
   "metadata": {},
   "outputs": [
    {
     "name": "stdout",
     "output_type": "stream",
     "text": [
      "Combined Portuguese dataset shape: (2600688, 2)\n"
     ]
    }
   ],
   "source": [
    "combined_portuguese = pd.concat([combined_regular_dataset, combined_portuguese_tweet_dataset], ignore_index=True)\n",
    "\n",
    "# Save the combined dataset\n",
    "combined_portuguese.to_csv('C:/Users/chyav/Uni/AAI-510/AAI-510-Project/Datasets/processed_portuguese_dataset.csv', index=False)\n",
    "\n",
    "# Print shape of combined dataset\n",
    "print(\"Combined Portuguese dataset shape:\", combined_portuguese.shape)\n"
   ]
  },
  {
   "cell_type": "code",
   "execution_count": 112,
   "id": "2a36e64c",
   "metadata": {},
   "outputs": [
    {
     "data": {
      "text/plain": [
       "text     0\n",
       "label    0\n",
       "dtype: int64"
      ]
     },
     "execution_count": 112,
     "metadata": {},
     "output_type": "execute_result"
    }
   ],
   "source": [
    "combined_portuguese.isna().sum()"
   ]
  },
  {
   "cell_type": "markdown",
   "id": "663a7aaf",
   "metadata": {},
   "source": [
    "# Nepali"
   ]
  },
  {
   "cell_type": "code",
   "execution_count": 85,
   "id": "11ddba16",
   "metadata": {},
   "outputs": [
    {
     "data": {
      "text/plain": [
       "Index(['Reviews', 'Emotion'], dtype='object')"
      ]
     },
     "execution_count": 85,
     "metadata": {},
     "output_type": "execute_result"
    }
   ],
   "source": [
    "nepali_dataset = pd.read_csv('C:/Users/chyav/Uni/AAI-510/AAI-510-Project/Datasets/nepalimoviereviews.csv')\n",
    "nepali_dataset.columns"
   ]
  },
  {
   "cell_type": "code",
   "execution_count": 86,
   "id": "17d9a516",
   "metadata": {},
   "outputs": [
    {
     "name": "stdout",
     "output_type": "stream",
     "text": [
      "Emotion\n",
      "1    367\n",
      "0    235\n",
      "Name: count, dtype: int64\n"
     ]
    }
   ],
   "source": [
    "print(nepali_dataset['Emotion'].value_counts())"
   ]
  },
  {
   "cell_type": "code",
   "execution_count": 87,
   "id": "16fbf051",
   "metadata": {},
   "outputs": [
    {
     "name": "stdout",
     "output_type": "stream",
     "text": [
      "Index(['text', 'label'], dtype='object')\n"
     ]
    }
   ],
   "source": [
    "nepali_dataset = nepali_dataset.rename(columns={'Emotion': 'label', 'Reviews': 'text'})\n",
    "print(nepali_dataset.columns)"
   ]
  },
  {
   "cell_type": "code",
   "execution_count": 92,
   "id": "56fad98c",
   "metadata": {},
   "outputs": [
    {
     "data": {
      "text/plain": [
       "text     0\n",
       "label    0\n",
       "dtype: int64"
      ]
     },
     "execution_count": 92,
     "metadata": {},
     "output_type": "execute_result"
    }
   ],
   "source": [
    "nepali_dataset.isna().sum()"
   ]
  },
  {
   "cell_type": "code",
   "execution_count": 88,
   "id": "1af3b0ca",
   "metadata": {},
   "outputs": [],
   "source": [
    "nepali_dataset.to_csv('C:/Users/chyav/Uni/AAI-510/AAI-510-Project/Datasets/processed_nepali_dataset.csv', index=False)"
   ]
  },
  {
   "cell_type": "markdown",
   "id": "7f69ea8b",
   "metadata": {},
   "source": [
    "# Hindi"
   ]
  },
  {
   "cell_type": "code",
   "execution_count": 114,
   "id": "8b732a82",
   "metadata": {},
   "outputs": [
    {
     "data": {
      "text/plain": [
       "Index(['text', 'experience'], dtype='object')"
      ]
     },
     "execution_count": 114,
     "metadata": {},
     "output_type": "execute_result"
    }
   ],
   "source": [
    "hindi_dataset = pd.read_csv('C:/Users/chyav/Uni/AAI-510/AAI-510-Project/Datasets/hindi.csv')\n",
    "hindi_dataset.columns"
   ]
  },
  {
   "cell_type": "code",
   "execution_count": 115,
   "id": "e2bab429",
   "metadata": {},
   "outputs": [
    {
     "name": "stdout",
     "output_type": "stream",
     "text": [
      "Index(['text', 'label'], dtype='object')\n"
     ]
    }
   ],
   "source": [
    "hindi_dataset = hindi_dataset.rename(columns={'experience': 'label', 'text': 'text'})\n",
    "print(hindi_dataset.columns)"
   ]
  },
  {
   "cell_type": "code",
   "execution_count": 116,
   "id": "fe58cb16",
   "metadata": {},
   "outputs": [
    {
     "name": "stdout",
     "output_type": "stream",
     "text": [
      "label\n",
      "2    273\n",
      "0    240\n",
      "1    205\n",
      "Name: count, dtype: int64\n"
     ]
    }
   ],
   "source": [
    "print(hindi_dataset['label'].value_counts())"
   ]
  },
  {
   "cell_type": "code",
   "execution_count": 117,
   "id": "ef894d11",
   "metadata": {},
   "outputs": [],
   "source": [
    "label_mapping = {\n",
    "    2: 1,\n",
    "    0: 0,\n",
    "    1: 2\n",
    "}\n",
    "hindi_dataset['label'] = hindi_dataset['label'].map(label_mapping)"
   ]
  },
  {
   "cell_type": "code",
   "execution_count": 118,
   "id": "b9d376f7",
   "metadata": {},
   "outputs": [
    {
     "name": "stdout",
     "output_type": "stream",
     "text": [
      "label\n",
      "1    273\n",
      "0    240\n",
      "2    205\n",
      "Name: count, dtype: int64\n"
     ]
    }
   ],
   "source": [
    "print(hindi_dataset['label'].value_counts())"
   ]
  },
  {
   "cell_type": "code",
   "execution_count": 119,
   "id": "18d8075f",
   "metadata": {},
   "outputs": [
    {
     "data": {
      "text/plain": [
       "text     0\n",
       "label    0\n",
       "dtype: int64"
      ]
     },
     "execution_count": 119,
     "metadata": {},
     "output_type": "execute_result"
    }
   ],
   "source": [
    "hindi_dataset.isna().sum()"
   ]
  },
  {
   "cell_type": "code",
   "execution_count": 120,
   "id": "79933754",
   "metadata": {},
   "outputs": [],
   "source": [
    "hindi_dataset.to_csv('C:/Users/chyav/Uni/AAI-510/AAI-510-Project/Datasets/processed_hindi_dataset.csv', index=False)"
   ]
  },
  {
   "cell_type": "markdown",
   "id": "37da4b26",
   "metadata": {},
   "source": [
    "# Nyka"
   ]
  },
  {
   "cell_type": "code",
   "execution_count": 125,
   "id": "ac102b19",
   "metadata": {},
   "outputs": [
    {
     "data": {
      "text/plain": [
       "Index(['content', 'sentiment_labels'], dtype='object')"
      ]
     },
     "execution_count": 125,
     "metadata": {},
     "output_type": "execute_result"
    }
   ],
   "source": [
    "nyka_dataset = pd.read_csv('C:/Users/chyav/Uni/AAI-510/AAI-510-Project/Datasets/nyka.csv')\n",
    "nyka_dataset.columns"
   ]
  },
  {
   "cell_type": "code",
   "execution_count": 126,
   "id": "a1d2d8c9",
   "metadata": {},
   "outputs": [
    {
     "name": "stdout",
     "output_type": "stream",
     "text": [
      "Index(['text', 'label'], dtype='object')\n"
     ]
    }
   ],
   "source": [
    "nyka_dataset = nyka_dataset.rename(columns={'sentiment_labels': 'label', 'content': 'text'})\n",
    "print(nyka_dataset.columns)"
   ]
  },
  {
   "cell_type": "code",
   "execution_count": 127,
   "id": "3c20cd9d",
   "metadata": {},
   "outputs": [
    {
     "name": "stdout",
     "output_type": "stream",
     "text": [
      "label\n",
      "POSITIVE    110458\n",
      "NEUTRAL      31276\n",
      "NEGATIVE     13810\n",
      "Name: count, dtype: int64\n"
     ]
    }
   ],
   "source": [
    "print(nyka_dataset['label'].value_counts())"
   ]
  },
  {
   "cell_type": "code",
   "execution_count": 128,
   "id": "9158fd43",
   "metadata": {},
   "outputs": [
    {
     "name": "stdout",
     "output_type": "stream",
     "text": [
      "[1 0 2]\n"
     ]
    }
   ],
   "source": [
    "label_mapping = {\n",
    "    \"POSITIVE\": 1,\n",
    "    \"NEGATIVE\": 0,\n",
    "    \"NEUTRAL\": 2\n",
    "}\n",
    "nyka_dataset['label'] = nyka_dataset['label'].map(label_mapping)\n",
    "print(nyka_dataset['label'].unique())"
   ]
  },
  {
   "cell_type": "code",
   "execution_count": 129,
   "id": "daf37390",
   "metadata": {},
   "outputs": [
    {
     "data": {
      "text/plain": [
       "text     7\n",
       "label    0\n",
       "dtype: int64"
      ]
     },
     "execution_count": 129,
     "metadata": {},
     "output_type": "execute_result"
    }
   ],
   "source": [
    "nyka_dataset.isna().sum()"
   ]
  },
  {
   "cell_type": "code",
   "execution_count": 130,
   "id": "25e0248a",
   "metadata": {},
   "outputs": [],
   "source": [
    "nyka_dataset.dropna(inplace=True)"
   ]
  },
  {
   "cell_type": "code",
   "execution_count": 131,
   "id": "8202e088",
   "metadata": {},
   "outputs": [
    {
     "data": {
      "text/plain": [
       "text     0\n",
       "label    0\n",
       "dtype: int64"
      ]
     },
     "execution_count": 131,
     "metadata": {},
     "output_type": "execute_result"
    }
   ],
   "source": [
    "nyka_dataset.isna().sum()\n"
   ]
  },
  {
   "cell_type": "code",
   "execution_count": 132,
   "id": "cf793394",
   "metadata": {},
   "outputs": [
    {
     "name": "stdout",
     "output_type": "stream",
     "text": [
      "label\n",
      "1    110453\n",
      "2     31274\n",
      "0     13810\n",
      "Name: count, dtype: int64\n"
     ]
    }
   ],
   "source": [
    "print(nyka_dataset['label'].value_counts())"
   ]
  },
  {
   "cell_type": "code",
   "execution_count": 133,
   "id": "b242b8ef",
   "metadata": {},
   "outputs": [],
   "source": [
    "nyka_dataset.to_csv('C:/Users/chyav/Uni/AAI-510/AAI-510-Project/Datasets/processed_nyka_dataset.csv', index=False)"
   ]
  },
  {
   "cell_type": "markdown",
   "id": "5b62d237",
   "metadata": {},
   "source": [
    "# Creating Single Dataset"
   ]
  },
  {
   "cell_type": "code",
   "execution_count": 135,
   "id": "78027162",
   "metadata": {},
   "outputs": [
    {
     "name": "stdout",
     "output_type": "stream",
     "text": [
      "Loaded processed_french_dataset.csv into variable 'french_dataset'\n",
      "Loaded processed_hindi_dataset.csv into variable 'hindi_dataset'\n",
      "Loaded processed_nepali_dataset.csv into variable 'nepali_dataset'\n",
      "Loaded processed_nyka_dataset.csv into variable 'nyka_dataset'\n",
      "Loaded processed_portuguese_dataset.csv into variable 'portuguese_dataset'\n",
      "Loaded processed_tweet_dataset.csv into variable 'tweet_dataset'\n",
      "Loaded processed_twitter_dataset.csv into variable 'twitter_dataset'\n"
     ]
    }
   ],
   "source": [
    "# Find all processed datasets\n",
    "processed_datasets = [f for f in os.listdir('C:/Users/chyav/Uni/AAI-510/AAI-510-Project/Datasets') if f.startswith('processed_')]\n",
    "\n",
    "# Load each dataset into a variable\n",
    "for dataset in processed_datasets:\n",
    "    # Create variable name by removing 'processed_' prefix and '.csv' extension\n",
    "    var_name = dataset.replace('processed_', '').replace('.csv', '')\n",
    "    # Load dataset into variable\n",
    "    globals()[var_name] = pd.read_csv(f'C:/Users/chyav/Uni/AAI-510/AAI-510-Project/Datasets/{dataset}')\n",
    "    print(f\"Loaded {dataset} into variable '{var_name}'\")\n"
   ]
  },
  {
   "cell_type": "code",
   "execution_count": 141,
   "id": "4b940b17",
   "metadata": {},
   "outputs": [],
   "source": [
    "# Combine all datasets into a single dataframe\n",
    "combined_dataset = pd.concat([\n",
    "    french_dataset,\n",
    "    hindi_dataset,\n",
    "    nepali_dataset,\n",
    "    nyka_dataset,\n",
    "    portuguese_dataset,\n",
    "    tweet_dataset,\n",
    "    twitter_dataset\n",
    "], ignore_index=True)"
   ]
  },
  {
   "cell_type": "code",
   "execution_count": 142,
   "id": "474cc4d9",
   "metadata": {},
   "outputs": [
    {
     "name": "stdout",
     "output_type": "stream",
     "text": [
      "Shape of combined dataset: (5036633, 2)\n",
      "\n",
      "Label distribution:\n",
      "label\n",
      "0    2437278\n",
      "1    2264566\n",
      "2     334789\n",
      "Name: count, dtype: int64\n"
     ]
    }
   ],
   "source": [
    "# Display basic information about the combined dataset\n",
    "print(\"Shape of combined dataset:\", combined_dataset.shape)\n",
    "print(\"\\nLabel distribution:\")\n",
    "print(combined_dataset['label'].value_counts())"
   ]
  },
  {
   "cell_type": "code",
   "execution_count": 143,
   "id": "c3c3357f",
   "metadata": {},
   "outputs": [
    {
     "data": {
      "text/plain": [
       "label    0\n",
       "text     0\n",
       "dtype: int64"
      ]
     },
     "execution_count": 143,
     "metadata": {},
     "output_type": "execute_result"
    }
   ],
   "source": [
    "combined_dataset.isna().sum()"
   ]
  },
  {
   "cell_type": "code",
   "execution_count": 144,
   "id": "728d70fb",
   "metadata": {},
   "outputs": [
    {
     "data": {
      "text/html": [
       "<div>\n",
       "<style scoped>\n",
       "    .dataframe tbody tr th:only-of-type {\n",
       "        vertical-align: middle;\n",
       "    }\n",
       "\n",
       "    .dataframe tbody tr th {\n",
       "        vertical-align: top;\n",
       "    }\n",
       "\n",
       "    .dataframe thead th {\n",
       "        text-align: right;\n",
       "    }\n",
       "</style>\n",
       "<table border=\"1\" class=\"dataframe\">\n",
       "  <thead>\n",
       "    <tr style=\"text-align: right;\">\n",
       "      <th></th>\n",
       "      <th>label</th>\n",
       "      <th>text</th>\n",
       "    </tr>\n",
       "  </thead>\n",
       "  <tbody>\n",
       "    <tr>\n",
       "      <th>0</th>\n",
       "      <td>0</td>\n",
       "      <td>- Awww, c'est un bummer. Tu devrais avoir davi...</td>\n",
       "    </tr>\n",
       "    <tr>\n",
       "      <th>1</th>\n",
       "      <td>0</td>\n",
       "      <td>Est contrarié qu'il ne puisse pas mettre à jou...</td>\n",
       "    </tr>\n",
       "    <tr>\n",
       "      <th>2</th>\n",
       "      <td>0</td>\n",
       "      <td>J'ai plongé plusieurs fois pour la balle. A ré...</td>\n",
       "    </tr>\n",
       "    <tr>\n",
       "      <th>3</th>\n",
       "      <td>0</td>\n",
       "      <td>Tout mon corps a des démangeaisons et comme si...</td>\n",
       "    </tr>\n",
       "    <tr>\n",
       "      <th>4</th>\n",
       "      <td>0</td>\n",
       "      <td>Non, il ne se comporte pas du tout. je suis en...</td>\n",
       "    </tr>\n",
       "  </tbody>\n",
       "</table>\n",
       "</div>"
      ],
      "text/plain": [
       "   label                                               text\n",
       "0      0  - Awww, c'est un bummer. Tu devrais avoir davi...\n",
       "1      0  Est contrarié qu'il ne puisse pas mettre à jou...\n",
       "2      0  J'ai plongé plusieurs fois pour la balle. A ré...\n",
       "3      0  Tout mon corps a des démangeaisons et comme si...\n",
       "4      0  Non, il ne se comporte pas du tout. je suis en..."
      ]
     },
     "execution_count": 144,
     "metadata": {},
     "output_type": "execute_result"
    }
   ],
   "source": [
    "combined_dataset.head()"
   ]
  },
  {
   "cell_type": "code",
   "execution_count": 154,
   "id": "ff49d49c",
   "metadata": {},
   "outputs": [
    {
     "data": {
      "text/html": [
       "<div>\n",
       "<style scoped>\n",
       "    .dataframe tbody tr th:only-of-type {\n",
       "        vertical-align: middle;\n",
       "    }\n",
       "\n",
       "    .dataframe tbody tr th {\n",
       "        vertical-align: top;\n",
       "    }\n",
       "\n",
       "    .dataframe thead th {\n",
       "        text-align: right;\n",
       "    }\n",
       "</style>\n",
       "<table border=\"1\" class=\"dataframe\">\n",
       "  <thead>\n",
       "    <tr style=\"text-align: right;\">\n",
       "      <th></th>\n",
       "      <th>label</th>\n",
       "      <th>text</th>\n",
       "    </tr>\n",
       "  </thead>\n",
       "  <tbody>\n",
       "    <tr>\n",
       "      <th>0</th>\n",
       "      <td>1</td>\n",
       "      <td>Se não querem o Varandas como Presidente caso ...</td>\n",
       "    </tr>\n",
       "    <tr>\n",
       "      <th>1</th>\n",
       "      <td>0</td>\n",
       "      <td>Le produit de Sony ne semble pas presque aussi...</td>\n",
       "    </tr>\n",
       "    <tr>\n",
       "      <th>2</th>\n",
       "      <td>1</td>\n",
       "      <td>Se alguém falar mal de ti pelas costas ..... P...</td>\n",
       "    </tr>\n",
       "    <tr>\n",
       "      <th>3</th>\n",
       "      <td>0</td>\n",
       "      <td>@HatanoSayuri Me obriga &amp;gt;:(</td>\n",
       "    </tr>\n",
       "    <tr>\n",
       "      <th>4</th>\n",
       "      <td>1</td>\n",
       "      <td>@mana_eliana Oi? Estou à espera :)</td>\n",
       "    </tr>\n",
       "  </tbody>\n",
       "</table>\n",
       "</div>"
      ],
      "text/plain": [
       "   label                                               text\n",
       "0      1  Se não querem o Varandas como Presidente caso ...\n",
       "1      0  Le produit de Sony ne semble pas presque aussi...\n",
       "2      1  Se alguém falar mal de ti pelas costas ..... P...\n",
       "3      0                     @HatanoSayuri Me obriga &gt;:(\n",
       "4      1                 @mana_eliana Oi? Estou à espera :)"
      ]
     },
     "execution_count": 154,
     "metadata": {},
     "output_type": "execute_result"
    }
   ],
   "source": [
    "# Randomize the dataset arrangement\n",
    "combined_dataset = combined_dataset.sample(frac=1, random_state=42).reset_index(drop=True)\n",
    "combined_dataset.head()"
   ]
  },
  {
   "cell_type": "code",
   "execution_count": 155,
   "id": "c3aff7e8",
   "metadata": {},
   "outputs": [],
   "source": [
    "# Save the combined dataset\n",
    "combined_dataset.to_csv('C:/Users/chyav/Uni/AAI-510/AAI-510-Project/Datasets/combined_dataset.csv', index=False)"
   ]
  },
  {
   "cell_type": "code",
   "execution_count": null,
   "id": "e9818236",
   "metadata": {},
   "outputs": [],
   "source": []
  }
 ],
 "metadata": {
  "kernelspec": {
   "display_name": ".venv",
   "language": "python",
   "name": "python3"
  },
  "language_info": {
   "codemirror_mode": {
    "name": "ipython",
    "version": 3
   },
   "file_extension": ".py",
   "mimetype": "text/x-python",
   "name": "python",
   "nbconvert_exporter": "python",
   "pygments_lexer": "ipython3",
   "version": "3.12.8"
  }
 },
 "nbformat": 4,
 "nbformat_minor": 5
}
