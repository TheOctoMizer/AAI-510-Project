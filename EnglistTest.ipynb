{
 "cells": [
  {
   "cell_type": "code",
   "metadata": {
    "ExecuteTime": {
     "end_time": "2025-06-17T12:14:02.239657Z",
     "start_time": "2025-06-17T12:13:56.215592Z"
    }
   },
   "source": [
    "from transformers import AutoTokenizer\n",
    "from peft import PeftModel\n",
    "from transformers import AutoModelForSequenceClassification\n",
    "import torch"
   ],
   "outputs": [],
   "execution_count": 1
  },
  {
   "cell_type": "code",
   "metadata": {
    "ExecuteTime": {
     "end_time": "2025-06-17T12:14:02.379286Z",
     "start_time": "2025-06-17T12:14:02.377707Z"
    }
   },
   "source": [
    "base_model_name = \"xlm-roberta-base\"\n",
    "lora_model_path = \"./English_DistilBERT_Model\""
   ],
   "outputs": [],
   "execution_count": 2
  },
  {
   "cell_type": "code",
   "metadata": {
    "ExecuteTime": {
     "end_time": "2025-06-17T12:14:02.770114Z",
     "start_time": "2025-06-17T12:14:02.392900Z"
    }
   },
   "source": [
    "tokenizer = AutoTokenizer.from_pretrained(lora_model_path)"
   ],
   "outputs": [],
   "execution_count": 3
  },
  {
   "cell_type": "code",
   "metadata": {
    "ExecuteTime": {
     "end_time": "2025-06-17T12:14:03.768606Z",
     "start_time": "2025-06-17T12:14:02.794745Z"
    }
   },
   "source": "base_model = AutoModelForSequenceClassification.from_pretrained(base_model_name, num_labels=2)",
   "outputs": [
    {
     "name": "stderr",
     "output_type": "stream",
     "text": [
      "Some weights of XLMRobertaForSequenceClassification were not initialized from the model checkpoint at xlm-roberta-base and are newly initialized: ['classifier.dense.bias', 'classifier.dense.weight', 'classifier.out_proj.bias', 'classifier.out_proj.weight']\n",
      "You should probably TRAIN this model on a down-stream task to be able to use it for predictions and inference.\n"
     ]
    }
   ],
   "execution_count": 4
  },
  {
   "cell_type": "code",
   "metadata": {
    "ExecuteTime": {
     "end_time": "2025-06-17T12:14:04.080939Z",
     "start_time": "2025-06-17T12:14:03.786703Z"
    }
   },
   "source": [
    "model = PeftModel.from_pretrained(base_model, lora_model_path)\n",
    "model.eval()\n",
    "device = torch.device(\"mps\" if torch.backends.mps.is_available() else \"cpu\")\n",
    "print(F\"Using: {device}\")\n",
    "model.to(device)"
   ],
   "outputs": [
    {
     "name": "stderr",
     "output_type": "stream",
     "text": [
      "/Users/chyavanshenoy/Desktop/UniProjectGithub/AAI-510-Project/.venv/lib/python3.12/site-packages/bitsandbytes/cextension.py:34: UserWarning: The installed version of bitsandbytes was compiled without GPU support. 8-bit optimizers, 8-bit multiplication, and GPU quantization are unavailable.\n",
      "  warn(\"The installed version of bitsandbytes was compiled without GPU support. \"\n"
     ]
    },
    {
     "name": "stdout",
     "output_type": "stream",
     "text": [
      "'NoneType' object has no attribute 'cadam32bit_grad_fp32'\n",
      "Using: mps\n"
     ]
    },
    {
     "data": {
      "text/plain": [
       "PeftModelForSequenceClassification(\n",
       "  (base_model): LoraModel(\n",
       "    (model): XLMRobertaForSequenceClassification(\n",
       "      (roberta): XLMRobertaModel(\n",
       "        (embeddings): XLMRobertaEmbeddings(\n",
       "          (word_embeddings): Embedding(250002, 768, padding_idx=1)\n",
       "          (position_embeddings): Embedding(514, 768, padding_idx=1)\n",
       "          (token_type_embeddings): Embedding(1, 768)\n",
       "          (LayerNorm): LayerNorm((768,), eps=1e-05, elementwise_affine=True)\n",
       "          (dropout): Dropout(p=0.1, inplace=False)\n",
       "        )\n",
       "        (encoder): XLMRobertaEncoder(\n",
       "          (layer): ModuleList(\n",
       "            (0-11): 12 x XLMRobertaLayer(\n",
       "              (attention): XLMRobertaAttention(\n",
       "                (self): XLMRobertaSdpaSelfAttention(\n",
       "                  (query): lora.Linear(\n",
       "                    (base_layer): Linear(in_features=768, out_features=768, bias=True)\n",
       "                    (lora_dropout): ModuleDict(\n",
       "                      (default): Dropout(p=0.05, inplace=False)\n",
       "                    )\n",
       "                    (lora_A): ModuleDict(\n",
       "                      (default): Linear(in_features=768, out_features=16, bias=False)\n",
       "                    )\n",
       "                    (lora_B): ModuleDict(\n",
       "                      (default): Linear(in_features=16, out_features=768, bias=False)\n",
       "                    )\n",
       "                    (lora_embedding_A): ParameterDict()\n",
       "                    (lora_embedding_B): ParameterDict()\n",
       "                    (lora_magnitude_vector): ModuleDict()\n",
       "                  )\n",
       "                  (key): Linear(in_features=768, out_features=768, bias=True)\n",
       "                  (value): lora.Linear(\n",
       "                    (base_layer): Linear(in_features=768, out_features=768, bias=True)\n",
       "                    (lora_dropout): ModuleDict(\n",
       "                      (default): Dropout(p=0.05, inplace=False)\n",
       "                    )\n",
       "                    (lora_A): ModuleDict(\n",
       "                      (default): Linear(in_features=768, out_features=16, bias=False)\n",
       "                    )\n",
       "                    (lora_B): ModuleDict(\n",
       "                      (default): Linear(in_features=16, out_features=768, bias=False)\n",
       "                    )\n",
       "                    (lora_embedding_A): ParameterDict()\n",
       "                    (lora_embedding_B): ParameterDict()\n",
       "                    (lora_magnitude_vector): ModuleDict()\n",
       "                  )\n",
       "                  (dropout): Dropout(p=0.1, inplace=False)\n",
       "                )\n",
       "                (output): XLMRobertaSelfOutput(\n",
       "                  (dense): Linear(in_features=768, out_features=768, bias=True)\n",
       "                  (LayerNorm): LayerNorm((768,), eps=1e-05, elementwise_affine=True)\n",
       "                  (dropout): Dropout(p=0.1, inplace=False)\n",
       "                )\n",
       "              )\n",
       "              (intermediate): XLMRobertaIntermediate(\n",
       "                (dense): Linear(in_features=768, out_features=3072, bias=True)\n",
       "                (intermediate_act_fn): GELUActivation()\n",
       "              )\n",
       "              (output): XLMRobertaOutput(\n",
       "                (dense): Linear(in_features=3072, out_features=768, bias=True)\n",
       "                (LayerNorm): LayerNorm((768,), eps=1e-05, elementwise_affine=True)\n",
       "                (dropout): Dropout(p=0.1, inplace=False)\n",
       "              )\n",
       "            )\n",
       "          )\n",
       "        )\n",
       "      )\n",
       "      (classifier): ModulesToSaveWrapper(\n",
       "        (original_module): XLMRobertaClassificationHead(\n",
       "          (dense): Linear(in_features=768, out_features=768, bias=True)\n",
       "          (dropout): Dropout(p=0.1, inplace=False)\n",
       "          (out_proj): Linear(in_features=768, out_features=2, bias=True)\n",
       "        )\n",
       "        (modules_to_save): ModuleDict(\n",
       "          (default): XLMRobertaClassificationHead(\n",
       "            (dense): Linear(in_features=768, out_features=768, bias=True)\n",
       "            (dropout): Dropout(p=0.1, inplace=False)\n",
       "            (out_proj): Linear(in_features=768, out_features=2, bias=True)\n",
       "          )\n",
       "        )\n",
       "      )\n",
       "    )\n",
       "  )\n",
       ")"
      ]
     },
     "execution_count": 5,
     "metadata": {},
     "output_type": "execute_result"
    }
   ],
   "execution_count": 5
  },
  {
   "cell_type": "code",
   "metadata": {
    "ExecuteTime": {
     "end_time": "2025-06-17T12:14:04.086137Z",
     "start_time": "2025-06-17T12:14:04.084329Z"
    }
   },
   "source": [
    "label_map = {\n",
    "    0: \"Negative\",\n",
    "    1: \"Positive\",\n",
    "    2: \"Neutral\"\n",
    "}"
   ],
   "outputs": [],
   "execution_count": 6
  },
  {
   "cell_type": "code",
   "metadata": {
    "ExecuteTime": {
     "end_time": "2025-06-17T12:14:04.121937Z",
     "start_time": "2025-06-17T12:14:04.119892Z"
    }
   },
   "source": [
    "def predict_sentiment(text):\n",
    "    inputs = tokenizer(text, return_tensors=\"pt\", truncation=True, padding=True)\n",
    "    inputs = {k: v.to(device) for k, v in inputs.items()}\n",
    "    with torch.no_grad():\n",
    "        outputs = model(**inputs)\n",
    "        logits = outputs.logits\n",
    "        predicted_class_id = logits.argmax().item()\n",
    "        return label_map[predicted_class_id]"
   ],
   "outputs": [],
   "execution_count": 7
  },
  {
   "cell_type": "code",
   "metadata": {
    "ExecuteTime": {
     "end_time": "2025-06-17T12:14:04.599639Z",
     "start_time": "2025-06-17T12:14:04.140290Z"
    }
   },
   "source": [
    "sample_texts = [\n",
    "    \"I absolutely loved this product!\",\n",
    "    \"I'm not happy with the service.\",\n",
    "    \"It's okay, nothing special.\",\n",
    "    \"Je suis très déçu du produit.\",\n",
    "    \"बहुत ही खराब अनुभव था।\",\n",
    "    \":(\",\n",
    "    \":)\",\n",
    "    \"Este produto é incrível!\",\n",
    "    \"This product is amazing!\",\n",
    "    \"Este produto é muito bom!\",\n",
    "    \"Este produto é muito ruim!\",\n",
    "]\n",
    "\n",
    "for text in sample_texts:\n",
    "    prediction = predict_sentiment(text)\n",
    "    print(f\"> \\\"{text}\\\" → {prediction}\")\n"
   ],
   "outputs": [
    {
     "name": "stdout",
     "output_type": "stream",
     "text": [
      "> \"I absolutely loved this product!\" → Positive\n",
      "> \"I'm not happy with the service.\" → Negative\n",
      "> \"It's okay, nothing special.\" → Positive\n",
      "> \"Je suis très déçu du produit.\" → Negative\n",
      "> \"बहुत ही खराब अनुभव था।\" → Negative\n",
      "> \":(\" → Negative\n",
      "> \":)\" → Positive\n",
      "> \"Este produto é incrível!\" → Positive\n",
      "> \"This product is amazing!\" → Positive\n",
      "> \"Este produto é muito bom!\" → Positive\n",
      "> \"Este produto é muito ruim!\" → Positive\n"
     ]
    }
   ],
   "execution_count": 8
  },
  {
   "cell_type": "code",
   "metadata": {
    "ExecuteTime": {
     "end_time": "2025-06-17T12:14:05.394782Z",
     "start_time": "2025-06-17T12:14:04.617806Z"
    }
   },
   "source": [
    "diagnostic_texts = {\n",
    "    # Category 1: Basic Polarity (Sanity Checks)\n",
    "    \"This is a fantastic development!\": \"Positive\",\n",
    "    \"I am incredibly happy and satisfied.\": \"Positive\",\n",
    "    \"This is a total disaster, a complete failure.\": \"Negative\",\n",
    "    \"I deeply regret this purchase.\": \"Negative\",\n",
    "    \"This is for testing purposes.\": \"Neutral\",\n",
    "\n",
    "    # Category 2: English Nuances (Negation, Conditionals, Sarcasm)\n",
    "    \"This is not good at all.\": \"Negative\",\n",
    "    \"I'm not dissatisfied with the result.\": \"Neutral\", # Double negative\n",
    "    \"I wouldn't call it the worst thing ever.\": \"Neutral\",\n",
    "    \"It's not the best, but it's not the worst either.\": \"Neutral\",\n",
    "    \"The product could have been better.\": \"Negative\",\n",
    "    \"Unless the quality improves, I won't buy again.\": \"Negative\",\n",
    "    \"Oh great, it arrived broken. Perfect.\": \"Negative\", # Sarcasm\n",
    "    \"The phone's camera is amazing, but the battery life is terrible.\": \"Negative\", # Mixed review, overall negative\n",
    "\n",
    "    # Category 3: Multilingual Tests (Testing the imbalance)\n",
    "    # Portuguese (Should be strong here if it's the dominant language)\n",
    "    \"Este serviço não é bom.\": \"Negative\",\n",
    "    \"A qualidade poderia ser muito melhor.\": \"Negative\",\n",
    "    \"Funciona exatamente como esperado.\": \"Neutral\",\n",
    "    \"Estou nem um pouco impressionado.\": \"Negative\",\n",
    "    \n",
    "    # French (Minority language)\n",
    "    \"Je ne le recommande pas du tout.\": \"Negative\",\n",
    "    \"Ce n'est pas mal, en fait.\": \"Neutral\", # \"It's not bad, actually\"\n",
    "\n",
    "    # Hindi (Statistically invisible language)\n",
    "    \"यह उत्पाद मुझे पसंद आया।\": \"Positive\",\n",
    "    \"सेवा अच्छी नहीं थी।\": \"Negative\",\n",
    "    \"यह ठीक-ठाक है, कुछ खास नहीं।\": \"Neutral\",\n",
    "\n",
    "    # Spanish (To test generalization to a related language)\n",
    "    \"¡Esto es maravilloso!\": \"Positive\",\n",
    "    \"No me gusta para nada.\": \"Negative\",\n",
    "\n",
    "    # Category 4: Emoticons, Slang, and Non-Standard Text\n",
    "    \"I am so sad :(\": \"Negative\",\n",
    "    \"This makes me very happy :D\": \"Positive\",\n",
    "    \"meh.\": \"Neutral\",\n",
    "    \"The service was just awful 👎\": \"Negative\",\n",
    "    \"Love it ❤️❤️❤️\": \"Positive\",\n",
    "    \"I am so angry right now 😠\": \"Negative\",\n",
    "    \"hmmm 🤔 not sure what to think\": \"Neutral\",\n",
    "    \"this prodict is amzang\": \"Positive\", # Typo test\n",
    "}\n",
    "\n",
    "for text in diagnostic_texts:\n",
    "    prediction = predict_sentiment(text)\n",
    "    print(f\"> \\\"{text}\\\" → {prediction}\")"
   ],
   "outputs": [
    {
     "name": "stdout",
     "output_type": "stream",
     "text": [
      "> \"This is a fantastic development!\" → Positive\n",
      "> \"I am incredibly happy and satisfied.\" → Positive\n",
      "> \"This is a total disaster, a complete failure.\" → Negative\n",
      "> \"I deeply regret this purchase.\" → Negative\n",
      "> \"This is for testing purposes.\" → Positive\n",
      "> \"This is not good at all.\" → Positive\n",
      "> \"I'm not dissatisfied with the result.\" → Negative\n",
      "> \"I wouldn't call it the worst thing ever.\" → Negative\n",
      "> \"It's not the best, but it's not the worst either.\" → Positive\n",
      "> \"The product could have been better.\" → Positive\n",
      "> \"Unless the quality improves, I won't buy again.\" → Positive\n",
      "> \"Oh great, it arrived broken. Perfect.\" → Negative\n",
      "> \"The phone's camera is amazing, but the battery life is terrible.\" → Negative\n",
      "> \"Este serviço não é bom.\" → Negative\n",
      "> \"A qualidade poderia ser muito melhor.\" → Positive\n",
      "> \"Funciona exatamente como esperado.\" → Positive\n",
      "> \"Estou nem um pouco impressionado.\" → Negative\n",
      "> \"Je ne le recommande pas du tout.\" → Negative\n",
      "> \"Ce n'est pas mal, en fait.\" → Positive\n",
      "> \"यह उत्पाद मुझे पसंद आया।\" → Positive\n",
      "> \"सेवा अच्छी नहीं थी।\" → Negative\n",
      "> \"यह ठीक-ठाक है, कुछ खास नहीं।\" → Positive\n",
      "> \"¡Esto es maravilloso!\" → Positive\n",
      "> \"No me gusta para nada.\" → Negative\n",
      "> \"I am so sad :(\" → Negative\n",
      "> \"This makes me very happy :D\" → Positive\n",
      "> \"meh.\" → Positive\n",
      "> \"The service was just awful 👎\" → Negative\n",
      "> \"Love it ❤️❤️❤️\" → Positive\n",
      "> \"I am so angry right now 😠\" → Negative\n",
      "> \"hmmm 🤔 not sure what to think\" → Positive\n",
      "> \"this prodict is amzang\" → Negative\n"
     ]
    }
   ],
   "execution_count": 9
  },
  {
   "cell_type": "code",
   "metadata": {
    "ExecuteTime": {
     "end_time": "2025-06-15T18:00:36.333183Z",
     "start_time": "2025-06-15T18:00:36.331966Z"
    }
   },
   "source": [],
   "outputs": [],
   "execution_count": null
  }
 ],
 "metadata": {
  "kernelspec": {
   "display_name": ".venv",
   "language": "python",
   "name": "python3"
  },
  "language_info": {
   "codemirror_mode": {
    "name": "ipython",
    "version": 3
   },
   "file_extension": ".py",
   "mimetype": "text/x-python",
   "name": "python",
   "nbconvert_exporter": "python",
   "pygments_lexer": "ipython3",
   "version": "3.12.8"
  }
 },
 "nbformat": 4,
 "nbformat_minor": 2
}
