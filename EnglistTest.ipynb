{
 "cells": [
  {
   "cell_type": "code",
   "execution_count": 10,
   "metadata": {},
   "outputs": [],
   "source": [
    "from transformers import AutoTokenizer\n",
    "from peft import PeftModel\n",
    "from transformers import AutoModelForSequenceClassification\n",
    "import torch"
   ]
  },
  {
   "cell_type": "code",
   "execution_count": 11,
   "metadata": {},
   "outputs": [],
   "source": [
    "base_model_name = \"distilbert-base-uncased\"\n",
    "lora_model_path = \"./English_DistilBERT_Model\""
   ]
  },
  {
   "cell_type": "code",
   "execution_count": 12,
   "metadata": {},
   "outputs": [],
   "source": [
    "tokenizer = AutoTokenizer.from_pretrained(lora_model_path)"
   ]
  },
  {
   "cell_type": "code",
   "execution_count": 13,
   "metadata": {},
   "outputs": [
    {
     "name": "stderr",
     "output_type": "stream",
     "text": [
      "Some weights of DistilBertForSequenceClassification were not initialized from the model checkpoint at distilbert-base-uncased and are newly initialized: ['classifier.bias', 'classifier.weight', 'pre_classifier.bias', 'pre_classifier.weight']\n",
      "You should probably TRAIN this model on a down-stream task to be able to use it for predictions and inference.\n"
     ]
    }
   ],
   "source": [
    "base_model = AutoModelForSequenceClassification.from_pretrained(base_model_name, num_labels=3)"
   ]
  },
  {
   "cell_type": "code",
   "execution_count": 14,
   "metadata": {},
   "outputs": [
    {
     "name": "stdout",
     "output_type": "stream",
     "text": [
      "Using: mps\n"
     ]
    },
    {
     "data": {
      "text/plain": [
       "PeftModelForSequenceClassification(\n",
       "  (base_model): LoraModel(\n",
       "    (model): DistilBertForSequenceClassification(\n",
       "      (distilbert): DistilBertModel(\n",
       "        (embeddings): Embeddings(\n",
       "          (word_embeddings): Embedding(30522, 768, padding_idx=0)\n",
       "          (position_embeddings): Embedding(512, 768)\n",
       "          (LayerNorm): LayerNorm((768,), eps=1e-12, elementwise_affine=True)\n",
       "          (dropout): Dropout(p=0.1, inplace=False)\n",
       "        )\n",
       "        (transformer): Transformer(\n",
       "          (layer): ModuleList(\n",
       "            (0-5): 6 x TransformerBlock(\n",
       "              (attention): DistilBertSdpaAttention(\n",
       "                (dropout): Dropout(p=0.1, inplace=False)\n",
       "                (q_lin): lora.Linear(\n",
       "                  (base_layer): Linear(in_features=768, out_features=768, bias=True)\n",
       "                  (lora_dropout): ModuleDict(\n",
       "                    (default): Dropout(p=0.05, inplace=False)\n",
       "                  )\n",
       "                  (lora_A): ModuleDict(\n",
       "                    (default): Linear(in_features=768, out_features=16, bias=False)\n",
       "                  )\n",
       "                  (lora_B): ModuleDict(\n",
       "                    (default): Linear(in_features=16, out_features=768, bias=False)\n",
       "                  )\n",
       "                  (lora_embedding_A): ParameterDict()\n",
       "                  (lora_embedding_B): ParameterDict()\n",
       "                  (lora_magnitude_vector): ModuleDict()\n",
       "                )\n",
       "                (k_lin): Linear(in_features=768, out_features=768, bias=True)\n",
       "                (v_lin): lora.Linear(\n",
       "                  (base_layer): Linear(in_features=768, out_features=768, bias=True)\n",
       "                  (lora_dropout): ModuleDict(\n",
       "                    (default): Dropout(p=0.05, inplace=False)\n",
       "                  )\n",
       "                  (lora_A): ModuleDict(\n",
       "                    (default): Linear(in_features=768, out_features=16, bias=False)\n",
       "                  )\n",
       "                  (lora_B): ModuleDict(\n",
       "                    (default): Linear(in_features=16, out_features=768, bias=False)\n",
       "                  )\n",
       "                  (lora_embedding_A): ParameterDict()\n",
       "                  (lora_embedding_B): ParameterDict()\n",
       "                  (lora_magnitude_vector): ModuleDict()\n",
       "                )\n",
       "                (out_lin): Linear(in_features=768, out_features=768, bias=True)\n",
       "              )\n",
       "              (sa_layer_norm): LayerNorm((768,), eps=1e-12, elementwise_affine=True)\n",
       "              (ffn): FFN(\n",
       "                (dropout): Dropout(p=0.1, inplace=False)\n",
       "                (lin1): Linear(in_features=768, out_features=3072, bias=True)\n",
       "                (lin2): Linear(in_features=3072, out_features=768, bias=True)\n",
       "                (activation): GELUActivation()\n",
       "              )\n",
       "              (output_layer_norm): LayerNorm((768,), eps=1e-12, elementwise_affine=True)\n",
       "            )\n",
       "          )\n",
       "        )\n",
       "      )\n",
       "      (pre_classifier): ModulesToSaveWrapper(\n",
       "        (original_module): Linear(in_features=768, out_features=768, bias=True)\n",
       "        (modules_to_save): ModuleDict(\n",
       "          (default): Linear(in_features=768, out_features=768, bias=True)\n",
       "        )\n",
       "      )\n",
       "      (classifier): ModulesToSaveWrapper(\n",
       "        (original_module): Linear(in_features=768, out_features=3, bias=True)\n",
       "        (modules_to_save): ModuleDict(\n",
       "          (default): Linear(in_features=768, out_features=3, bias=True)\n",
       "        )\n",
       "      )\n",
       "      (dropout): Dropout(p=0.2, inplace=False)\n",
       "    )\n",
       "  )\n",
       ")"
      ]
     },
     "execution_count": 14,
     "metadata": {},
     "output_type": "execute_result"
    }
   ],
   "source": [
    "model = PeftModel.from_pretrained(base_model, lora_model_path)\n",
    "model.eval()\n",
    "device = torch.device(\"mps\" if torch.backends.mps.is_available() else \"cpu\")\n",
    "print(F\"Using: {device}\")\n",
    "model.to(device)"
   ]
  },
  {
   "cell_type": "code",
   "execution_count": 15,
   "metadata": {},
   "outputs": [],
   "source": [
    "label_map = {\n",
    "    0: \"Negative\",\n",
    "    1: \"Positive\",\n",
    "    2: \"Neutral\"\n",
    "}"
   ]
  },
  {
   "cell_type": "code",
   "execution_count": 16,
   "metadata": {},
   "outputs": [],
   "source": [
    "def predict_sentiment(text):\n",
    "    inputs = tokenizer(text, return_tensors=\"pt\", truncation=True, padding=True)\n",
    "    inputs = {k: v.to(device) for k, v in inputs.items()}\n",
    "    with torch.no_grad():\n",
    "        outputs = model(**inputs)\n",
    "        logits = outputs.logits\n",
    "        predicted_class_id = logits.argmax().item()\n",
    "        return label_map[predicted_class_id]"
   ]
  },
  {
   "cell_type": "code",
   "execution_count": 17,
   "metadata": {},
   "outputs": [
    {
     "name": "stdout",
     "output_type": "stream",
     "text": [
      "> \"I absolutely loved this product!\" → Positive\n",
      "> \"I'm not happy with the service.\" → Negative\n",
      "> \"It's okay, nothing special.\" → Positive\n",
      "> \"Je suis très déçu du produit.\" → Negative\n",
      "> \"बहुत ही खराब अनुभव था।\" → Negative\n",
      "> \":(\" → Negative\n",
      "> \":)\" → Negative\n",
      "> \"Este produto é incrível!\" → Negative\n",
      "> \"This product is amazing!\" → Positive\n",
      "> \"Este produto é muito bom!\" → Negative\n",
      "> \"Este produto é muito ruim!\" → Negative\n"
     ]
    }
   ],
   "source": [
    "sample_texts = [\n",
    "    \"I absolutely loved this product!\",\n",
    "    \"I'm not happy with the service.\",\n",
    "    \"It's okay, nothing special.\",\n",
    "    \"Je suis très déçu du produit.\",\n",
    "    \"बहुत ही खराब अनुभव था।\",\n",
    "    \":(\",\n",
    "    \":)\",\n",
    "    \"Este produto é incrível!\",\n",
    "    \"This product is amazing!\",\n",
    "    \"Este produto é muito bom!\",\n",
    "    \"Este produto é muito ruim!\",\n",
    "]\n",
    "\n",
    "for text in sample_texts:\n",
    "    prediction = predict_sentiment(text)\n",
    "    print(f\"> \\\"{text}\\\" → {prediction}\")\n"
   ]
  },
  {
   "cell_type": "code",
   "execution_count": 18,
   "metadata": {},
   "outputs": [
    {
     "name": "stdout",
     "output_type": "stream",
     "text": [
      "> \"This is a fantastic development!\" → Positive\n",
      "> \"I am incredibly happy and satisfied.\" → Positive\n",
      "> \"This is a total disaster, a complete failure.\" → Negative\n",
      "> \"I deeply regret this purchase.\" → Negative\n",
      "> \"This is for testing purposes.\" → Negative\n",
      "> \"This is not good at all.\" → Positive\n",
      "> \"I'm not dissatisfied with the result.\" → Negative\n",
      "> \"I wouldn't call it the worst thing ever.\" → Negative\n",
      "> \"It's not the best, but it's not the worst either.\" → Positive\n",
      "> \"The product could have been better.\" → Positive\n",
      "> \"Unless the quality improves, I won't buy again.\" → Positive\n",
      "> \"Oh great, it arrived broken. Perfect.\" → Negative\n",
      "> \"The phone's camera is amazing, but the battery life is terrible.\" → Positive\n",
      "> \"Este serviço não é bom.\" → Positive\n",
      "> \"A qualidade poderia ser muito melhor.\" → Negative\n",
      "> \"Funciona exatamente como esperado.\" → Negative\n",
      "> \"Estou nem um pouco impressionado.\" → Positive\n",
      "> \"Je ne le recommande pas du tout.\" → Negative\n",
      "> \"Ce n'est pas mal, en fait.\" → Negative\n",
      "> \"यह उत्पाद मुझे पसंद आया।\" → Negative\n",
      "> \"सेवा अच्छी नहीं थी।\" → Negative\n",
      "> \"यह ठीक-ठाक है, कुछ खास नहीं।\" → Negative\n",
      "> \"¡Esto es maravilloso!\" → Positive\n",
      "> \"No me gusta para nada.\" → Negative\n",
      "> \"I am so sad :(\" → Negative\n",
      "> \"This makes me very happy :D\" → Positive\n",
      "> \"meh.\" → Negative\n",
      "> \"The service was just awful 👎\" → Negative\n",
      "> \"Love it ❤️❤️❤️\" → Positive\n",
      "> \"I am so angry right now 😠\" → Negative\n",
      "> \"hmmm 🤔 not sure what to think\" → Negative\n",
      "> \"this prodict is amzang\" → Negative\n"
     ]
    }
   ],
   "source": [
    "diagnostic_texts = {\n",
    "    # Category 1: Basic Polarity (Sanity Checks)\n",
    "    \"This is a fantastic development!\": \"Positive\",\n",
    "    \"I am incredibly happy and satisfied.\": \"Positive\",\n",
    "    \"This is a total disaster, a complete failure.\": \"Negative\",\n",
    "    \"I deeply regret this purchase.\": \"Negative\",\n",
    "    \"This is for testing purposes.\": \"Neutral\",\n",
    "\n",
    "    # Category 2: English Nuances (Negation, Conditionals, Sarcasm)\n",
    "    \"This is not good at all.\": \"Negative\",\n",
    "    \"I'm not dissatisfied with the result.\": \"Neutral\", # Double negative\n",
    "    \"I wouldn't call it the worst thing ever.\": \"Neutral\",\n",
    "    \"It's not the best, but it's not the worst either.\": \"Neutral\",\n",
    "    \"The product could have been better.\": \"Negative\",\n",
    "    \"Unless the quality improves, I won't buy again.\": \"Negative\",\n",
    "    \"Oh great, it arrived broken. Perfect.\": \"Negative\", # Sarcasm\n",
    "    \"The phone's camera is amazing, but the battery life is terrible.\": \"Negative\", # Mixed review, overall negative\n",
    "\n",
    "    # Category 3: Multilingual Tests (Testing the imbalance)\n",
    "    # Portuguese (Should be strong here if it's the dominant language)\n",
    "    \"Este serviço não é bom.\": \"Negative\",\n",
    "    \"A qualidade poderia ser muito melhor.\": \"Negative\",\n",
    "    \"Funciona exatamente como esperado.\": \"Neutral\",\n",
    "    \"Estou nem um pouco impressionado.\": \"Negative\",\n",
    "    \n",
    "    # French (Minority language)\n",
    "    \"Je ne le recommande pas du tout.\": \"Negative\",\n",
    "    \"Ce n'est pas mal, en fait.\": \"Neutral\", # \"It's not bad, actually\"\n",
    "\n",
    "    # Hindi (Statistically invisible language)\n",
    "    \"यह उत्पाद मुझे पसंद आया।\": \"Positive\",\n",
    "    \"सेवा अच्छी नहीं थी।\": \"Negative\",\n",
    "    \"यह ठीक-ठाक है, कुछ खास नहीं।\": \"Neutral\",\n",
    "\n",
    "    # Spanish (To test generalization to a related language)\n",
    "    \"¡Esto es maravilloso!\": \"Positive\",\n",
    "    \"No me gusta para nada.\": \"Negative\",\n",
    "\n",
    "    # Category 4: Emoticons, Slang, and Non-Standard Text\n",
    "    \"I am so sad :(\": \"Negative\",\n",
    "    \"This makes me very happy :D\": \"Positive\",\n",
    "    \"meh.\": \"Neutral\",\n",
    "    \"The service was just awful 👎\": \"Negative\",\n",
    "    \"Love it ❤️❤️❤️\": \"Positive\",\n",
    "    \"I am so angry right now 😠\": \"Negative\",\n",
    "    \"hmmm 🤔 not sure what to think\": \"Neutral\",\n",
    "    \"this prodict is amzang\": \"Positive\", # Typo test\n",
    "}\n",
    "\n",
    "for text in diagnostic_texts:\n",
    "    prediction = predict_sentiment(text)\n",
    "    print(f\"> \\\"{text}\\\" → {prediction}\")"
   ]
  },
  {
   "cell_type": "code",
   "execution_count": null,
   "metadata": {},
   "outputs": [],
   "source": []
  }
 ],
 "metadata": {
  "kernelspec": {
   "display_name": ".venv",
   "language": "python",
   "name": "python3"
  },
  "language_info": {
   "codemirror_mode": {
    "name": "ipython",
    "version": 3
   },
   "file_extension": ".py",
   "mimetype": "text/x-python",
   "name": "python",
   "nbconvert_exporter": "python",
   "pygments_lexer": "ipython3",
   "version": "3.12.8"
  }
 },
 "nbformat": 4,
 "nbformat_minor": 2
}
